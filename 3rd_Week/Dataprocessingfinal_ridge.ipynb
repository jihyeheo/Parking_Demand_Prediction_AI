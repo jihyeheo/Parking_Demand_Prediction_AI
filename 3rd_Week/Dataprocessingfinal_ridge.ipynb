{
 "cells": [
  {
   "cell_type": "markdown",
   "metadata": {},
   "source": [
    "## Import Packages"
   ]
  },
  {
   "cell_type": "code",
   "execution_count": 230,
   "metadata": {},
   "outputs": [],
   "source": [
    "import pandas as pd\n",
    "import numpy as np\n",
    "from tqdm import tqdm\n",
    "import warnings\n",
    "warnings.filterwarnings('ignore')"
   ]
  },
  {
   "cell_type": "markdown",
   "metadata": {},
   "source": [
    "## Loading Data"
   ]
  },
  {
   "cell_type": "code",
   "execution_count": 231,
   "metadata": {},
   "outputs": [],
   "source": [
    "import pandas as pd\n",
    "\n",
    "train = pd.read_csv(\"C:/Users/hu612/Desktop/School/sooda/주차수요 예측 ai/dataset/train.csv\")\n",
    "test = pd.read_csv(\"C:/Users/hu612/Desktop/School/sooda/주차수요 예측 ai/dataset/test.csv\")\n",
    "age_gender = pd.read_csv(\"C:/Users/hu612/Desktop/School/sooda/주차수요 예측 ai/dataset/age_gender_info.csv\")"
   ]
  },
  {
   "cell_type": "code",
   "execution_count": 232,
   "metadata": {},
   "outputs": [
    {
     "data": {
      "text/plain": [
       "((2952, 15), (1022, 14), (16, 23))"
      ]
     },
     "execution_count": 232,
     "metadata": {},
     "output_type": "execute_result"
    }
   ],
   "source": [
    "#Checking data shape\n",
    "train.shape, test.shape , age_gender.shape"
   ]
  },
  {
   "cell_type": "code",
   "execution_count": 233,
   "metadata": {
    "scrolled": true
   },
   "outputs": [
    {
     "data": {
      "text/html": [
       "<div>\n",
       "<style scoped>\n",
       "    .dataframe tbody tr th:only-of-type {\n",
       "        vertical-align: middle;\n",
       "    }\n",
       "\n",
       "    .dataframe tbody tr th {\n",
       "        vertical-align: top;\n",
       "    }\n",
       "\n",
       "    .dataframe thead th {\n",
       "        text-align: right;\n",
       "    }\n",
       "</style>\n",
       "<table border=\"1\" class=\"dataframe\">\n",
       "  <thead>\n",
       "    <tr style=\"text-align: right;\">\n",
       "      <th></th>\n",
       "      <th>단지코드</th>\n",
       "      <th>총세대수</th>\n",
       "      <th>임대건물구분</th>\n",
       "      <th>지역</th>\n",
       "      <th>공급유형</th>\n",
       "      <th>전용면적</th>\n",
       "      <th>전용면적별세대수</th>\n",
       "      <th>공가수</th>\n",
       "      <th>자격유형</th>\n",
       "      <th>임대보증금</th>\n",
       "      <th>임대료</th>\n",
       "      <th>도보 10분거리 내 지하철역 수(환승노선 수 반영)</th>\n",
       "      <th>도보 10분거리 내 버스정류장 수</th>\n",
       "      <th>단지내주차면수</th>\n",
       "      <th>등록차량수</th>\n",
       "    </tr>\n",
       "  </thead>\n",
       "  <tbody>\n",
       "    <tr>\n",
       "      <th>0</th>\n",
       "      <td>C2483</td>\n",
       "      <td>900</td>\n",
       "      <td>아파트</td>\n",
       "      <td>경상북도</td>\n",
       "      <td>국민임대</td>\n",
       "      <td>39.72</td>\n",
       "      <td>134</td>\n",
       "      <td>38.0</td>\n",
       "      <td>A</td>\n",
       "      <td>15667000</td>\n",
       "      <td>103680</td>\n",
       "      <td>0.0</td>\n",
       "      <td>3.0</td>\n",
       "      <td>1425.0</td>\n",
       "      <td>1015.0</td>\n",
       "    </tr>\n",
       "    <tr>\n",
       "      <th>1</th>\n",
       "      <td>C2483</td>\n",
       "      <td>900</td>\n",
       "      <td>아파트</td>\n",
       "      <td>경상북도</td>\n",
       "      <td>국민임대</td>\n",
       "      <td>39.72</td>\n",
       "      <td>15</td>\n",
       "      <td>38.0</td>\n",
       "      <td>A</td>\n",
       "      <td>15667000</td>\n",
       "      <td>103680</td>\n",
       "      <td>0.0</td>\n",
       "      <td>3.0</td>\n",
       "      <td>1425.0</td>\n",
       "      <td>1015.0</td>\n",
       "    </tr>\n",
       "    <tr>\n",
       "      <th>2</th>\n",
       "      <td>C2483</td>\n",
       "      <td>900</td>\n",
       "      <td>아파트</td>\n",
       "      <td>경상북도</td>\n",
       "      <td>국민임대</td>\n",
       "      <td>51.93</td>\n",
       "      <td>385</td>\n",
       "      <td>38.0</td>\n",
       "      <td>A</td>\n",
       "      <td>27304000</td>\n",
       "      <td>184330</td>\n",
       "      <td>0.0</td>\n",
       "      <td>3.0</td>\n",
       "      <td>1425.0</td>\n",
       "      <td>1015.0</td>\n",
       "    </tr>\n",
       "    <tr>\n",
       "      <th>3</th>\n",
       "      <td>C2483</td>\n",
       "      <td>900</td>\n",
       "      <td>아파트</td>\n",
       "      <td>경상북도</td>\n",
       "      <td>국민임대</td>\n",
       "      <td>51.93</td>\n",
       "      <td>15</td>\n",
       "      <td>38.0</td>\n",
       "      <td>A</td>\n",
       "      <td>27304000</td>\n",
       "      <td>184330</td>\n",
       "      <td>0.0</td>\n",
       "      <td>3.0</td>\n",
       "      <td>1425.0</td>\n",
       "      <td>1015.0</td>\n",
       "    </tr>\n",
       "    <tr>\n",
       "      <th>4</th>\n",
       "      <td>C2483</td>\n",
       "      <td>900</td>\n",
       "      <td>아파트</td>\n",
       "      <td>경상북도</td>\n",
       "      <td>국민임대</td>\n",
       "      <td>51.93</td>\n",
       "      <td>41</td>\n",
       "      <td>38.0</td>\n",
       "      <td>A</td>\n",
       "      <td>27304000</td>\n",
       "      <td>184330</td>\n",
       "      <td>0.0</td>\n",
       "      <td>3.0</td>\n",
       "      <td>1425.0</td>\n",
       "      <td>1015.0</td>\n",
       "    </tr>\n",
       "  </tbody>\n",
       "</table>\n",
       "</div>"
      ],
      "text/plain": [
       "    단지코드  총세대수 임대건물구분    지역  공급유형   전용면적  전용면적별세대수   공가수 자격유형     임대보증금  \\\n",
       "0  C2483   900    아파트  경상북도  국민임대  39.72       134  38.0    A  15667000   \n",
       "1  C2483   900    아파트  경상북도  국민임대  39.72        15  38.0    A  15667000   \n",
       "2  C2483   900    아파트  경상북도  국민임대  51.93       385  38.0    A  27304000   \n",
       "3  C2483   900    아파트  경상북도  국민임대  51.93        15  38.0    A  27304000   \n",
       "4  C2483   900    아파트  경상북도  국민임대  51.93        41  38.0    A  27304000   \n",
       "\n",
       "      임대료  도보 10분거리 내 지하철역 수(환승노선 수 반영)  도보 10분거리 내 버스정류장 수  단지내주차면수   등록차량수  \n",
       "0  103680                           0.0                 3.0   1425.0  1015.0  \n",
       "1  103680                           0.0                 3.0   1425.0  1015.0  \n",
       "2  184330                           0.0                 3.0   1425.0  1015.0  \n",
       "3  184330                           0.0                 3.0   1425.0  1015.0  \n",
       "4  184330                           0.0                 3.0   1425.0  1015.0  "
      ]
     },
     "execution_count": 233,
     "metadata": {},
     "output_type": "execute_result"
    }
   ],
   "source": [
    "train.head()"
   ]
  },
  {
   "cell_type": "code",
   "execution_count": 234,
   "metadata": {
    "scrolled": true
   },
   "outputs": [
    {
     "data": {
      "text/html": [
       "<div>\n",
       "<style scoped>\n",
       "    .dataframe tbody tr th:only-of-type {\n",
       "        vertical-align: middle;\n",
       "    }\n",
       "\n",
       "    .dataframe tbody tr th {\n",
       "        vertical-align: top;\n",
       "    }\n",
       "\n",
       "    .dataframe thead th {\n",
       "        text-align: right;\n",
       "    }\n",
       "</style>\n",
       "<table border=\"1\" class=\"dataframe\">\n",
       "  <thead>\n",
       "    <tr style=\"text-align: right;\">\n",
       "      <th></th>\n",
       "      <th>단지코드</th>\n",
       "      <th>총세대수</th>\n",
       "      <th>임대건물구분</th>\n",
       "      <th>지역</th>\n",
       "      <th>공급유형</th>\n",
       "      <th>전용면적</th>\n",
       "      <th>전용면적별세대수</th>\n",
       "      <th>공가수</th>\n",
       "      <th>자격유형</th>\n",
       "      <th>임대보증금</th>\n",
       "      <th>임대료</th>\n",
       "      <th>도보 10분거리 내 지하철역 수(환승노선 수 반영)</th>\n",
       "      <th>도보 10분거리 내 버스정류장 수</th>\n",
       "      <th>단지내주차면수</th>\n",
       "    </tr>\n",
       "  </thead>\n",
       "  <tbody>\n",
       "    <tr>\n",
       "      <th>0</th>\n",
       "      <td>C1072</td>\n",
       "      <td>754</td>\n",
       "      <td>아파트</td>\n",
       "      <td>경기도</td>\n",
       "      <td>국민임대</td>\n",
       "      <td>39.79</td>\n",
       "      <td>116</td>\n",
       "      <td>14.0</td>\n",
       "      <td>H</td>\n",
       "      <td>22830000</td>\n",
       "      <td>189840</td>\n",
       "      <td>0.0</td>\n",
       "      <td>2.0</td>\n",
       "      <td>683.0</td>\n",
       "    </tr>\n",
       "    <tr>\n",
       "      <th>1</th>\n",
       "      <td>C1072</td>\n",
       "      <td>754</td>\n",
       "      <td>아파트</td>\n",
       "      <td>경기도</td>\n",
       "      <td>국민임대</td>\n",
       "      <td>46.81</td>\n",
       "      <td>30</td>\n",
       "      <td>14.0</td>\n",
       "      <td>A</td>\n",
       "      <td>36048000</td>\n",
       "      <td>249930</td>\n",
       "      <td>0.0</td>\n",
       "      <td>2.0</td>\n",
       "      <td>683.0</td>\n",
       "    </tr>\n",
       "    <tr>\n",
       "      <th>2</th>\n",
       "      <td>C1072</td>\n",
       "      <td>754</td>\n",
       "      <td>아파트</td>\n",
       "      <td>경기도</td>\n",
       "      <td>국민임대</td>\n",
       "      <td>46.90</td>\n",
       "      <td>112</td>\n",
       "      <td>14.0</td>\n",
       "      <td>H</td>\n",
       "      <td>36048000</td>\n",
       "      <td>249930</td>\n",
       "      <td>0.0</td>\n",
       "      <td>2.0</td>\n",
       "      <td>683.0</td>\n",
       "    </tr>\n",
       "    <tr>\n",
       "      <th>3</th>\n",
       "      <td>C1072</td>\n",
       "      <td>754</td>\n",
       "      <td>아파트</td>\n",
       "      <td>경기도</td>\n",
       "      <td>국민임대</td>\n",
       "      <td>46.90</td>\n",
       "      <td>120</td>\n",
       "      <td>14.0</td>\n",
       "      <td>H</td>\n",
       "      <td>36048000</td>\n",
       "      <td>249930</td>\n",
       "      <td>0.0</td>\n",
       "      <td>2.0</td>\n",
       "      <td>683.0</td>\n",
       "    </tr>\n",
       "    <tr>\n",
       "      <th>4</th>\n",
       "      <td>C1072</td>\n",
       "      <td>754</td>\n",
       "      <td>아파트</td>\n",
       "      <td>경기도</td>\n",
       "      <td>국민임대</td>\n",
       "      <td>51.46</td>\n",
       "      <td>60</td>\n",
       "      <td>14.0</td>\n",
       "      <td>H</td>\n",
       "      <td>43497000</td>\n",
       "      <td>296780</td>\n",
       "      <td>0.0</td>\n",
       "      <td>2.0</td>\n",
       "      <td>683.0</td>\n",
       "    </tr>\n",
       "  </tbody>\n",
       "</table>\n",
       "</div>"
      ],
      "text/plain": [
       "    단지코드  총세대수 임대건물구분   지역  공급유형   전용면적  전용면적별세대수   공가수 자격유형     임대보증금  \\\n",
       "0  C1072   754    아파트  경기도  국민임대  39.79       116  14.0    H  22830000   \n",
       "1  C1072   754    아파트  경기도  국민임대  46.81        30  14.0    A  36048000   \n",
       "2  C1072   754    아파트  경기도  국민임대  46.90       112  14.0    H  36048000   \n",
       "3  C1072   754    아파트  경기도  국민임대  46.90       120  14.0    H  36048000   \n",
       "4  C1072   754    아파트  경기도  국민임대  51.46        60  14.0    H  43497000   \n",
       "\n",
       "      임대료  도보 10분거리 내 지하철역 수(환승노선 수 반영)  도보 10분거리 내 버스정류장 수  단지내주차면수  \n",
       "0  189840                           0.0                 2.0    683.0  \n",
       "1  249930                           0.0                 2.0    683.0  \n",
       "2  249930                           0.0                 2.0    683.0  \n",
       "3  249930                           0.0                 2.0    683.0  \n",
       "4  296780                           0.0                 2.0    683.0  "
      ]
     },
     "execution_count": 234,
     "metadata": {},
     "output_type": "execute_result"
    }
   ],
   "source": [
    "test.head()"
   ]
  },
  {
   "cell_type": "code",
   "execution_count": 235,
   "metadata": {},
   "outputs": [
    {
     "data": {
      "text/html": [
       "<div>\n",
       "<style scoped>\n",
       "    .dataframe tbody tr th:only-of-type {\n",
       "        vertical-align: middle;\n",
       "    }\n",
       "\n",
       "    .dataframe tbody tr th {\n",
       "        vertical-align: top;\n",
       "    }\n",
       "\n",
       "    .dataframe thead th {\n",
       "        text-align: right;\n",
       "    }\n",
       "</style>\n",
       "<table border=\"1\" class=\"dataframe\">\n",
       "  <thead>\n",
       "    <tr style=\"text-align: right;\">\n",
       "      <th></th>\n",
       "      <th>지역</th>\n",
       "      <th>10대미만(여자)</th>\n",
       "      <th>10대미만(남자)</th>\n",
       "      <th>10대(여자)</th>\n",
       "      <th>10대(남자)</th>\n",
       "      <th>20대(여자)</th>\n",
       "      <th>20대(남자)</th>\n",
       "      <th>30대(여자)</th>\n",
       "      <th>30대(남자)</th>\n",
       "      <th>40대(여자)</th>\n",
       "      <th>...</th>\n",
       "      <th>60대(여자)</th>\n",
       "      <th>60대(남자)</th>\n",
       "      <th>70대(여자)</th>\n",
       "      <th>70대(남자)</th>\n",
       "      <th>80대(여자)</th>\n",
       "      <th>80대(남자)</th>\n",
       "      <th>90대(여자)</th>\n",
       "      <th>90대(남자)</th>\n",
       "      <th>100대(여자)</th>\n",
       "      <th>100대(남자)</th>\n",
       "    </tr>\n",
       "  </thead>\n",
       "  <tbody>\n",
       "    <tr>\n",
       "      <th>0</th>\n",
       "      <td>경상북도</td>\n",
       "      <td>0.030158</td>\n",
       "      <td>0.033195</td>\n",
       "      <td>0.056346</td>\n",
       "      <td>0.061360</td>\n",
       "      <td>0.060096</td>\n",
       "      <td>0.067859</td>\n",
       "      <td>0.053433</td>\n",
       "      <td>0.049572</td>\n",
       "      <td>0.083660</td>\n",
       "      <td>...</td>\n",
       "      <td>0.082684</td>\n",
       "      <td>0.063889</td>\n",
       "      <td>0.047717</td>\n",
       "      <td>0.030172</td>\n",
       "      <td>0.029361</td>\n",
       "      <td>0.011211</td>\n",
       "      <td>0.005578</td>\n",
       "      <td>0.001553</td>\n",
       "      <td>0.000234</td>\n",
       "      <td>0.000014</td>\n",
       "    </tr>\n",
       "    <tr>\n",
       "      <th>1</th>\n",
       "      <td>경상남도</td>\n",
       "      <td>0.027400</td>\n",
       "      <td>0.026902</td>\n",
       "      <td>0.053257</td>\n",
       "      <td>0.055568</td>\n",
       "      <td>0.064920</td>\n",
       "      <td>0.070618</td>\n",
       "      <td>0.056414</td>\n",
       "      <td>0.057550</td>\n",
       "      <td>0.077092</td>\n",
       "      <td>...</td>\n",
       "      <td>0.087201</td>\n",
       "      <td>0.069562</td>\n",
       "      <td>0.048357</td>\n",
       "      <td>0.033277</td>\n",
       "      <td>0.027361</td>\n",
       "      <td>0.011295</td>\n",
       "      <td>0.004910</td>\n",
       "      <td>0.001086</td>\n",
       "      <td>0.000179</td>\n",
       "      <td>0.000010</td>\n",
       "    </tr>\n",
       "    <tr>\n",
       "      <th>2</th>\n",
       "      <td>대전광역시</td>\n",
       "      <td>0.028197</td>\n",
       "      <td>0.029092</td>\n",
       "      <td>0.040490</td>\n",
       "      <td>0.042793</td>\n",
       "      <td>0.060834</td>\n",
       "      <td>0.064247</td>\n",
       "      <td>0.068654</td>\n",
       "      <td>0.066848</td>\n",
       "      <td>0.074667</td>\n",
       "      <td>...</td>\n",
       "      <td>0.088468</td>\n",
       "      <td>0.070261</td>\n",
       "      <td>0.051010</td>\n",
       "      <td>0.037143</td>\n",
       "      <td>0.032455</td>\n",
       "      <td>0.013751</td>\n",
       "      <td>0.006494</td>\n",
       "      <td>0.001740</td>\n",
       "      <td>0.000298</td>\n",
       "      <td>0.000066</td>\n",
       "    </tr>\n",
       "    <tr>\n",
       "      <th>3</th>\n",
       "      <td>경기도</td>\n",
       "      <td>0.038030</td>\n",
       "      <td>0.039507</td>\n",
       "      <td>0.052546</td>\n",
       "      <td>0.053990</td>\n",
       "      <td>0.058484</td>\n",
       "      <td>0.059894</td>\n",
       "      <td>0.072331</td>\n",
       "      <td>0.068704</td>\n",
       "      <td>0.083208</td>\n",
       "      <td>...</td>\n",
       "      <td>0.074237</td>\n",
       "      <td>0.058419</td>\n",
       "      <td>0.042422</td>\n",
       "      <td>0.032725</td>\n",
       "      <td>0.025136</td>\n",
       "      <td>0.012354</td>\n",
       "      <td>0.005390</td>\n",
       "      <td>0.001707</td>\n",
       "      <td>0.000290</td>\n",
       "      <td>0.000067</td>\n",
       "    </tr>\n",
       "    <tr>\n",
       "      <th>4</th>\n",
       "      <td>전라북도</td>\n",
       "      <td>0.028089</td>\n",
       "      <td>0.029065</td>\n",
       "      <td>0.059685</td>\n",
       "      <td>0.060080</td>\n",
       "      <td>0.066262</td>\n",
       "      <td>0.070322</td>\n",
       "      <td>0.052027</td>\n",
       "      <td>0.046596</td>\n",
       "      <td>0.077005</td>\n",
       "      <td>...</td>\n",
       "      <td>0.076636</td>\n",
       "      <td>0.068042</td>\n",
       "      <td>0.051025</td>\n",
       "      <td>0.035748</td>\n",
       "      <td>0.035049</td>\n",
       "      <td>0.012641</td>\n",
       "      <td>0.007223</td>\n",
       "      <td>0.001898</td>\n",
       "      <td>0.000158</td>\n",
       "      <td>0.000013</td>\n",
       "    </tr>\n",
       "  </tbody>\n",
       "</table>\n",
       "<p>5 rows × 23 columns</p>\n",
       "</div>"
      ],
      "text/plain": [
       "      지역  10대미만(여자)  10대미만(남자)   10대(여자)   10대(남자)   20대(여자)   20대(남자)  \\\n",
       "0   경상북도   0.030158   0.033195  0.056346  0.061360  0.060096  0.067859   \n",
       "1   경상남도   0.027400   0.026902  0.053257  0.055568  0.064920  0.070618   \n",
       "2  대전광역시   0.028197   0.029092  0.040490  0.042793  0.060834  0.064247   \n",
       "3    경기도   0.038030   0.039507  0.052546  0.053990  0.058484  0.059894   \n",
       "4   전라북도   0.028089   0.029065  0.059685  0.060080  0.066262  0.070322   \n",
       "\n",
       "    30대(여자)   30대(남자)   40대(여자)  ...   60대(여자)   60대(남자)   70대(여자)   70대(남자)  \\\n",
       "0  0.053433  0.049572  0.083660  ...  0.082684  0.063889  0.047717  0.030172   \n",
       "1  0.056414  0.057550  0.077092  ...  0.087201  0.069562  0.048357  0.033277   \n",
       "2  0.068654  0.066848  0.074667  ...  0.088468  0.070261  0.051010  0.037143   \n",
       "3  0.072331  0.068704  0.083208  ...  0.074237  0.058419  0.042422  0.032725   \n",
       "4  0.052027  0.046596  0.077005  ...  0.076636  0.068042  0.051025  0.035748   \n",
       "\n",
       "    80대(여자)   80대(남자)   90대(여자)   90대(남자)  100대(여자)  100대(남자)  \n",
       "0  0.029361  0.011211  0.005578  0.001553  0.000234  0.000014  \n",
       "1  0.027361  0.011295  0.004910  0.001086  0.000179  0.000010  \n",
       "2  0.032455  0.013751  0.006494  0.001740  0.000298  0.000066  \n",
       "3  0.025136  0.012354  0.005390  0.001707  0.000290  0.000067  \n",
       "4  0.035049  0.012641  0.007223  0.001898  0.000158  0.000013  \n",
       "\n",
       "[5 rows x 23 columns]"
      ]
     },
     "execution_count": 235,
     "metadata": {},
     "output_type": "execute_result"
    }
   ],
   "source": [
    "age_gender.head()"
   ]
  },
  {
   "cell_type": "markdown",
   "metadata": {},
   "source": [
    "# Feature Engineering"
   ]
  },
  {
   "cell_type": "markdown",
   "metadata": {},
   "source": [
    "### 컬럼명 변경"
   ]
  },
  {
   "cell_type": "code",
   "execution_count": 236,
   "metadata": {
    "scrolled": true
   },
   "outputs": [],
   "source": [
    "train=train.rename(columns={'도보 10분거리 내 지하철역 수(환승노선 수 반영)':'지하철'})\n",
    "train=train.rename(columns={'도보 10분거리 내 버스정류장 수':'버스'})\n",
    "train.columns\n",
    "test=test.rename(columns={'도보 10분거리 내 지하철역 수(환승노선 수 반영)':'지하철'})\n",
    "test=test.rename(columns={'도보 10분거리 내 버스정류장 수':'버스'})"
   ]
  },
  {
   "cell_type": "markdown",
   "metadata": {},
   "source": [
    "### 데이터 확인"
   ]
  },
  {
   "cell_type": "code",
   "execution_count": 237,
   "metadata": {},
   "outputs": [],
   "source": [
    "train['전용면적']=round(train['전용면적']*0.3025,0) #평수로 변환\n",
    "train['전용면적']=train['전용면적'].astype(int) #소수점아래가 없으므로 int자료형으로 바꿔주기\n",
    "test['전용면적']=round(test['전용면적']*0.3025,0) #평수로 변환\n",
    "test['전용면적']=test['전용면적'].astype(int) #소수점아래가 없으므로 int자료형으로 바꿔주기"
   ]
  },
  {
   "cell_type": "code",
   "execution_count": 238,
   "metadata": {},
   "outputs": [
    {
     "name": "stdout",
     "output_type": "stream",
     "text": [
      "['C1024', 'C1068', 'C1156', 'C1206', 'C1218', 'C1312', 'C1344', 'C1424', 'C1490', 'C1584', 'C1695', 'C1732', 'C1740', 'C1804', 'C1850', 'C1894', 'C1910', 'C1925', 'C1970', 'C2013', 'C2139', 'C2142', 'C2156', 'C2186', 'C2225', 'C2245', 'C2298', 'C2319', 'C2362', 'C2405', 'C2433', 'C2453', 'C2470', 'C2508', 'C2520', 'C2549', 'C2556', 'C2568', 'C2620', 'C2644']\n"
     ]
    },
    {
     "data": {
      "text/plain": [
       "40"
      ]
     },
     "execution_count": 238,
     "metadata": {},
     "output_type": "execute_result"
    }
   ],
   "source": [
    "#각 단지별 세대수를 모두 더한수와 총 세대수가 다르다. \n",
    "#이는 임대 아파트만 전용면적별세대수에 포함시켰기 때문에 다르다.\n",
    "code=train.groupby(['단지코드'])\n",
    "code=code.agg({'총세대수':'mean','전용면적별세대수':'sum'}).reset_index()\n",
    "diff=[]\n",
    "for i in range(len(code)):\n",
    "    if code['총세대수'][i]!=code['전용면적별세대수'][i]:\n",
    "        diff.append(code['단지코드'][i])\n",
    "print(diff)  \n",
    "len(diff)"
   ]
  },
  {
   "cell_type": "code",
   "execution_count": 239,
   "metadata": {
    "scrolled": true
   },
   "outputs": [],
   "source": [
    "#앞서 찾은 다른 세대 확인해봤다.-> 차이가 분양된 세대수 \n",
    "#차이가 1인 경우 상가일 확률이 높다.\n",
    "for i in diff:\n",
    "    code[code['단지코드']==i]"
   ]
  },
  {
   "cell_type": "markdown",
   "metadata": {},
   "source": [
    "### 지하철 null값 0으로 채워주기"
   ]
  },
  {
   "cell_type": "code",
   "execution_count": 240,
   "metadata": {},
   "outputs": [],
   "source": [
    "#다른 값을 비교해본 결과 0이 대부분이었고, 같은 지역에 해당하는 지하철의 개수를 평균내보니 0에 가까울 만큼 작은 수치가 나왔다.\n",
    "#광역시가 아닌 일반 지역의 지하철은 존재하지 않는다 생각하여 0으로 채운다\n",
    "train['지하철'].fillna(0, inplace=True) \n",
    "test['지하철'].fillna(0, inplace=True) "
   ]
  },
  {
   "cell_type": "markdown",
   "metadata": {},
   "source": [
    "### 임대보증금, 임대료 '-'을 0으로 변경해주기"
   ]
  },
  {
   "cell_type": "code",
   "execution_count": 241,
   "metadata": {},
   "outputs": [],
   "source": [
    "# 임대보증금의 경우 -가 의미하는 바가 0이라 판단하여 0으로 변경해줌\n",
    "train.loc[train['임대보증금'] == \"-\",'임대보증금'] = 0\n",
    "train.loc[train['임대료'] == \"-\",'임대료'] = 0\n",
    "test.loc[test['임대보증금'] == \"-\",'임대보증금'] = 0\n",
    "test.loc[test['임대료'] == \"-\",'임대료'] = 0"
   ]
  },
  {
   "cell_type": "markdown",
   "metadata": {},
   "source": [
    "### 버스 지하철 결측치 채워주기"
   ]
  },
  {
   "cell_type": "code",
   "execution_count": 242,
   "metadata": {},
   "outputs": [],
   "source": [
    "train.loc[train['버스'].isnull(),['지하철','버스']] = [0,4]\n",
    "test.loc[train['버스'].isnull(),['지하철','버스']] = [0,4]"
   ]
  },
  {
   "cell_type": "markdown",
   "metadata": {},
   "source": [
    "### 필요없는(오류난) 데이터 삭제"
   ]
  },
  {
   "cell_type": "code",
   "execution_count": 243,
   "metadata": {},
   "outputs": [],
   "source": [
    "#단지코드 등 기입 실수로 데이터 정제 과정에서 매칭 오류 발생 \n",
    "#오류에 해당하는 열 모두 삭제\n",
    "a=train[train['단지코드'].isin(['C1095', 'C2051', 'C1218', 'C1894', 'C2483', 'C1502', 'C1988','C2085', 'C1397','C2431', 'C1649','C1036'])].index\n",
    "b=train[train['단지코드'].isin(['C2335', 'C1327','C2675'])].index"
   ]
  },
  {
   "cell_type": "code",
   "execution_count": 244,
   "metadata": {},
   "outputs": [],
   "source": [
    "train.drop(a,inplace=True)\n",
    "test.drop(b,inplace=True)"
   ]
  },
  {
   "cell_type": "markdown",
   "metadata": {},
   "source": [
    "### 지역별/ 주택유형별 임대보증금 임대료 결측치 채우기\n",
    "\n",
    "- 경상남도\\\n",
    "   상가 - 97    \\\n",
    "   임대보증금 평균 : nan\\\n",
    "   임대료 평균 : nan\n",
    "- 대전광역시\\\n",
    "  아파트 - 7 \\\n",
    "  임대보증금 평균 : 23559582.1917\\\n",
    "  임대료 평균 : 173557.8082\\\n",
    "  상가 - 113\\\n",
    "  임대보증금 평균 : nan\\\n",
    "  임대료 평균 : nan\n",
    "- 강원도\\\n",
    "   상가 - 31\\\n",
    "   임대보증금 평균 : nan\\\n",
    "   임대료 평균 : nan\n",
    "- 충청남도\\\n",
    "   상가 - 76\\\n",
    "   임대보증금 평균 : nan\\\n",
    "   임대료 평균 : nan\n",
    "- 부산광역시\\\n",
    "     상가 - 220 \\\n",
    "     임대보증금 평균 : nan\\\n",
    "     임대료 평균 : nan"
   ]
  },
  {
   "cell_type": "code",
   "execution_count": 245,
   "metadata": {},
   "outputs": [],
   "source": [
    "#대전광역시 아파트 임대료 결측치 7개를 임대료 평균으로 채우기\n",
    "#이외에는 아파트에 대한 임대료 결측치가 없다.\n",
    "train.loc[(train['임대건물구분'] == \"아파트\")&(train['지역']=='대전광역시'),'임대보증금'] = 23559582\n",
    "train.loc[(train['임대건물구분'] == \"아파트\")&(train['지역']=='대전광역시'),'임대료'] = 173558\n",
    "\n",
    "test.loc[(test['임대건물구분'] == \"아파트\")&(test['지역']=='대전광역시'),'임대보증금'] = 23559582\n",
    "test.loc[(test['임대건물구분'] == \"아파트\")&(test['지역']=='대전광역시'),'임대료'] = 173558"
   ]
  },
  {
   "cell_type": "code",
   "execution_count": 246,
   "metadata": {},
   "outputs": [
    {
     "data": {
      "text/plain": [
       "97500"
      ]
     },
     "execution_count": 246,
     "metadata": {},
     "output_type": "execute_result"
    }
   ],
   "source": [
    "#상가 결측치 채운것임\n",
    "#데이터불러오기\n",
    "imdae= pd.read_csv('imdae.csv',encoding='cp949') #상가 임대료 외부데이터\n",
    "imdae.drop(['2020(3)'],axis=1,inplace=True)\n",
    "imdae\n",
    "\n",
    "#부산 상가 임대료\n",
    "busan=imdae[imdae['지역'].str.contains('부산')] \n",
    "busan\n",
    "\n",
    "busan1=round(busan['2020(1)'].sum(),0)\n",
    "busan2=round(busan['2020(2)'].sum(),0)\n",
    "\n",
    "busanim=int((busan1+busan2)/2 * 1000)\n",
    "busanim\n",
    "\n",
    "#경남 상가 임대료\n",
    "namdo=imdae[imdae['지역'].str.contains('경남')] \n",
    "namdo\n",
    "\n",
    "namdo1=round(namdo['2020(1)'].sum(),0)\n",
    "namdo2=round(namdo['2020(2)'].sum(),0)\n",
    "\n",
    "namdoim=int((namdo1+namdo2)/2 *1000)\n",
    "namdoim\n",
    "\n",
    "#제주 상가 임대료\n",
    "jeju=imdae[imdae['지역'].str.contains('제주')] \n",
    "jeju\n",
    "\n",
    "jeju1=round(jeju['2020(1)'].sum(),0)\n",
    "jeju2=round(jeju['2020(2)'].sum(),0)\n",
    "\n",
    "jejuim=int((jeju1+jeju2)/2 *1000)\n",
    "jejuim\n",
    "\n",
    "# 대전 상가 임대료\n",
    "dajun=imdae[imdae['지역'].str.contains('대전')] \n",
    "dajun\n",
    "\n",
    "dajun1=round(dajun['2020(1)'].sum(),0)\n",
    "dajun2=round(dajun['2020(2)'].sum(),0)\n",
    "\n",
    "dajunim=int((dajun1+dajun2)/2 * 1000)\n",
    "dajunim\n",
    "\n",
    "# 강원도 상가 임대료\n",
    "kang=imdae[imdae['지역'].str.contains('강원')] \n",
    "kang\n",
    "\n",
    "kang1=round(kang['2020(1)'].sum(),0)\n",
    "kang2=round(kang['2020(2)'].sum(),0)\n",
    "\n",
    "kangim=int((kang1+kang2)/2 * 1000)\n",
    "kangim\n",
    "\n",
    "# 충청남도 상가 임대료\n",
    "chung=imdae[imdae['지역'].str.contains('충남')] \n",
    "chung\n",
    "\n",
    "chung1=round(chung['2020(1)'].sum(),0)\n",
    "chung2=round(chung['2020(2)'].sum(),0)\n",
    "\n",
    "chungim=int((chung1+chung2)/2 * 1000)\n",
    "chungim\n",
    "\n",
    "#울산광역시 상가 임대료\n",
    "ool=imdae[imdae['지역'].str.contains('울산')] \n",
    "ool\n",
    "\n",
    "ool1=round(ool['2020(1)'].sum(),0)\n",
    "ool2=round(ool['2020(2)'].sum(),0)\n",
    "\n",
    "oolim=int((ool1+ool2)/2 * 1000)\n",
    "oolim"
   ]
  },
  {
   "cell_type": "code",
   "execution_count": 247,
   "metadata": {},
   "outputs": [],
   "source": [
    "train.loc[(train['임대건물구분'] == \"상가\")&(train['지역']=='강원도'),'임대료'] = kangim\n",
    "train.loc[(train['임대건물구분'] == \"상가\")&(train['지역']=='부산광역시'),'임대료'] = busanim\n",
    "train.loc[(train['임대건물구분'] == \"상가\")&(train['지역']=='경상남도'),'임대료'] = namdoim\n",
    "train.loc[(train['임대건물구분'] == \"상가\")&(train['지역']=='제주특별자치도'),'임대료'] = jejuim\n",
    "train.loc[(train['임대건물구분'] == \"상가\")&(train['지역']=='충청남도'),'임대료'] = chungim\n",
    "train.loc[(train['임대건물구분'] == \"상가\")&(train['지역']=='대전광역시'),'임대료'] = dajunim\n",
    "test.loc[(test['임대건물구분'] == \"상가\")&(test['지역']=='강원도'),'임대료'] = kangim\n",
    "test.loc[(test['임대건물구분'] == \"상가\")&(test['지역']=='부산광역시'),'임대료'] = busanim\n",
    "test.loc[(test['임대건물구분'] == \"상가\")&(test['지역']=='경상남도'),'임대료'] = namdoim\n",
    "test.loc[(test['임대건물구분'] == \"상가\")&(test['지역']=='제주특별자치도'),'임대료'] = jejuim\n",
    "test.loc[(test['임대건물구분'] == \"상가\")&(test['지역']=='충청남도'),'임대료'] = chungim\n",
    "test.loc[(test['임대건물구분'] == \"상가\")&(test['지역']=='대전광역시'),'임대료'] = dajunim\n",
    "test.loc[(test['임대건물구분'] == \"상가\")&(test['지역']=='울산광역시'),'임대료'] = oolim"
   ]
  },
  {
   "cell_type": "code",
   "execution_count": 248,
   "metadata": {},
   "outputs": [
    {
     "data": {
      "text/plain": [
       "단지코드          0\n",
       "총세대수          0\n",
       "임대건물구분        0\n",
       "지역            0\n",
       "공급유형          0\n",
       "전용면적          0\n",
       "전용면적별세대수      0\n",
       "공가수           0\n",
       "자격유형          2\n",
       "임대보증금       177\n",
       "임대료           0\n",
       "지하철           0\n",
       "버스            0\n",
       "단지내주차면수       0\n",
       "dtype: int64"
      ]
     },
     "execution_count": 248,
     "metadata": {},
     "output_type": "execute_result"
    }
   ],
   "source": [
    "test.isnull().sum()"
   ]
  },
  {
   "cell_type": "code",
   "execution_count": 249,
   "metadata": {},
   "outputs": [
    {
     "data": {
      "text/plain": [
       "단지코드          0\n",
       "총세대수          0\n",
       "임대건물구분        0\n",
       "지역            0\n",
       "공급유형          0\n",
       "전용면적          0\n",
       "전용면적별세대수      0\n",
       "공가수           0\n",
       "자격유형          0\n",
       "임대보증금       177\n",
       "임대료           0\n",
       "지하철           0\n",
       "버스            0\n",
       "단지내주차면수       0\n",
       "dtype: int64"
      ]
     },
     "execution_count": 249,
     "metadata": {},
     "output_type": "execute_result"
    }
   ],
   "source": [
    "#test에 존재하는 모든 상가에 대해서도 모두 임대보증금과 임대료가 0이므로 0으로 채워주자.\n",
    "test.loc[(test['임대건물구분'] == \"상가\")].isnull().sum()"
   ]
  },
  {
   "cell_type": "code",
   "execution_count": 250,
   "metadata": {},
   "outputs": [
    {
     "data": {
      "text/plain": [
       "단지코드        177\n",
       "총세대수        177\n",
       "임대건물구분      177\n",
       "지역          177\n",
       "공급유형        177\n",
       "전용면적        177\n",
       "전용면적별세대수    177\n",
       "공가수         177\n",
       "자격유형        177\n",
       "임대보증금         0\n",
       "임대료         177\n",
       "지하철         177\n",
       "버스          177\n",
       "단지내주차면수     177\n",
       "dtype: int64"
      ]
     },
     "execution_count": 250,
     "metadata": {},
     "output_type": "execute_result"
    }
   ],
   "source": [
    "test.loc[(test['임대건물구분'] == \"상가\")].count()"
   ]
  },
  {
   "cell_type": "code",
   "execution_count": 251,
   "metadata": {},
   "outputs": [],
   "source": [
    "#임대보증금 결측치 채우기\n",
    "train['임대보증금'].fillna(0, inplace=True)\n",
    "test['임대보증금'].fillna(0, inplace=True)"
   ]
  },
  {
   "cell_type": "code",
   "execution_count": 252,
   "metadata": {},
   "outputs": [],
   "source": [
    "test['자격유형'].fillna(\"A\", inplace=True)"
   ]
  },
  {
   "cell_type": "markdown",
   "metadata": {},
   "source": [
    "### 전처리"
   ]
  },
  {
   "cell_type": "code",
   "execution_count": 253,
   "metadata": {},
   "outputs": [],
   "source": [
    "#스케일러를 사용해서 각 열의 분포를 비슷하게 만들어줌\n",
    "a=train[['총세대수','전용면적','전용면적별세대수','공가수','임대보증금','임대료','지하철','버스','단지내주차면수']]\n",
    "from sklearn.preprocessing import StandardScaler\n",
    "standardScaler = StandardScaler()\n",
    "standardScaler.fit(a)\n",
    "a = standardScaler.transform(a)\n",
    "train[['총세대수','전용면적','전용면적별세대수','공가수','임대보증금','임대료','지하철','버스','단지내주차면수']]=a"
   ]
  },
  {
   "cell_type": "code",
   "execution_count": 254,
   "metadata": {},
   "outputs": [],
   "source": [
    "#스케일러를 사용해서 각 열의 분포를 비슷하게 만들어줌\n",
    "b=test[['총세대수','전용면적','전용면적별세대수','공가수','임대보증금','임대료','지하철','버스','단지내주차면수']]\n",
    "from sklearn.preprocessing import StandardScaler\n",
    "standardScaler = StandardScaler()\n",
    "standardScaler.fit(b)\n",
    "b = standardScaler.transform(b)\n",
    "test[['총세대수','전용면적','전용면적별세대수','공가수','임대보증금','임대료','지하철','버스','단지내주차면수']]=b"
   ]
  },
  {
   "cell_type": "code",
   "execution_count": 255,
   "metadata": {},
   "outputs": [],
   "source": [
    "#지하철,버스,단지내주차면수,등록차량수\n",
    "train[['지하철','버스','단지내주차면수','등록차량수','공가수','임대료','임대보증금']]=train[['지하철','버스','단지내주차면수','등록차량수','공가수','임대료','임대보증금']].astype(int)\n",
    "test[['지하철','버스','단지내주차면수','공가수','임대료','임대보증금']]=test[['지하철','버스','단지내주차면수','공가수','임대료','임대보증금']].astype(int)"
   ]
  },
  {
   "cell_type": "code",
   "execution_count": 256,
   "metadata": {},
   "outputs": [
    {
     "data": {
      "text/plain": [
       "(2869, 15)"
      ]
     },
     "execution_count": 256,
     "metadata": {},
     "output_type": "execute_result"
    }
   ],
   "source": [
    "train.shape"
   ]
  },
  {
   "cell_type": "code",
   "execution_count": 257,
   "metadata": {},
   "outputs": [
    {
     "data": {
      "text/plain": [
       "(1022, 15)"
      ]
     },
     "execution_count": 257,
     "metadata": {},
     "output_type": "execute_result"
    }
   ],
   "source": [
    "test['등록차량수']=0\n",
    "test.shape"
   ]
  },
  {
   "cell_type": "code",
   "execution_count": 258,
   "metadata": {},
   "outputs": [],
   "source": [
    "data=pd.concat([train,test])"
   ]
  },
  {
   "cell_type": "code",
   "execution_count": 259,
   "metadata": {
    "scrolled": true
   },
   "outputs": [
    {
     "data": {
      "text/html": [
       "<div>\n",
       "<style scoped>\n",
       "    .dataframe tbody tr th:only-of-type {\n",
       "        vertical-align: middle;\n",
       "    }\n",
       "\n",
       "    .dataframe tbody tr th {\n",
       "        vertical-align: top;\n",
       "    }\n",
       "\n",
       "    .dataframe thead th {\n",
       "        text-align: right;\n",
       "    }\n",
       "</style>\n",
       "<table border=\"1\" class=\"dataframe\">\n",
       "  <thead>\n",
       "    <tr style=\"text-align: right;\">\n",
       "      <th></th>\n",
       "      <th>총세대수</th>\n",
       "      <th>전용면적</th>\n",
       "      <th>전용면적별세대수</th>\n",
       "      <th>공가수</th>\n",
       "      <th>임대보증금</th>\n",
       "      <th>임대료</th>\n",
       "      <th>지하철</th>\n",
       "      <th>버스</th>\n",
       "      <th>단지내주차면수</th>\n",
       "      <th>등록차량수</th>\n",
       "      <th>...</th>\n",
       "      <th>자격유형_F</th>\n",
       "      <th>자격유형_G</th>\n",
       "      <th>자격유형_H</th>\n",
       "      <th>자격유형_I</th>\n",
       "      <th>자격유형_J</th>\n",
       "      <th>자격유형_K</th>\n",
       "      <th>자격유형_L</th>\n",
       "      <th>자격유형_M</th>\n",
       "      <th>자격유형_N</th>\n",
       "      <th>자격유형_O</th>\n",
       "    </tr>\n",
       "  </thead>\n",
       "  <tbody>\n",
       "    <tr>\n",
       "      <th>8</th>\n",
       "      <td>-0.661872</td>\n",
       "      <td>-0.354394</td>\n",
       "      <td>1.300424</td>\n",
       "      <td>0</td>\n",
       "      <td>0</td>\n",
       "      <td>0</td>\n",
       "      <td>0</td>\n",
       "      <td>0</td>\n",
       "      <td>0</td>\n",
       "      <td>205</td>\n",
       "      <td>...</td>\n",
       "      <td>0</td>\n",
       "      <td>0</td>\n",
       "      <td>0</td>\n",
       "      <td>0</td>\n",
       "      <td>0</td>\n",
       "      <td>0</td>\n",
       "      <td>0</td>\n",
       "      <td>0</td>\n",
       "      <td>0</td>\n",
       "      <td>0</td>\n",
       "    </tr>\n",
       "    <tr>\n",
       "      <th>9</th>\n",
       "      <td>-0.661872</td>\n",
       "      <td>-0.148302</td>\n",
       "      <td>-0.320415</td>\n",
       "      <td>0</td>\n",
       "      <td>0</td>\n",
       "      <td>0</td>\n",
       "      <td>0</td>\n",
       "      <td>0</td>\n",
       "      <td>0</td>\n",
       "      <td>205</td>\n",
       "      <td>...</td>\n",
       "      <td>0</td>\n",
       "      <td>0</td>\n",
       "      <td>0</td>\n",
       "      <td>0</td>\n",
       "      <td>0</td>\n",
       "      <td>0</td>\n",
       "      <td>0</td>\n",
       "      <td>0</td>\n",
       "      <td>0</td>\n",
       "      <td>0</td>\n",
       "    </tr>\n",
       "    <tr>\n",
       "      <th>10</th>\n",
       "      <td>-0.661872</td>\n",
       "      <td>-0.148302</td>\n",
       "      <td>-0.620571</td>\n",
       "      <td>0</td>\n",
       "      <td>0</td>\n",
       "      <td>0</td>\n",
       "      <td>0</td>\n",
       "      <td>0</td>\n",
       "      <td>0</td>\n",
       "      <td>205</td>\n",
       "      <td>...</td>\n",
       "      <td>0</td>\n",
       "      <td>0</td>\n",
       "      <td>0</td>\n",
       "      <td>0</td>\n",
       "      <td>0</td>\n",
       "      <td>0</td>\n",
       "      <td>0</td>\n",
       "      <td>0</td>\n",
       "      <td>0</td>\n",
       "      <td>0</td>\n",
       "    </tr>\n",
       "    <tr>\n",
       "      <th>11</th>\n",
       "      <td>-0.661872</td>\n",
       "      <td>0.057791</td>\n",
       "      <td>-0.485501</td>\n",
       "      <td>0</td>\n",
       "      <td>0</td>\n",
       "      <td>0</td>\n",
       "      <td>0</td>\n",
       "      <td>0</td>\n",
       "      <td>0</td>\n",
       "      <td>205</td>\n",
       "      <td>...</td>\n",
       "      <td>0</td>\n",
       "      <td>0</td>\n",
       "      <td>0</td>\n",
       "      <td>0</td>\n",
       "      <td>0</td>\n",
       "      <td>0</td>\n",
       "      <td>0</td>\n",
       "      <td>0</td>\n",
       "      <td>0</td>\n",
       "      <td>0</td>\n",
       "    </tr>\n",
       "    <tr>\n",
       "      <th>12</th>\n",
       "      <td>-0.661872</td>\n",
       "      <td>0.057791</td>\n",
       "      <td>-0.628074</td>\n",
       "      <td>0</td>\n",
       "      <td>0</td>\n",
       "      <td>0</td>\n",
       "      <td>0</td>\n",
       "      <td>0</td>\n",
       "      <td>0</td>\n",
       "      <td>205</td>\n",
       "      <td>...</td>\n",
       "      <td>0</td>\n",
       "      <td>0</td>\n",
       "      <td>0</td>\n",
       "      <td>0</td>\n",
       "      <td>0</td>\n",
       "      <td>0</td>\n",
       "      <td>0</td>\n",
       "      <td>0</td>\n",
       "      <td>0</td>\n",
       "      <td>0</td>\n",
       "    </tr>\n",
       "  </tbody>\n",
       "</table>\n",
       "<p>5 rows × 614 columns</p>\n",
       "</div>"
      ],
      "text/plain": [
       "        총세대수      전용면적  전용면적별세대수  공가수  임대보증금  임대료  지하철  버스  단지내주차면수  등록차량수  \\\n",
       "8  -0.661872 -0.354394  1.300424    0      0    0    0   0        0    205   \n",
       "9  -0.661872 -0.148302 -0.320415    0      0    0    0   0        0    205   \n",
       "10 -0.661872 -0.148302 -0.620571    0      0    0    0   0        0    205   \n",
       "11 -0.661872  0.057791 -0.485501    0      0    0    0   0        0    205   \n",
       "12 -0.661872  0.057791 -0.628074    0      0    0    0   0        0    205   \n",
       "\n",
       "    ...  자격유형_F  자격유형_G  자격유형_H  자격유형_I  자격유형_J  자격유형_K  자격유형_L  자격유형_M  \\\n",
       "8   ...       0       0       0       0       0       0       0       0   \n",
       "9   ...       0       0       0       0       0       0       0       0   \n",
       "10  ...       0       0       0       0       0       0       0       0   \n",
       "11  ...       0       0       0       0       0       0       0       0   \n",
       "12  ...       0       0       0       0       0       0       0       0   \n",
       "\n",
       "    자격유형_N  자격유형_O  \n",
       "8        0       0  \n",
       "9        0       0  \n",
       "10       0       0  \n",
       "11       0       0  \n",
       "12       0       0  \n",
       "\n",
       "[5 rows x 614 columns]"
      ]
     },
     "execution_count": 259,
     "metadata": {},
     "output_type": "execute_result"
    }
   ],
   "source": [
    "data_dummy=pd.get_dummies(data)\n",
    "data_dummy.head()"
   ]
  },
  {
   "cell_type": "code",
   "execution_count": 260,
   "metadata": {},
   "outputs": [],
   "source": [
    "data_train=data_dummy.iloc[:2869]\n",
    "data_test=data_dummy.iloc[2869:]"
   ]
  },
  {
   "cell_type": "code",
   "execution_count": 261,
   "metadata": {},
   "outputs": [
    {
     "data": {
      "text/plain": [
       "(2869, 614)"
      ]
     },
     "execution_count": 261,
     "metadata": {},
     "output_type": "execute_result"
    }
   ],
   "source": [
    "data_train.shape"
   ]
  },
  {
   "cell_type": "code",
   "execution_count": 262,
   "metadata": {},
   "outputs": [],
   "source": [
    "data_train.to_csv('data_train.csv')\n",
    "data_test.to_csv('data_test.csv')"
   ]
  },
  {
   "cell_type": "markdown",
   "metadata": {},
   "source": [
    "### 모델링 - Ridge"
   ]
  },
  {
   "cell_type": "code",
   "execution_count": 263,
   "metadata": {},
   "outputs": [
    {
     "name": "stdout",
     "output_type": "stream",
     "text": [
      "data_train :  (2869, 614)\n",
      "data_test :  (1022, 614)\n"
     ]
    }
   ],
   "source": [
    "print(\"data_train : \", data_train.shape)\n",
    "print(\"data_test : \", data_test.shape)"
   ]
  },
  {
   "cell_type": "code",
   "execution_count": 264,
   "metadata": {},
   "outputs": [],
   "source": [
    "y = data_train['등록차량수']\n",
    "del data_train['등록차량수']\n",
    "x = data_train"
   ]
  },
  {
   "cell_type": "code",
   "execution_count": 265,
   "metadata": {},
   "outputs": [],
   "source": [
    "from sklearn.model_selection import train_test_split\n",
    "\n",
    "X_train, X_val, y_train, y_val = train_test_split(x,y, random_state = 42)"
   ]
  },
  {
   "cell_type": "code",
   "execution_count": 266,
   "metadata": {},
   "outputs": [
    {
     "name": "stdout",
     "output_type": "stream",
     "text": [
      "X train shape :  (2151, 613)\n",
      "y train shape :  (2151,)\n",
      "X val shape :  (718, 613)\n",
      "y val shape :  (718,)\n"
     ]
    }
   ],
   "source": [
    "print(\"X train shape : \", X_train.shape)\n",
    "print(\"y train shape : \", y_train.shape)\n",
    "print(\"X val shape : \", X_val.shape)\n",
    "print(\"y val shape : \", y_val.shape)"
   ]
  },
  {
   "cell_type": "code",
   "execution_count": 267,
   "metadata": {},
   "outputs": [],
   "source": [
    "from sklearn.linear_model import Ridge\n",
    "\n",
    "ridge = Ridge().fit(X_train, y_train)"
   ]
  },
  {
   "cell_type": "code",
   "execution_count": 268,
   "metadata": {},
   "outputs": [
    {
     "name": "stdout",
     "output_type": "stream",
     "text": [
      "Training set accuracy : 0.99\n",
      "Test set accuracy : 0.99\n"
     ]
    }
   ],
   "source": [
    "print(\"Training set accuracy : {:.2f}\".format(ridge.score(X_train,y_train)))\n",
    "print(\"Test set accuracy : {:.2f}\".format(ridge.score(X_val,y_val)))"
   ]
  },
  {
   "cell_type": "code",
   "execution_count": 269,
   "metadata": {},
   "outputs": [],
   "source": [
    "del data_test['등록차량수']\n",
    "pred = ridge.predict(data_test)"
   ]
  },
  {
   "cell_type": "code",
   "execution_count": 270,
   "metadata": {},
   "outputs": [
    {
     "data": {
      "text/plain": [
       "(1022,)"
      ]
     },
     "execution_count": 270,
     "metadata": {},
     "output_type": "execute_result"
    }
   ],
   "source": [
    "pred.shape"
   ]
  },
  {
   "cell_type": "code",
   "execution_count": 272,
   "metadata": {},
   "outputs": [],
   "source": [
    "pred = np.round(pred,0).astype('int32')"
   ]
  },
  {
   "cell_type": "code",
   "execution_count": 273,
   "metadata": {},
   "outputs": [],
   "source": [
    "data={'code':test['단지코드'], 'num':pred}\n",
    "data=pd.DataFrame(data)"
   ]
  },
  {
   "cell_type": "code",
   "execution_count": 274,
   "metadata": {},
   "outputs": [
    {
     "data": {
      "text/html": [
       "<div>\n",
       "<style scoped>\n",
       "    .dataframe tbody tr th:only-of-type {\n",
       "        vertical-align: middle;\n",
       "    }\n",
       "\n",
       "    .dataframe tbody tr th {\n",
       "        vertical-align: top;\n",
       "    }\n",
       "\n",
       "    .dataframe thead th {\n",
       "        text-align: right;\n",
       "    }\n",
       "</style>\n",
       "<table border=\"1\" class=\"dataframe\">\n",
       "  <thead>\n",
       "    <tr style=\"text-align: right;\">\n",
       "      <th></th>\n",
       "      <th>code</th>\n",
       "      <th>num</th>\n",
       "    </tr>\n",
       "  </thead>\n",
       "  <tbody>\n",
       "    <tr>\n",
       "      <th>0</th>\n",
       "      <td>C1003</td>\n",
       "      <td>248.625000</td>\n",
       "    </tr>\n",
       "    <tr>\n",
       "      <th>1</th>\n",
       "      <td>C1006</td>\n",
       "      <td>530.481481</td>\n",
       "    </tr>\n",
       "    <tr>\n",
       "      <th>2</th>\n",
       "      <td>C1016</td>\n",
       "      <td>635.500000</td>\n",
       "    </tr>\n",
       "    <tr>\n",
       "      <th>3</th>\n",
       "      <td>C1019</td>\n",
       "      <td>430.000000</td>\n",
       "    </tr>\n",
       "    <tr>\n",
       "      <th>4</th>\n",
       "      <td>C1030</td>\n",
       "      <td>17.000000</td>\n",
       "    </tr>\n",
       "    <tr>\n",
       "      <th>...</th>\n",
       "      <td>...</td>\n",
       "      <td>...</td>\n",
       "    </tr>\n",
       "    <tr>\n",
       "      <th>145</th>\n",
       "      <td>C2653</td>\n",
       "      <td>728.250000</td>\n",
       "    </tr>\n",
       "    <tr>\n",
       "      <th>146</th>\n",
       "      <td>C2675</td>\n",
       "      <td>732.500000</td>\n",
       "    </tr>\n",
       "    <tr>\n",
       "      <th>147</th>\n",
       "      <td>C2676</td>\n",
       "      <td>815.891304</td>\n",
       "    </tr>\n",
       "    <tr>\n",
       "      <th>148</th>\n",
       "      <td>C2688</td>\n",
       "      <td>35.166667</td>\n",
       "    </tr>\n",
       "    <tr>\n",
       "      <th>149</th>\n",
       "      <td>C2691</td>\n",
       "      <td>1236.666667</td>\n",
       "    </tr>\n",
       "  </tbody>\n",
       "</table>\n",
       "<p>150 rows × 2 columns</p>\n",
       "</div>"
      ],
      "text/plain": [
       "      code          num\n",
       "0    C1003   248.625000\n",
       "1    C1006   530.481481\n",
       "2    C1016   635.500000\n",
       "3    C1019   430.000000\n",
       "4    C1030    17.000000\n",
       "..     ...          ...\n",
       "145  C2653   728.250000\n",
       "146  C2675   732.500000\n",
       "147  C2676   815.891304\n",
       "148  C2688    35.166667\n",
       "149  C2691  1236.666667\n",
       "\n",
       "[150 rows x 2 columns]"
      ]
     },
     "execution_count": 274,
     "metadata": {},
     "output_type": "execute_result"
    }
   ],
   "source": [
    "data=data.groupby('code').mean().reset_index()\n",
    "data"
   ]
  },
  {
   "cell_type": "code",
   "execution_count": 277,
   "metadata": {},
   "outputs": [],
   "source": [
    "num=pd.merge(sample_submission,data,on='code',how='outer')\n",
    "sample_submission['num']=num['num_y']"
   ]
  },
  {
   "cell_type": "code",
   "execution_count": 279,
   "metadata": {},
   "outputs": [],
   "source": [
    "submission={'code':sample_submission['code'],'num':round(num['num_y']).astype(int)}\n",
    "submission=pd.DataFrame(submission)"
   ]
  },
  {
   "cell_type": "code",
   "execution_count": 281,
   "metadata": {},
   "outputs": [
    {
     "data": {
      "text/plain": [
       "array([ 615, 1061,  369,  492, 1020, 1699,  991,  459,  437,  398,  511,\n",
       "        530,  445,   61,  816,   76,  583,  477,  293,  650,  408,  418,\n",
       "        451,  391,  101,  290,  478,  479,  773,  234,  590,  210,   64,\n",
       "        557,  496,  608,  740,  427,  470,  571,  558,  802, 1196,  600,\n",
       "        663,  618,  508,  703,  624,  171,  722,  358,  552,  407,  602,\n",
       "        988,  481,  217,  469,  852,  555,  543,  739,  430,  627,  727,\n",
       "        926,  532,  636,  732,  471,  794,  746, 1160,  403,  436,  380,\n",
       "        371,  465,  535,  945,  728,  681,  562, 1203, 1023, 1074,  448,\n",
       "        586,  541,  860,  888, 1044,  656,  990,  475,  812, 1237,  928,\n",
       "       1115,  932,  145,  279,  637,  867, 1290,  560, 1071,  861,  438,\n",
       "        677,  249,  790,   35,   17,  -49,  965,  485,  383,  569,  344,\n",
       "        276,   93,   27,  105,  -13,  324,  364, -166,  298])"
      ]
     },
     "execution_count": 281,
     "metadata": {},
     "output_type": "execute_result"
    }
   ],
   "source": [
    "submission['num'].uniqueque()"
   ]
  },
  {
   "cell_type": "code",
   "execution_count": 282,
   "metadata": {},
   "outputs": [],
   "source": [
    "submission.to_csv('ridge1-1.csv')"
   ]
  },
  {
   "cell_type": "code",
   "execution_count": null,
   "metadata": {},
   "outputs": [],
   "source": []
  },
  {
   "cell_type": "code",
   "execution_count": null,
   "metadata": {},
   "outputs": [],
   "source": []
  },
  {
   "cell_type": "code",
   "execution_count": null,
   "metadata": {},
   "outputs": [],
   "source": []
  },
  {
   "cell_type": "code",
   "execution_count": null,
   "metadata": {},
   "outputs": [],
   "source": []
  },
  {
   "cell_type": "code",
   "execution_count": null,
   "metadata": {},
   "outputs": [],
   "source": []
  },
  {
   "cell_type": "code",
   "execution_count": null,
   "metadata": {},
   "outputs": [],
   "source": []
  }
 ],
 "metadata": {
  "kernelspec": {
   "display_name": "Python 3",
   "language": "python",
   "name": "python3"
  },
  "language_info": {
   "codemirror_mode": {
    "name": "ipython",
    "version": 3
   },
   "file_extension": ".py",
   "mimetype": "text/x-python",
   "name": "python",
   "nbconvert_exporter": "python",
   "pygments_lexer": "ipython3",
   "version": "3.8.5"
  }
 },
 "nbformat": 4,
 "nbformat_minor": 4
}
