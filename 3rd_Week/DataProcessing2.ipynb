{
 "cells": [
  {
   "cell_type": "markdown",
   "metadata": {},
   "source": [
    "## Dataset 불러오기"
   ]
  },
  {
   "cell_type": "code",
   "execution_count": 275,
   "metadata": {},
   "outputs": [],
   "source": [
    "import pandas as pd\n",
    "\n",
    "train = pd.read_csv(\"C:/Users/hu612/Desktop/School/sooda/주차수요 예측 ai/dataset/train.csv\")\n",
    "test = pd.read_csv(\"C:/Users/hu612/Desktop/School/sooda/주차수요 예측 ai/dataset/test.csv\")\n",
    "age_gender = pd.read_csv(\"C:/Users/hu612/Desktop/School/sooda/주차수요 예측 ai/dataset/age_gender_info.csv\")"
   ]
  },
  {
   "cell_type": "code",
   "execution_count": 276,
   "metadata": {},
   "outputs": [
    {
     "data": {
      "text/plain": [
       "(2952, 15)"
      ]
     },
     "execution_count": 276,
     "metadata": {},
     "output_type": "execute_result"
    }
   ],
   "source": [
    "train.shape"
   ]
  },
  {
   "cell_type": "markdown",
   "metadata": {},
   "source": [
    "## Columns명 변경 : 지하철, 버스"
   ]
  },
  {
   "cell_type": "code",
   "execution_count": 277,
   "metadata": {},
   "outputs": [
    {
     "data": {
      "text/plain": [
       "Index(['단지코드', '총세대수', '임대건물구분', '지역', '공급유형', '전용면적', '전용면적별세대수', '공가수',\n",
       "       '자격유형', '임대보증금', '임대료', '도보 10분거리 내 지하철역 수(환승노선 수 반영)',\n",
       "       '도보 10분거리 내 버스정류장 수', '단지내주차면수', '등록차량수'],\n",
       "      dtype='object')"
      ]
     },
     "execution_count": 277,
     "metadata": {},
     "output_type": "execute_result"
    }
   ],
   "source": [
    "train.columns"
   ]
  },
  {
   "cell_type": "code",
   "execution_count": 278,
   "metadata": {},
   "outputs": [
    {
     "data": {
      "text/plain": [
       "(423,)"
      ]
     },
     "execution_count": 278,
     "metadata": {},
     "output_type": "execute_result"
    }
   ],
   "source": [
    "train['단지코드'].unique().shape"
   ]
  },
  {
   "cell_type": "code",
   "execution_count": 279,
   "metadata": {},
   "outputs": [],
   "source": [
    "train.columns = ['단지코드', '총세대수', '임대건물구분', '지역', '공급유형', '전용면적', '전용면적별세대수', '공가수',\n",
    "       '자격유형', '임대보증금', '임대료', '지하철',\n",
    "       '버스', '단지내주차면수', '등록차량수']"
   ]
  },
  {
   "cell_type": "markdown",
   "metadata": {},
   "source": [
    "## 임대보증금, 임대료 문자열 0으로 변경"
   ]
  },
  {
   "cell_type": "code",
   "execution_count": 280,
   "metadata": {},
   "outputs": [],
   "source": [
    "train.loc[train['임대보증금'] == \"-\",'임대보증금'] = 0"
   ]
  },
  {
   "cell_type": "code",
   "execution_count": 281,
   "metadata": {},
   "outputs": [],
   "source": [
    "train.loc[train['임대료'] == \"-\",'임대료'] = 0"
   ]
  },
  {
   "cell_type": "markdown",
   "metadata": {},
   "source": [
    "## float -> int 변환 : 전용면적, 단지내주차면수, 등록차량수, 공가수\n",
    "\n",
    "나중에 임대보증금 임대료도 null값 다 채우고 int 변환"
   ]
  },
  {
   "cell_type": "code",
   "execution_count": 282,
   "metadata": {},
   "outputs": [],
   "source": [
    "# 전용면적 평수 변환\n",
    "train['전용면적']=round(train['전용면적']*0.3025,0)"
   ]
  },
  {
   "cell_type": "code",
   "execution_count": 283,
   "metadata": {},
   "outputs": [],
   "source": [
    "train[['전용면적','공가수','단지내주차면수','등록차량수']] = train[['전용면적','공가수','단지내주차면수','등록차량수']].astype(int)"
   ]
  },
  {
   "cell_type": "markdown",
   "metadata": {},
   "source": [
    "## 버스 null값 4개 처리"
   ]
  },
  {
   "cell_type": "code",
   "execution_count": 284,
   "metadata": {},
   "outputs": [
    {
     "data": {
      "text/plain": [
       "단지코드          0\n",
       "총세대수          0\n",
       "임대건물구분        0\n",
       "지역            0\n",
       "공급유형          0\n",
       "전용면적          0\n",
       "전용면적별세대수      0\n",
       "공가수           0\n",
       "자격유형          0\n",
       "임대보증금       569\n",
       "임대료         569\n",
       "지하철         211\n",
       "버스            4\n",
       "단지내주차면수       0\n",
       "등록차량수         0\n",
       "dtype: int64"
      ]
     },
     "execution_count": 284,
     "metadata": {},
     "output_type": "execute_result"
    }
   ],
   "source": [
    "train.isnull().sum()"
   ]
  },
  {
   "cell_type": "code",
   "execution_count": 285,
   "metadata": {},
   "outputs": [],
   "source": [
    "# 버스 null값 아파트가 양산에 있다고 추정\n",
    "# 근처 버스정류장을 새어보니 2개가 있었고\n",
    "# 양산은 지하철이 도로를 다니지 않기 때문에 0개를 넣음\n",
    "train.loc[train['버스'].isnull(),['지하철','버스']] = [0,2]"
   ]
  },
  {
   "cell_type": "code",
   "execution_count": 286,
   "metadata": {},
   "outputs": [
    {
     "data": {
      "text/plain": [
       "단지코드          0\n",
       "총세대수          0\n",
       "임대건물구분        0\n",
       "지역            0\n",
       "공급유형          0\n",
       "전용면적          0\n",
       "전용면적별세대수      0\n",
       "공가수           0\n",
       "자격유형          0\n",
       "임대보증금       569\n",
       "임대료         569\n",
       "지하철         207\n",
       "버스            0\n",
       "단지내주차면수       0\n",
       "등록차량수         0\n",
       "dtype: int64"
      ]
     },
     "execution_count": 286,
     "metadata": {},
     "output_type": "execute_result"
    }
   ],
   "source": [
    "# 클린\n",
    "train.isnull().sum()"
   ]
  },
  {
   "cell_type": "markdown",
   "metadata": {},
   "source": [
    "## 지하철 null값 0으로 채워주기\n",
    "\n",
    "\n",
    "광역시에 지하철이 많이 다니기 때문에 광역시를 제외한 시,도에는 0을 채워주었다.\n",
    "그러고 광역시끼리 해서 평균을 계산해봤을때, 0.xx가 나와서 null값을 0으로 채워주기로 하였다."
   ]
  },
  {
   "cell_type": "code",
   "execution_count": 287,
   "metadata": {},
   "outputs": [
    {
     "data": {
      "image/png": "[encoded data removed]",
      "text/plain": [
       "<Figure size 432x288 with 1 Axes>"
      ]
     },
     "metadata": {
      "needs_background": "light"
     },
     "output_type": "display_data"
    }
   ],
   "source": [
    "import matplotlib.pyplot as plt\n",
    "x = [0,1,2,3]\n",
    "y = [2306,400,33,6] # nan:230\n",
    "\n",
    "plt.bar(x,y)\n",
    "plt.show()"
   ]
  },
  {
   "cell_type": "code",
   "execution_count": 288,
   "metadata": {},
   "outputs": [],
   "source": [
    "train['지하철'].fillna(0, inplace=True) "
   ]
  },
  {
   "cell_type": "markdown",
   "metadata": {},
   "source": [
    "## 총세대수 != sum(전용면적별세대수)"
   ]
  },
  {
   "cell_type": "code",
   "execution_count": 289,
   "metadata": {},
   "outputs": [
    {
     "name": "stdout",
     "output_type": "stream",
     "text": [
      "['C1024', 'C1068', 'C1156', 'C1206', 'C1218', 'C1312', 'C1344', 'C1424', 'C1490', 'C1584', 'C1695', 'C1732', 'C1740', 'C1804', 'C1850', 'C1894', 'C1910', 'C1925', 'C1970', 'C2013', 'C2139', 'C2142', 'C2156', 'C2186', 'C2225', 'C2245', 'C2298', 'C2319', 'C2362', 'C2405', 'C2433', 'C2453', 'C2470', 'C2508', 'C2520', 'C2549', 'C2556', 'C2568', 'C2620', 'C2644']\n"
     ]
    },
    {
     "data": {
      "text/plain": [
       "40"
      ]
     },
     "execution_count": 289,
     "metadata": {},
     "output_type": "execute_result"
    }
   ],
   "source": [
    "# 총세대수와 전용면적별세대수의 합이 다르기 때문에\n",
    "# 어떤 단지코드가 다른지 알아보기 위한 코드\n",
    "\n",
    "code=train.groupby(['단지코드'])\n",
    "code=code.agg({'총세대수':'mean','전용면적별세대수':'sum'}).reset_index()\n",
    "diff=[]\n",
    "for i in range(len(code)):\n",
    "    if code['총세대수'][i]!=code['전용면적별세대수'][i]:\n",
    "        diff.append(code['단지코드'][i])\n",
    "print(diff)  \n",
    "len(diff)"
   ]
  },
  {
   "cell_type": "code",
   "execution_count": 290,
   "metadata": {},
   "outputs": [],
   "source": [
    "for i in diff:\n",
    "    code[code['단지코드']==i]"
   ]
  },
  {
   "cell_type": "markdown",
   "metadata": {},
   "source": [
    "총세대수 - 분양, 임대<br>\n",
    "전용면적별세대수 - 임대를 포함시킨다.\n",
    "\n",
    "합의 차이가 1 나는 경우 대부분 상가가 분양된 경우가 많다."
   ]
  },
  {
   "cell_type": "code",
   "execution_count": 291,
   "metadata": {
    "scrolled": false
   },
   "outputs": [
    {
     "data": {
      "text/html": [
       "<div>\n",
       "<style scoped>\n",
       "    .dataframe tbody tr th:only-of-type {\n",
       "        vertical-align: middle;\n",
       "    }\n",
       "\n",
       "    .dataframe tbody tr th {\n",
       "        vertical-align: top;\n",
       "    }\n",
       "\n",
       "    .dataframe thead th {\n",
       "        text-align: right;\n",
       "    }\n",
       "</style>\n",
       "<table border=\"1\" class=\"dataframe\">\n",
       "  <thead>\n",
       "    <tr style=\"text-align: right;\">\n",
       "      <th></th>\n",
       "      <th>단지코드</th>\n",
       "      <th>총세대수</th>\n",
       "      <th>임대건물구분</th>\n",
       "      <th>지역</th>\n",
       "      <th>공급유형</th>\n",
       "      <th>전용면적</th>\n",
       "      <th>전용면적별세대수</th>\n",
       "      <th>공가수</th>\n",
       "      <th>자격유형</th>\n",
       "      <th>임대보증금</th>\n",
       "      <th>임대료</th>\n",
       "      <th>지하철</th>\n",
       "      <th>버스</th>\n",
       "      <th>단지내주차면수</th>\n",
       "      <th>등록차량수</th>\n",
       "    </tr>\n",
       "  </thead>\n",
       "  <tbody>\n",
       "    <tr>\n",
       "      <th>0</th>\n",
       "      <td>C2483</td>\n",
       "      <td>900</td>\n",
       "      <td>아파트</td>\n",
       "      <td>경상북도</td>\n",
       "      <td>국민임대</td>\n",
       "      <td>12</td>\n",
       "      <td>134</td>\n",
       "      <td>38</td>\n",
       "      <td>A</td>\n",
       "      <td>15667000</td>\n",
       "      <td>103680</td>\n",
       "      <td>0.0</td>\n",
       "      <td>3.0</td>\n",
       "      <td>1425</td>\n",
       "      <td>1015</td>\n",
       "    </tr>\n",
       "    <tr>\n",
       "      <th>1</th>\n",
       "      <td>C2483</td>\n",
       "      <td>900</td>\n",
       "      <td>아파트</td>\n",
       "      <td>경상북도</td>\n",
       "      <td>국민임대</td>\n",
       "      <td>12</td>\n",
       "      <td>15</td>\n",
       "      <td>38</td>\n",
       "      <td>A</td>\n",
       "      <td>15667000</td>\n",
       "      <td>103680</td>\n",
       "      <td>0.0</td>\n",
       "      <td>3.0</td>\n",
       "      <td>1425</td>\n",
       "      <td>1015</td>\n",
       "    </tr>\n",
       "    <tr>\n",
       "      <th>2</th>\n",
       "      <td>C2483</td>\n",
       "      <td>900</td>\n",
       "      <td>아파트</td>\n",
       "      <td>경상북도</td>\n",
       "      <td>국민임대</td>\n",
       "      <td>16</td>\n",
       "      <td>385</td>\n",
       "      <td>38</td>\n",
       "      <td>A</td>\n",
       "      <td>27304000</td>\n",
       "      <td>184330</td>\n",
       "      <td>0.0</td>\n",
       "      <td>3.0</td>\n",
       "      <td>1425</td>\n",
       "      <td>1015</td>\n",
       "    </tr>\n",
       "    <tr>\n",
       "      <th>3</th>\n",
       "      <td>C2483</td>\n",
       "      <td>900</td>\n",
       "      <td>아파트</td>\n",
       "      <td>경상북도</td>\n",
       "      <td>국민임대</td>\n",
       "      <td>16</td>\n",
       "      <td>15</td>\n",
       "      <td>38</td>\n",
       "      <td>A</td>\n",
       "      <td>27304000</td>\n",
       "      <td>184330</td>\n",
       "      <td>0.0</td>\n",
       "      <td>3.0</td>\n",
       "      <td>1425</td>\n",
       "      <td>1015</td>\n",
       "    </tr>\n",
       "    <tr>\n",
       "      <th>4</th>\n",
       "      <td>C2483</td>\n",
       "      <td>900</td>\n",
       "      <td>아파트</td>\n",
       "      <td>경상북도</td>\n",
       "      <td>국민임대</td>\n",
       "      <td>16</td>\n",
       "      <td>41</td>\n",
       "      <td>38</td>\n",
       "      <td>A</td>\n",
       "      <td>27304000</td>\n",
       "      <td>184330</td>\n",
       "      <td>0.0</td>\n",
       "      <td>3.0</td>\n",
       "      <td>1425</td>\n",
       "      <td>1015</td>\n",
       "    </tr>\n",
       "    <tr>\n",
       "      <th>...</th>\n",
       "      <td>...</td>\n",
       "      <td>...</td>\n",
       "      <td>...</td>\n",
       "      <td>...</td>\n",
       "      <td>...</td>\n",
       "      <td>...</td>\n",
       "      <td>...</td>\n",
       "      <td>...</td>\n",
       "      <td>...</td>\n",
       "      <td>...</td>\n",
       "      <td>...</td>\n",
       "      <td>...</td>\n",
       "      <td>...</td>\n",
       "      <td>...</td>\n",
       "      <td>...</td>\n",
       "    </tr>\n",
       "    <tr>\n",
       "      <th>2947</th>\n",
       "      <td>C2532</td>\n",
       "      <td>239</td>\n",
       "      <td>아파트</td>\n",
       "      <td>강원도</td>\n",
       "      <td>국민임대</td>\n",
       "      <td>15</td>\n",
       "      <td>19</td>\n",
       "      <td>7</td>\n",
       "      <td>A</td>\n",
       "      <td>11346000</td>\n",
       "      <td>116090</td>\n",
       "      <td>0.0</td>\n",
       "      <td>1.0</td>\n",
       "      <td>166</td>\n",
       "      <td>146</td>\n",
       "    </tr>\n",
       "    <tr>\n",
       "      <th>2948</th>\n",
       "      <td>C2532</td>\n",
       "      <td>239</td>\n",
       "      <td>아파트</td>\n",
       "      <td>강원도</td>\n",
       "      <td>국민임대</td>\n",
       "      <td>15</td>\n",
       "      <td>34</td>\n",
       "      <td>7</td>\n",
       "      <td>A</td>\n",
       "      <td>14005000</td>\n",
       "      <td>142310</td>\n",
       "      <td>0.0</td>\n",
       "      <td>1.0</td>\n",
       "      <td>166</td>\n",
       "      <td>146</td>\n",
       "    </tr>\n",
       "    <tr>\n",
       "      <th>2949</th>\n",
       "      <td>C2532</td>\n",
       "      <td>239</td>\n",
       "      <td>아파트</td>\n",
       "      <td>강원도</td>\n",
       "      <td>국민임대</td>\n",
       "      <td>16</td>\n",
       "      <td>34</td>\n",
       "      <td>7</td>\n",
       "      <td>A</td>\n",
       "      <td>14005000</td>\n",
       "      <td>142310</td>\n",
       "      <td>0.0</td>\n",
       "      <td>1.0</td>\n",
       "      <td>166</td>\n",
       "      <td>146</td>\n",
       "    </tr>\n",
       "    <tr>\n",
       "      <th>2950</th>\n",
       "      <td>C2532</td>\n",
       "      <td>239</td>\n",
       "      <td>아파트</td>\n",
       "      <td>강원도</td>\n",
       "      <td>국민임대</td>\n",
       "      <td>16</td>\n",
       "      <td>114</td>\n",
       "      <td>7</td>\n",
       "      <td>A</td>\n",
       "      <td>14005000</td>\n",
       "      <td>142310</td>\n",
       "      <td>0.0</td>\n",
       "      <td>1.0</td>\n",
       "      <td>166</td>\n",
       "      <td>146</td>\n",
       "    </tr>\n",
       "    <tr>\n",
       "      <th>2951</th>\n",
       "      <td>C2532</td>\n",
       "      <td>239</td>\n",
       "      <td>아파트</td>\n",
       "      <td>강원도</td>\n",
       "      <td>국민임대</td>\n",
       "      <td>17</td>\n",
       "      <td>19</td>\n",
       "      <td>7</td>\n",
       "      <td>A</td>\n",
       "      <td>14830000</td>\n",
       "      <td>151030</td>\n",
       "      <td>0.0</td>\n",
       "      <td>1.0</td>\n",
       "      <td>166</td>\n",
       "      <td>146</td>\n",
       "    </tr>\n",
       "  </tbody>\n",
       "</table>\n",
       "<p>2952 rows × 15 columns</p>\n",
       "</div>"
      ],
      "text/plain": [
       "       단지코드  총세대수 임대건물구분    지역  공급유형  전용면적  전용면적별세대수  공가수 자격유형     임대보증금  \\\n",
       "0     C2483   900    아파트  경상북도  국민임대    12       134   38    A  15667000   \n",
       "1     C2483   900    아파트  경상북도  국민임대    12        15   38    A  15667000   \n",
       "2     C2483   900    아파트  경상북도  국민임대    16       385   38    A  27304000   \n",
       "3     C2483   900    아파트  경상북도  국민임대    16        15   38    A  27304000   \n",
       "4     C2483   900    아파트  경상북도  국민임대    16        41   38    A  27304000   \n",
       "...     ...   ...    ...   ...   ...   ...       ...  ...  ...       ...   \n",
       "2947  C2532   239    아파트   강원도  국민임대    15        19    7    A  11346000   \n",
       "2948  C2532   239    아파트   강원도  국민임대    15        34    7    A  14005000   \n",
       "2949  C2532   239    아파트   강원도  국민임대    16        34    7    A  14005000   \n",
       "2950  C2532   239    아파트   강원도  국민임대    16       114    7    A  14005000   \n",
       "2951  C2532   239    아파트   강원도  국민임대    17        19    7    A  14830000   \n",
       "\n",
       "         임대료  지하철   버스  단지내주차면수  등록차량수  \n",
       "0     103680  0.0  3.0     1425   1015  \n",
       "1     103680  0.0  3.0     1425   1015  \n",
       "2     184330  0.0  3.0     1425   1015  \n",
       "3     184330  0.0  3.0     1425   1015  \n",
       "4     184330  0.0  3.0     1425   1015  \n",
       "...      ...  ...  ...      ...    ...  \n",
       "2947  116090  0.0  1.0      166    146  \n",
       "2948  142310  0.0  1.0      166    146  \n",
       "2949  142310  0.0  1.0      166    146  \n",
       "2950  142310  0.0  1.0      166    146  \n",
       "2951  151030  0.0  1.0      166    146  \n",
       "\n",
       "[2952 rows x 15 columns]"
      ]
     },
     "execution_count": 291,
     "metadata": {},
     "output_type": "execute_result"
    }
   ],
   "source": [
    "train"
   ]
  },
  {
   "cell_type": "markdown",
   "metadata": {},
   "source": [
    "### train 지역별 빈칸 결측치 확인 및 결측치 제외 평균 살펴보기"
   ]
  },
  {
   "cell_type": "code",
   "execution_count": 292,
   "metadata": {
    "scrolled": true
   },
   "outputs": [
    {
     "data": {
      "text/plain": [
       "array(['경상북도', '경상남도', '대전광역시', '경기도', '전라북도', '강원도', '광주광역시', '충청남도',\n",
       "       '부산광역시', '제주특별자치도', '울산광역시', '충청북도', '전라남도', '대구광역시', '서울특별시',\n",
       "       '세종특별자치시'], dtype=object)"
      ]
     },
     "execution_count": 292,
     "metadata": {},
     "output_type": "execute_result"
    }
   ],
   "source": [
    "train['지역'].unique()"
   ]
  },
  {
   "cell_type": "code",
   "execution_count": 293,
   "metadata": {},
   "outputs": [],
   "source": [
    "df = train[(train['지역']==\"경상북도\") & (train['임대건물구분']=='아파트')]"
   ]
  },
  {
   "cell_type": "code",
   "execution_count": 294,
   "metadata": {},
   "outputs": [
    {
     "data": {
      "text/plain": [
       "임대보증금    0\n",
       "임대료      0\n",
       "dtype: int64"
      ]
     },
     "execution_count": 294,
     "metadata": {},
     "output_type": "execute_result"
    }
   ],
   "source": [
    "df[['임대보증금','임대료']].isnull().sum()"
   ]
  },
  {
   "cell_type": "code",
   "execution_count": 295,
   "metadata": {},
   "outputs": [
    {
     "data": {
      "text/plain": [
       "19863428.57142857"
      ]
     },
     "execution_count": 295,
     "metadata": {},
     "output_type": "execute_result"
    }
   ],
   "source": [
    "# 임대보증금이랑 임대료 전부 object형\n",
    "df['임대보증금'].astype('int32').mean()"
   ]
  },
  {
   "cell_type": "code",
   "execution_count": 296,
   "metadata": {},
   "outputs": [
    {
     "data": {
      "text/plain": [
       "임대보증금    0\n",
       "임대료      0\n",
       "dtype: int64"
      ]
     },
     "execution_count": 296,
     "metadata": {},
     "output_type": "execute_result"
    }
   ],
   "source": [
    "df1 = train[(train['지역']==\"경상북도\") & (train['임대건물구분']=='상가')]\n",
    "df1[['임대보증금','임대료']].isnull().sum()"
   ]
  },
  {
   "cell_type": "code",
   "execution_count": 297,
   "metadata": {},
   "outputs": [
    {
     "data": {
      "text/plain": [
       "임대보증금    0\n",
       "임대료      0\n",
       "dtype: int64"
      ]
     },
     "execution_count": 297,
     "metadata": {},
     "output_type": "execute_result"
    }
   ],
   "source": [
    "df = train[(train['지역']==\"경상남도\") & (train['임대건물구분']=='아파트')]\n",
    "df[['임대보증금','임대료']].isnull().sum()"
   ]
  },
  {
   "cell_type": "code",
   "execution_count": 298,
   "metadata": {},
   "outputs": [
    {
     "data": {
      "text/plain": [
       "임대보증금    97\n",
       "임대료      97\n",
       "dtype: int64"
      ]
     },
     "execution_count": 298,
     "metadata": {},
     "output_type": "execute_result"
    }
   ],
   "source": [
    "df1 = train[(train['지역']==\"경상남도\") & (train['임대건물구분']=='상가')]\n",
    "df1[['임대보증금','임대료']].isnull().sum()"
   ]
  },
  {
   "cell_type": "code",
   "execution_count": 299,
   "metadata": {},
   "outputs": [
    {
     "data": {
      "text/plain": [
       "(97, 15)"
      ]
     },
     "execution_count": 299,
     "metadata": {},
     "output_type": "execute_result"
    }
   ],
   "source": [
    "df1.shape"
   ]
  },
  {
   "cell_type": "code",
   "execution_count": 300,
   "metadata": {},
   "outputs": [],
   "source": [
    "df4 = train[(train['지역']==\"대전광역시\") & (train['임대건물구분']=='아파트')]\n",
    "#df4[['임대보증금','임대료']].isnull().sum()"
   ]
  },
  {
   "cell_type": "code",
   "execution_count": 301,
   "metadata": {},
   "outputs": [],
   "source": [
    "df4 = df4.dropna(axis=0)"
   ]
  },
  {
   "cell_type": "code",
   "execution_count": 302,
   "metadata": {},
   "outputs": [
    {
     "data": {
      "text/plain": [
       "23559582.19178082"
      ]
     },
     "execution_count": 302,
     "metadata": {},
     "output_type": "execute_result"
    }
   ],
   "source": [
    "df4['임대보증금'].astype('int32').mean()"
   ]
  },
  {
   "cell_type": "code",
   "execution_count": 303,
   "metadata": {},
   "outputs": [
    {
     "data": {
      "text/plain": [
       "173557.80821917808"
      ]
     },
     "execution_count": 303,
     "metadata": {},
     "output_type": "execute_result"
    }
   ],
   "source": [
    "df4['임대료'].astype('int32').mean()"
   ]
  },
  {
   "cell_type": "code",
   "execution_count": 304,
   "metadata": {},
   "outputs": [
    {
     "data": {
      "text/plain": [
       "임대보증금    113\n",
       "임대료      113\n",
       "dtype: int64"
      ]
     },
     "execution_count": 304,
     "metadata": {},
     "output_type": "execute_result"
    }
   ],
   "source": [
    "df5 = train[(train['지역']==\"대전광역시\") & (train['임대건물구분']=='상가')]\n",
    "df5[['임대보증금','임대료']].isnull().sum()"
   ]
  },
  {
   "cell_type": "code",
   "execution_count": 305,
   "metadata": {},
   "outputs": [
    {
     "name": "stdout",
     "output_type": "stream",
     "text": [
      "nan\n",
      "nan\n"
     ]
    }
   ],
   "source": [
    "df5 = df5.dropna(axis=0)\n",
    "print(df5['임대보증금'].astype('int32').mean())\n",
    "print(df5['임대료'].astype('int32').mean())"
   ]
  },
  {
   "cell_type": "code",
   "execution_count": 306,
   "metadata": {},
   "outputs": [
    {
     "data": {
      "text/plain": [
       "array([], dtype=object)"
      ]
     },
     "execution_count": 306,
     "metadata": {},
     "output_type": "execute_result"
    }
   ],
   "source": [
    "df5['임대보증금'].unique()"
   ]
  },
  {
   "cell_type": "code",
   "execution_count": 307,
   "metadata": {},
   "outputs": [
    {
     "data": {
      "text/plain": [
       "array([], dtype=object)"
      ]
     },
     "execution_count": 307,
     "metadata": {},
     "output_type": "execute_result"
    }
   ],
   "source": [
    "df5['임대료'].unique()"
   ]
  },
  {
   "cell_type": "code",
   "execution_count": 308,
   "metadata": {},
   "outputs": [
    {
     "data": {
      "text/html": [
       "<div>\n",
       "<style scoped>\n",
       "    .dataframe tbody tr th:only-of-type {\n",
       "        vertical-align: middle;\n",
       "    }\n",
       "\n",
       "    .dataframe tbody tr th {\n",
       "        vertical-align: top;\n",
       "    }\n",
       "\n",
       "    .dataframe thead th {\n",
       "        text-align: right;\n",
       "    }\n",
       "</style>\n",
       "<table border=\"1\" class=\"dataframe\">\n",
       "  <thead>\n",
       "    <tr style=\"text-align: right;\">\n",
       "      <th></th>\n",
       "      <th>단지코드</th>\n",
       "      <th>총세대수</th>\n",
       "      <th>임대건물구분</th>\n",
       "      <th>지역</th>\n",
       "      <th>공급유형</th>\n",
       "      <th>전용면적</th>\n",
       "      <th>전용면적별세대수</th>\n",
       "      <th>공가수</th>\n",
       "      <th>자격유형</th>\n",
       "      <th>임대보증금</th>\n",
       "      <th>임대료</th>\n",
       "      <th>지하철</th>\n",
       "      <th>버스</th>\n",
       "      <th>단지내주차면수</th>\n",
       "      <th>등록차량수</th>\n",
       "    </tr>\n",
       "  </thead>\n",
       "  <tbody>\n",
       "  </tbody>\n",
       "</table>\n",
       "</div>"
      ],
      "text/plain": [
       "Empty DataFrame\n",
       "Columns: [단지코드, 총세대수, 임대건물구분, 지역, 공급유형, 전용면적, 전용면적별세대수, 공가수, 자격유형, 임대보증금, 임대료, 지하철, 버스, 단지내주차면수, 등록차량수]\n",
       "Index: []"
      ]
     },
     "execution_count": 308,
     "metadata": {},
     "output_type": "execute_result"
    }
   ],
   "source": [
    "df5"
   ]
  },
  {
   "cell_type": "code",
   "execution_count": 309,
   "metadata": {},
   "outputs": [
    {
     "data": {
      "text/plain": [
       "임대보증금    0\n",
       "임대료      0\n",
       "dtype: int64"
      ]
     },
     "execution_count": 309,
     "metadata": {},
     "output_type": "execute_result"
    }
   ],
   "source": [
    "df6 = train[(train['지역']==\"경기도\") & (train['임대건물구분']=='아파트')]\n",
    "df6[['임대보증금','임대료']].isnull().sum()"
   ]
  },
  {
   "cell_type": "code",
   "execution_count": 310,
   "metadata": {},
   "outputs": [
    {
     "data": {
      "text/plain": [
       "임대보증금    0\n",
       "임대료      0\n",
       "dtype: int64"
      ]
     },
     "execution_count": 310,
     "metadata": {},
     "output_type": "execute_result"
    }
   ],
   "source": [
    "df6 = train[(train['지역']==\"경기도\") & (train['임대건물구분']=='상가')]\n",
    "df6[['임대보증금','임대료']].isnull().sum()"
   ]
  },
  {
   "cell_type": "code",
   "execution_count": 311,
   "metadata": {},
   "outputs": [
    {
     "data": {
      "text/plain": [
       "임대보증금    0\n",
       "임대료      0\n",
       "dtype: int64"
      ]
     },
     "execution_count": 311,
     "metadata": {},
     "output_type": "execute_result"
    }
   ],
   "source": [
    "df6 = train[(train['지역']==\"전라북도\") & (train['임대건물구분']=='아파트')]\n",
    "df6[['임대보증금','임대료']].isnull().sum()"
   ]
  },
  {
   "cell_type": "code",
   "execution_count": 312,
   "metadata": {},
   "outputs": [
    {
     "data": {
      "text/plain": [
       "임대보증금    0\n",
       "임대료      0\n",
       "dtype: int64"
      ]
     },
     "execution_count": 312,
     "metadata": {},
     "output_type": "execute_result"
    }
   ],
   "source": [
    "df6 = train[(train['지역']==\"전라북도\") & (train['임대건물구분']=='상가')]\n",
    "df6[['임대보증금','임대료']].isnull().sum()"
   ]
  },
  {
   "cell_type": "code",
   "execution_count": 313,
   "metadata": {},
   "outputs": [
    {
     "data": {
      "text/plain": [
       "임대보증금    0\n",
       "임대료      0\n",
       "dtype: int64"
      ]
     },
     "execution_count": 313,
     "metadata": {},
     "output_type": "execute_result"
    }
   ],
   "source": [
    "df6 = train[(train['지역']==\"강원도\") & (train['임대건물구분']=='아파트')]\n",
    "df6[['임대보증금','임대료']].isnull().sum()"
   ]
  },
  {
   "cell_type": "code",
   "execution_count": 314,
   "metadata": {},
   "outputs": [
    {
     "data": {
      "text/plain": [
       "임대보증금    31\n",
       "임대료      31\n",
       "dtype: int64"
      ]
     },
     "execution_count": 314,
     "metadata": {},
     "output_type": "execute_result"
    }
   ],
   "source": [
    "df6 = train[(train['지역']==\"강원도\") & (train['임대건물구분']=='상가')]\n",
    "df6[['임대보증금','임대료']].isnull().sum()"
   ]
  },
  {
   "cell_type": "code",
   "execution_count": 315,
   "metadata": {},
   "outputs": [
    {
     "name": "stdout",
     "output_type": "stream",
     "text": [
      "nan\n",
      "nan\n"
     ]
    }
   ],
   "source": [
    "df6 = df6.dropna(axis=0)\n",
    "print(df6['임대보증금'].astype('int32').mean())\n",
    "print(df6['임대료'].astype('int32').mean())"
   ]
  },
  {
   "cell_type": "code",
   "execution_count": 316,
   "metadata": {},
   "outputs": [
    {
     "data": {
      "text/plain": [
       "임대보증금    0\n",
       "임대료      0\n",
       "dtype: int64"
      ]
     },
     "execution_count": 316,
     "metadata": {},
     "output_type": "execute_result"
    }
   ],
   "source": [
    "df6 = train[(train['지역']==\"광주광역시\") & (train['임대건물구분']=='아파트')]\n",
    "df6[['임대보증금','임대료']].isnull().sum()"
   ]
  },
  {
   "cell_type": "code",
   "execution_count": 317,
   "metadata": {},
   "outputs": [
    {
     "data": {
      "text/plain": [
       "임대보증금    0\n",
       "임대료      0\n",
       "dtype: int64"
      ]
     },
     "execution_count": 317,
     "metadata": {},
     "output_type": "execute_result"
    }
   ],
   "source": [
    "df6 = train[(train['지역']==\"광주광역시\") & (train['임대건물구분']=='상가')]\n",
    "df6[['임대보증금','임대료']].isnull().sum()"
   ]
  },
  {
   "cell_type": "code",
   "execution_count": 318,
   "metadata": {},
   "outputs": [
    {
     "data": {
      "text/plain": [
       "임대보증금    0\n",
       "임대료      0\n",
       "dtype: int64"
      ]
     },
     "execution_count": 318,
     "metadata": {},
     "output_type": "execute_result"
    }
   ],
   "source": [
    "df6 = train[(train['지역']==\"충청남도\") & (train['임대건물구분']=='아파트')]\n",
    "df6[['임대보증금','임대료']].isnull().sum()"
   ]
  },
  {
   "cell_type": "code",
   "execution_count": 319,
   "metadata": {},
   "outputs": [
    {
     "data": {
      "text/plain": [
       "임대보증금    76\n",
       "임대료      76\n",
       "dtype: int64"
      ]
     },
     "execution_count": 319,
     "metadata": {},
     "output_type": "execute_result"
    }
   ],
   "source": [
    "df6 = train[(train['지역']==\"충청남도\") & (train['임대건물구분']=='상가')]\n",
    "df6[['임대보증금','임대료']].isnull().sum()"
   ]
  },
  {
   "cell_type": "code",
   "execution_count": 320,
   "metadata": {},
   "outputs": [],
   "source": [
    "df6 = df6.dropna(axis=0)\n",
    "#print(df6['임대보증금'].astype('int32').mean())\n",
    "#print(df6['임대료'].astype('int32').mean())"
   ]
  },
  {
   "cell_type": "code",
   "execution_count": 321,
   "metadata": {},
   "outputs": [
    {
     "data": {
      "text/html": [
       "<div>\n",
       "<style scoped>\n",
       "    .dataframe tbody tr th:only-of-type {\n",
       "        vertical-align: middle;\n",
       "    }\n",
       "\n",
       "    .dataframe tbody tr th {\n",
       "        vertical-align: top;\n",
       "    }\n",
       "\n",
       "    .dataframe thead th {\n",
       "        text-align: right;\n",
       "    }\n",
       "</style>\n",
       "<table border=\"1\" class=\"dataframe\">\n",
       "  <thead>\n",
       "    <tr style=\"text-align: right;\">\n",
       "      <th></th>\n",
       "      <th>단지코드</th>\n",
       "      <th>총세대수</th>\n",
       "      <th>임대건물구분</th>\n",
       "      <th>지역</th>\n",
       "      <th>공급유형</th>\n",
       "      <th>전용면적</th>\n",
       "      <th>전용면적별세대수</th>\n",
       "      <th>공가수</th>\n",
       "      <th>자격유형</th>\n",
       "      <th>임대보증금</th>\n",
       "      <th>임대료</th>\n",
       "      <th>지하철</th>\n",
       "      <th>버스</th>\n",
       "      <th>단지내주차면수</th>\n",
       "      <th>등록차량수</th>\n",
       "    </tr>\n",
       "  </thead>\n",
       "  <tbody>\n",
       "  </tbody>\n",
       "</table>\n",
       "</div>"
      ],
      "text/plain": [
       "Empty DataFrame\n",
       "Columns: [단지코드, 총세대수, 임대건물구분, 지역, 공급유형, 전용면적, 전용면적별세대수, 공가수, 자격유형, 임대보증금, 임대료, 지하철, 버스, 단지내주차면수, 등록차량수]\n",
       "Index: []"
      ]
     },
     "execution_count": 321,
     "metadata": {},
     "output_type": "execute_result"
    }
   ],
   "source": [
    "df6"
   ]
  },
  {
   "cell_type": "code",
   "execution_count": 322,
   "metadata": {},
   "outputs": [
    {
     "data": {
      "text/plain": [
       "임대보증금    0\n",
       "임대료      0\n",
       "dtype: int64"
      ]
     },
     "execution_count": 322,
     "metadata": {},
     "output_type": "execute_result"
    }
   ],
   "source": [
    "df6 = train[(train['지역']==\"부산광역시\") & (train['임대건물구분']=='아파트')]\n",
    "df6[['임대보증금','임대료']].isnull().sum()"
   ]
  },
  {
   "cell_type": "code",
   "execution_count": 323,
   "metadata": {},
   "outputs": [
    {
     "data": {
      "text/plain": [
       "임대보증금    220\n",
       "임대료      220\n",
       "dtype: int64"
      ]
     },
     "execution_count": 323,
     "metadata": {},
     "output_type": "execute_result"
    }
   ],
   "source": [
    "df6 = train[(train['지역']==\"부산광역시\") & (train['임대건물구분']=='상가')]\n",
    "df6[['임대보증금','임대료']].isnull().sum()"
   ]
  },
  {
   "cell_type": "code",
   "execution_count": 324,
   "metadata": {},
   "outputs": [
    {
     "data": {
      "text/html": [
       "<div>\n",
       "<style scoped>\n",
       "    .dataframe tbody tr th:only-of-type {\n",
       "        vertical-align: middle;\n",
       "    }\n",
       "\n",
       "    .dataframe tbody tr th {\n",
       "        vertical-align: top;\n",
       "    }\n",
       "\n",
       "    .dataframe thead th {\n",
       "        text-align: right;\n",
       "    }\n",
       "</style>\n",
       "<table border=\"1\" class=\"dataframe\">\n",
       "  <thead>\n",
       "    <tr style=\"text-align: right;\">\n",
       "      <th></th>\n",
       "      <th>단지코드</th>\n",
       "      <th>총세대수</th>\n",
       "      <th>임대건물구분</th>\n",
       "      <th>지역</th>\n",
       "      <th>공급유형</th>\n",
       "      <th>전용면적</th>\n",
       "      <th>전용면적별세대수</th>\n",
       "      <th>공가수</th>\n",
       "      <th>자격유형</th>\n",
       "      <th>임대보증금</th>\n",
       "      <th>임대료</th>\n",
       "      <th>지하철</th>\n",
       "      <th>버스</th>\n",
       "      <th>단지내주차면수</th>\n",
       "      <th>등록차량수</th>\n",
       "    </tr>\n",
       "  </thead>\n",
       "  <tbody>\n",
       "    <tr>\n",
       "      <th>371</th>\n",
       "      <td>C2135</td>\n",
       "      <td>1116</td>\n",
       "      <td>상가</td>\n",
       "      <td>부산광역시</td>\n",
       "      <td>임대상가</td>\n",
       "      <td>4</td>\n",
       "      <td>1</td>\n",
       "      <td>10</td>\n",
       "      <td>D</td>\n",
       "      <td>NaN</td>\n",
       "      <td>NaN</td>\n",
       "      <td>1.0</td>\n",
       "      <td>3.0</td>\n",
       "      <td>262</td>\n",
       "      <td>127</td>\n",
       "    </tr>\n",
       "    <tr>\n",
       "      <th>372</th>\n",
       "      <td>C2135</td>\n",
       "      <td>1116</td>\n",
       "      <td>상가</td>\n",
       "      <td>부산광역시</td>\n",
       "      <td>임대상가</td>\n",
       "      <td>6</td>\n",
       "      <td>1</td>\n",
       "      <td>10</td>\n",
       "      <td>D</td>\n",
       "      <td>NaN</td>\n",
       "      <td>NaN</td>\n",
       "      <td>1.0</td>\n",
       "      <td>3.0</td>\n",
       "      <td>262</td>\n",
       "      <td>127</td>\n",
       "    </tr>\n",
       "    <tr>\n",
       "      <th>373</th>\n",
       "      <td>C2135</td>\n",
       "      <td>1116</td>\n",
       "      <td>상가</td>\n",
       "      <td>부산광역시</td>\n",
       "      <td>임대상가</td>\n",
       "      <td>6</td>\n",
       "      <td>1</td>\n",
       "      <td>10</td>\n",
       "      <td>D</td>\n",
       "      <td>NaN</td>\n",
       "      <td>NaN</td>\n",
       "      <td>1.0</td>\n",
       "      <td>3.0</td>\n",
       "      <td>262</td>\n",
       "      <td>127</td>\n",
       "    </tr>\n",
       "    <tr>\n",
       "      <th>374</th>\n",
       "      <td>C2135</td>\n",
       "      <td>1116</td>\n",
       "      <td>상가</td>\n",
       "      <td>부산광역시</td>\n",
       "      <td>임대상가</td>\n",
       "      <td>6</td>\n",
       "      <td>1</td>\n",
       "      <td>10</td>\n",
       "      <td>D</td>\n",
       "      <td>NaN</td>\n",
       "      <td>NaN</td>\n",
       "      <td>1.0</td>\n",
       "      <td>3.0</td>\n",
       "      <td>262</td>\n",
       "      <td>127</td>\n",
       "    </tr>\n",
       "    <tr>\n",
       "      <th>375</th>\n",
       "      <td>C2135</td>\n",
       "      <td>1116</td>\n",
       "      <td>상가</td>\n",
       "      <td>부산광역시</td>\n",
       "      <td>임대상가</td>\n",
       "      <td>6</td>\n",
       "      <td>1</td>\n",
       "      <td>10</td>\n",
       "      <td>D</td>\n",
       "      <td>NaN</td>\n",
       "      <td>NaN</td>\n",
       "      <td>1.0</td>\n",
       "      <td>3.0</td>\n",
       "      <td>262</td>\n",
       "      <td>127</td>\n",
       "    </tr>\n",
       "    <tr>\n",
       "      <th>...</th>\n",
       "      <td>...</td>\n",
       "      <td>...</td>\n",
       "      <td>...</td>\n",
       "      <td>...</td>\n",
       "      <td>...</td>\n",
       "      <td>...</td>\n",
       "      <td>...</td>\n",
       "      <td>...</td>\n",
       "      <td>...</td>\n",
       "      <td>...</td>\n",
       "      <td>...</td>\n",
       "      <td>...</td>\n",
       "      <td>...</td>\n",
       "      <td>...</td>\n",
       "      <td>...</td>\n",
       "    </tr>\n",
       "    <tr>\n",
       "      <th>612</th>\n",
       "      <td>C1439</td>\n",
       "      <td>1755</td>\n",
       "      <td>상가</td>\n",
       "      <td>부산광역시</td>\n",
       "      <td>임대상가</td>\n",
       "      <td>12</td>\n",
       "      <td>1</td>\n",
       "      <td>29</td>\n",
       "      <td>D</td>\n",
       "      <td>NaN</td>\n",
       "      <td>NaN</td>\n",
       "      <td>1.0</td>\n",
       "      <td>3.0</td>\n",
       "      <td>270</td>\n",
       "      <td>172</td>\n",
       "    </tr>\n",
       "    <tr>\n",
       "      <th>613</th>\n",
       "      <td>C1439</td>\n",
       "      <td>1755</td>\n",
       "      <td>상가</td>\n",
       "      <td>부산광역시</td>\n",
       "      <td>임대상가</td>\n",
       "      <td>12</td>\n",
       "      <td>1</td>\n",
       "      <td>29</td>\n",
       "      <td>D</td>\n",
       "      <td>NaN</td>\n",
       "      <td>NaN</td>\n",
       "      <td>1.0</td>\n",
       "      <td>3.0</td>\n",
       "      <td>270</td>\n",
       "      <td>172</td>\n",
       "    </tr>\n",
       "    <tr>\n",
       "      <th>614</th>\n",
       "      <td>C1439</td>\n",
       "      <td>1755</td>\n",
       "      <td>상가</td>\n",
       "      <td>부산광역시</td>\n",
       "      <td>임대상가</td>\n",
       "      <td>19</td>\n",
       "      <td>1</td>\n",
       "      <td>29</td>\n",
       "      <td>D</td>\n",
       "      <td>NaN</td>\n",
       "      <td>NaN</td>\n",
       "      <td>1.0</td>\n",
       "      <td>3.0</td>\n",
       "      <td>270</td>\n",
       "      <td>172</td>\n",
       "    </tr>\n",
       "    <tr>\n",
       "      <th>615</th>\n",
       "      <td>C1439</td>\n",
       "      <td>1755</td>\n",
       "      <td>상가</td>\n",
       "      <td>부산광역시</td>\n",
       "      <td>임대상가</td>\n",
       "      <td>122</td>\n",
       "      <td>1</td>\n",
       "      <td>29</td>\n",
       "      <td>D</td>\n",
       "      <td>NaN</td>\n",
       "      <td>NaN</td>\n",
       "      <td>1.0</td>\n",
       "      <td>3.0</td>\n",
       "      <td>270</td>\n",
       "      <td>172</td>\n",
       "    </tr>\n",
       "    <tr>\n",
       "      <th>616</th>\n",
       "      <td>C1439</td>\n",
       "      <td>1755</td>\n",
       "      <td>상가</td>\n",
       "      <td>부산광역시</td>\n",
       "      <td>임대상가</td>\n",
       "      <td>122</td>\n",
       "      <td>1</td>\n",
       "      <td>29</td>\n",
       "      <td>D</td>\n",
       "      <td>NaN</td>\n",
       "      <td>NaN</td>\n",
       "      <td>1.0</td>\n",
       "      <td>3.0</td>\n",
       "      <td>270</td>\n",
       "      <td>172</td>\n",
       "    </tr>\n",
       "  </tbody>\n",
       "</table>\n",
       "<p>220 rows × 15 columns</p>\n",
       "</div>"
      ],
      "text/plain": [
       "      단지코드  총세대수 임대건물구분     지역  공급유형  전용면적  전용면적별세대수  공가수 자격유형 임대보증금  임대료  \\\n",
       "371  C2135  1116     상가  부산광역시  임대상가     4         1   10    D   NaN  NaN   \n",
       "372  C2135  1116     상가  부산광역시  임대상가     6         1   10    D   NaN  NaN   \n",
       "373  C2135  1116     상가  부산광역시  임대상가     6         1   10    D   NaN  NaN   \n",
       "374  C2135  1116     상가  부산광역시  임대상가     6         1   10    D   NaN  NaN   \n",
       "375  C2135  1116     상가  부산광역시  임대상가     6         1   10    D   NaN  NaN   \n",
       "..     ...   ...    ...    ...   ...   ...       ...  ...  ...   ...  ...   \n",
       "612  C1439  1755     상가  부산광역시  임대상가    12         1   29    D   NaN  NaN   \n",
       "613  C1439  1755     상가  부산광역시  임대상가    12         1   29    D   NaN  NaN   \n",
       "614  C1439  1755     상가  부산광역시  임대상가    19         1   29    D   NaN  NaN   \n",
       "615  C1439  1755     상가  부산광역시  임대상가   122         1   29    D   NaN  NaN   \n",
       "616  C1439  1755     상가  부산광역시  임대상가   122         1   29    D   NaN  NaN   \n",
       "\n",
       "     지하철   버스  단지내주차면수  등록차량수  \n",
       "371  1.0  3.0      262    127  \n",
       "372  1.0  3.0      262    127  \n",
       "373  1.0  3.0      262    127  \n",
       "374  1.0  3.0      262    127  \n",
       "375  1.0  3.0      262    127  \n",
       "..   ...  ...      ...    ...  \n",
       "612  1.0  3.0      270    172  \n",
       "613  1.0  3.0      270    172  \n",
       "614  1.0  3.0      270    172  \n",
       "615  1.0  3.0      270    172  \n",
       "616  1.0  3.0      270    172  \n",
       "\n",
       "[220 rows x 15 columns]"
      ]
     },
     "execution_count": 324,
     "metadata": {},
     "output_type": "execute_result"
    }
   ],
   "source": [
    "df6"
   ]
  },
  {
   "cell_type": "code",
   "execution_count": 325,
   "metadata": {},
   "outputs": [
    {
     "name": "stdout",
     "output_type": "stream",
     "text": [
      "nan\n",
      "nan\n"
     ]
    }
   ],
   "source": [
    "df6 = df6.dropna(axis=0)\n",
    "print(df6['임대보증금'].astype('int32').mean())\n",
    "print(df6['임대료'].astype('int32').mean())"
   ]
  },
  {
   "cell_type": "code",
   "execution_count": 326,
   "metadata": {},
   "outputs": [],
   "source": [
    "df = train[train['지역']=='대구광역시']"
   ]
  },
  {
   "cell_type": "code",
   "execution_count": 327,
   "metadata": {},
   "outputs": [
    {
     "data": {
      "text/plain": [
       "array(['아파트'], dtype=object)"
      ]
     },
     "execution_count": 327,
     "metadata": {},
     "output_type": "execute_result"
    }
   ],
   "source": [
    "df['임대건물구분'].unique()"
   ]
  },
  {
   "cell_type": "code",
   "execution_count": 328,
   "metadata": {},
   "outputs": [
    {
     "data": {
      "text/plain": [
       "임대보증금    220\n",
       "임대료      220\n",
       "dtype: int64"
      ]
     },
     "execution_count": 328,
     "metadata": {},
     "output_type": "execute_result"
    }
   ],
   "source": [
    "df6 = train[(train['지역']==\"부산광역시\") & (train['임대건물구분']=='상가')]\n",
    "df6[['임대보증금','임대료']].isnull().sum()"
   ]
  },
  {
   "cell_type": "code",
   "execution_count": 329,
   "metadata": {},
   "outputs": [
    {
     "data": {
      "text/html": [
       "<div>\n",
       "<style scoped>\n",
       "    .dataframe tbody tr th:only-of-type {\n",
       "        vertical-align: middle;\n",
       "    }\n",
       "\n",
       "    .dataframe tbody tr th {\n",
       "        vertical-align: top;\n",
       "    }\n",
       "\n",
       "    .dataframe thead th {\n",
       "        text-align: right;\n",
       "    }\n",
       "</style>\n",
       "<table border=\"1\" class=\"dataframe\">\n",
       "  <thead>\n",
       "    <tr style=\"text-align: right;\">\n",
       "      <th></th>\n",
       "      <th>단지코드</th>\n",
       "      <th>총세대수</th>\n",
       "      <th>임대건물구분</th>\n",
       "      <th>지역</th>\n",
       "      <th>공급유형</th>\n",
       "      <th>전용면적</th>\n",
       "      <th>전용면적별세대수</th>\n",
       "      <th>공가수</th>\n",
       "      <th>자격유형</th>\n",
       "      <th>임대보증금</th>\n",
       "      <th>임대료</th>\n",
       "      <th>지하철</th>\n",
       "      <th>버스</th>\n",
       "      <th>단지내주차면수</th>\n",
       "      <th>등록차량수</th>\n",
       "    </tr>\n",
       "  </thead>\n",
       "  <tbody>\n",
       "    <tr>\n",
       "      <th>371</th>\n",
       "      <td>C2135</td>\n",
       "      <td>1116</td>\n",
       "      <td>상가</td>\n",
       "      <td>부산광역시</td>\n",
       "      <td>임대상가</td>\n",
       "      <td>4</td>\n",
       "      <td>1</td>\n",
       "      <td>10</td>\n",
       "      <td>D</td>\n",
       "      <td>NaN</td>\n",
       "      <td>NaN</td>\n",
       "      <td>1.0</td>\n",
       "      <td>3.0</td>\n",
       "      <td>262</td>\n",
       "      <td>127</td>\n",
       "    </tr>\n",
       "    <tr>\n",
       "      <th>372</th>\n",
       "      <td>C2135</td>\n",
       "      <td>1116</td>\n",
       "      <td>상가</td>\n",
       "      <td>부산광역시</td>\n",
       "      <td>임대상가</td>\n",
       "      <td>6</td>\n",
       "      <td>1</td>\n",
       "      <td>10</td>\n",
       "      <td>D</td>\n",
       "      <td>NaN</td>\n",
       "      <td>NaN</td>\n",
       "      <td>1.0</td>\n",
       "      <td>3.0</td>\n",
       "      <td>262</td>\n",
       "      <td>127</td>\n",
       "    </tr>\n",
       "    <tr>\n",
       "      <th>373</th>\n",
       "      <td>C2135</td>\n",
       "      <td>1116</td>\n",
       "      <td>상가</td>\n",
       "      <td>부산광역시</td>\n",
       "      <td>임대상가</td>\n",
       "      <td>6</td>\n",
       "      <td>1</td>\n",
       "      <td>10</td>\n",
       "      <td>D</td>\n",
       "      <td>NaN</td>\n",
       "      <td>NaN</td>\n",
       "      <td>1.0</td>\n",
       "      <td>3.0</td>\n",
       "      <td>262</td>\n",
       "      <td>127</td>\n",
       "    </tr>\n",
       "    <tr>\n",
       "      <th>374</th>\n",
       "      <td>C2135</td>\n",
       "      <td>1116</td>\n",
       "      <td>상가</td>\n",
       "      <td>부산광역시</td>\n",
       "      <td>임대상가</td>\n",
       "      <td>6</td>\n",
       "      <td>1</td>\n",
       "      <td>10</td>\n",
       "      <td>D</td>\n",
       "      <td>NaN</td>\n",
       "      <td>NaN</td>\n",
       "      <td>1.0</td>\n",
       "      <td>3.0</td>\n",
       "      <td>262</td>\n",
       "      <td>127</td>\n",
       "    </tr>\n",
       "    <tr>\n",
       "      <th>375</th>\n",
       "      <td>C2135</td>\n",
       "      <td>1116</td>\n",
       "      <td>상가</td>\n",
       "      <td>부산광역시</td>\n",
       "      <td>임대상가</td>\n",
       "      <td>6</td>\n",
       "      <td>1</td>\n",
       "      <td>10</td>\n",
       "      <td>D</td>\n",
       "      <td>NaN</td>\n",
       "      <td>NaN</td>\n",
       "      <td>1.0</td>\n",
       "      <td>3.0</td>\n",
       "      <td>262</td>\n",
       "      <td>127</td>\n",
       "    </tr>\n",
       "    <tr>\n",
       "      <th>...</th>\n",
       "      <td>...</td>\n",
       "      <td>...</td>\n",
       "      <td>...</td>\n",
       "      <td>...</td>\n",
       "      <td>...</td>\n",
       "      <td>...</td>\n",
       "      <td>...</td>\n",
       "      <td>...</td>\n",
       "      <td>...</td>\n",
       "      <td>...</td>\n",
       "      <td>...</td>\n",
       "      <td>...</td>\n",
       "      <td>...</td>\n",
       "      <td>...</td>\n",
       "      <td>...</td>\n",
       "    </tr>\n",
       "    <tr>\n",
       "      <th>612</th>\n",
       "      <td>C1439</td>\n",
       "      <td>1755</td>\n",
       "      <td>상가</td>\n",
       "      <td>부산광역시</td>\n",
       "      <td>임대상가</td>\n",
       "      <td>12</td>\n",
       "      <td>1</td>\n",
       "      <td>29</td>\n",
       "      <td>D</td>\n",
       "      <td>NaN</td>\n",
       "      <td>NaN</td>\n",
       "      <td>1.0</td>\n",
       "      <td>3.0</td>\n",
       "      <td>270</td>\n",
       "      <td>172</td>\n",
       "    </tr>\n",
       "    <tr>\n",
       "      <th>613</th>\n",
       "      <td>C1439</td>\n",
       "      <td>1755</td>\n",
       "      <td>상가</td>\n",
       "      <td>부산광역시</td>\n",
       "      <td>임대상가</td>\n",
       "      <td>12</td>\n",
       "      <td>1</td>\n",
       "      <td>29</td>\n",
       "      <td>D</td>\n",
       "      <td>NaN</td>\n",
       "      <td>NaN</td>\n",
       "      <td>1.0</td>\n",
       "      <td>3.0</td>\n",
       "      <td>270</td>\n",
       "      <td>172</td>\n",
       "    </tr>\n",
       "    <tr>\n",
       "      <th>614</th>\n",
       "      <td>C1439</td>\n",
       "      <td>1755</td>\n",
       "      <td>상가</td>\n",
       "      <td>부산광역시</td>\n",
       "      <td>임대상가</td>\n",
       "      <td>19</td>\n",
       "      <td>1</td>\n",
       "      <td>29</td>\n",
       "      <td>D</td>\n",
       "      <td>NaN</td>\n",
       "      <td>NaN</td>\n",
       "      <td>1.0</td>\n",
       "      <td>3.0</td>\n",
       "      <td>270</td>\n",
       "      <td>172</td>\n",
       "    </tr>\n",
       "    <tr>\n",
       "      <th>615</th>\n",
       "      <td>C1439</td>\n",
       "      <td>1755</td>\n",
       "      <td>상가</td>\n",
       "      <td>부산광역시</td>\n",
       "      <td>임대상가</td>\n",
       "      <td>122</td>\n",
       "      <td>1</td>\n",
       "      <td>29</td>\n",
       "      <td>D</td>\n",
       "      <td>NaN</td>\n",
       "      <td>NaN</td>\n",
       "      <td>1.0</td>\n",
       "      <td>3.0</td>\n",
       "      <td>270</td>\n",
       "      <td>172</td>\n",
       "    </tr>\n",
       "    <tr>\n",
       "      <th>616</th>\n",
       "      <td>C1439</td>\n",
       "      <td>1755</td>\n",
       "      <td>상가</td>\n",
       "      <td>부산광역시</td>\n",
       "      <td>임대상가</td>\n",
       "      <td>122</td>\n",
       "      <td>1</td>\n",
       "      <td>29</td>\n",
       "      <td>D</td>\n",
       "      <td>NaN</td>\n",
       "      <td>NaN</td>\n",
       "      <td>1.0</td>\n",
       "      <td>3.0</td>\n",
       "      <td>270</td>\n",
       "      <td>172</td>\n",
       "    </tr>\n",
       "  </tbody>\n",
       "</table>\n",
       "<p>220 rows × 15 columns</p>\n",
       "</div>"
      ],
      "text/plain": [
       "      단지코드  총세대수 임대건물구분     지역  공급유형  전용면적  전용면적별세대수  공가수 자격유형 임대보증금  임대료  \\\n",
       "371  C2135  1116     상가  부산광역시  임대상가     4         1   10    D   NaN  NaN   \n",
       "372  C2135  1116     상가  부산광역시  임대상가     6         1   10    D   NaN  NaN   \n",
       "373  C2135  1116     상가  부산광역시  임대상가     6         1   10    D   NaN  NaN   \n",
       "374  C2135  1116     상가  부산광역시  임대상가     6         1   10    D   NaN  NaN   \n",
       "375  C2135  1116     상가  부산광역시  임대상가     6         1   10    D   NaN  NaN   \n",
       "..     ...   ...    ...    ...   ...   ...       ...  ...  ...   ...  ...   \n",
       "612  C1439  1755     상가  부산광역시  임대상가    12         1   29    D   NaN  NaN   \n",
       "613  C1439  1755     상가  부산광역시  임대상가    12         1   29    D   NaN  NaN   \n",
       "614  C1439  1755     상가  부산광역시  임대상가    19         1   29    D   NaN  NaN   \n",
       "615  C1439  1755     상가  부산광역시  임대상가   122         1   29    D   NaN  NaN   \n",
       "616  C1439  1755     상가  부산광역시  임대상가   122         1   29    D   NaN  NaN   \n",
       "\n",
       "     지하철   버스  단지내주차면수  등록차량수  \n",
       "371  1.0  3.0      262    127  \n",
       "372  1.0  3.0      262    127  \n",
       "373  1.0  3.0      262    127  \n",
       "374  1.0  3.0      262    127  \n",
       "375  1.0  3.0      262    127  \n",
       "..   ...  ...      ...    ...  \n",
       "612  1.0  3.0      270    172  \n",
       "613  1.0  3.0      270    172  \n",
       "614  1.0  3.0      270    172  \n",
       "615  1.0  3.0      270    172  \n",
       "616  1.0  3.0      270    172  \n",
       "\n",
       "[220 rows x 15 columns]"
      ]
     },
     "execution_count": 329,
     "metadata": {},
     "output_type": "execute_result"
    }
   ],
   "source": [
    "df6"
   ]
  },
  {
   "cell_type": "code",
   "execution_count": 330,
   "metadata": {},
   "outputs": [],
   "source": [
    "#print(df6['임대보증금'].astype('int32').mean())"
   ]
  },
  {
   "cell_type": "code",
   "execution_count": 331,
   "metadata": {},
   "outputs": [],
   "source": [
    "#print(df6['임대료'].astype('int32').mean())"
   ]
  },
  {
   "cell_type": "markdown",
   "metadata": {},
   "source": [
    "### 데이터 오류 수정"
   ]
  },
  {
   "cell_type": "code",
   "execution_count": 332,
   "metadata": {},
   "outputs": [],
   "source": [
    "a=train[train['단지코드'].isin(['C1095', 'C2051', 'C1218', 'C1894', 'C2483', 'C1502', 'C1988','C2085', 'C1397','C2431', 'C1649','C1036'])].index\n",
    "b=train[train['단지코드'].isin(['C2335', 'C1327','C2675'])].index\n",
    "train.drop(a,inplace=True)\n",
    "test.drop(b,inplace=True)"
   ]
  },
  {
   "cell_type": "code",
   "execution_count": 333,
   "metadata": {},
   "outputs": [
    {
     "data": {
      "text/plain": [
       "임대보증금    7\n",
       "임대료      7\n",
       "dtype: int64"
      ]
     },
     "execution_count": 333,
     "metadata": {},
     "output_type": "execute_result"
    }
   ],
   "source": [
    "df6 = train[(train['지역']==\"대전광역시\") & (train['임대건물구분']=='아파트')]\n",
    "df6[['임대보증금','임대료']].isnull().sum()"
   ]
  },
  {
   "cell_type": "code",
   "execution_count": 334,
   "metadata": {},
   "outputs": [
    {
     "data": {
      "text/plain": [
       "단지코드          0\n",
       "총세대수          0\n",
       "임대건물구분        0\n",
       "지역            0\n",
       "공급유형          0\n",
       "전용면적          0\n",
       "전용면적별세대수      0\n",
       "공가수           0\n",
       "자격유형          0\n",
       "임대보증금       569\n",
       "임대료         569\n",
       "지하철           0\n",
       "버스            0\n",
       "단지내주차면수       0\n",
       "등록차량수         0\n",
       "dtype: int64"
      ]
     },
     "execution_count": 334,
     "metadata": {},
     "output_type": "execute_result"
    }
   ],
   "source": [
    "train.isnull().sum()"
   ]
  },
  {
   "cell_type": "code",
   "execution_count": 335,
   "metadata": {},
   "outputs": [
    {
     "data": {
      "text/html": [
       "<div>\n",
       "<style scoped>\n",
       "    .dataframe tbody tr th:only-of-type {\n",
       "        vertical-align: middle;\n",
       "    }\n",
       "\n",
       "    .dataframe tbody tr th {\n",
       "        vertical-align: top;\n",
       "    }\n",
       "\n",
       "    .dataframe thead th {\n",
       "        text-align: right;\n",
       "    }\n",
       "</style>\n",
       "<table border=\"1\" class=\"dataframe\">\n",
       "  <thead>\n",
       "    <tr style=\"text-align: right;\">\n",
       "      <th></th>\n",
       "      <th>임대보증금</th>\n",
       "      <th>임대료</th>\n",
       "    </tr>\n",
       "  </thead>\n",
       "  <tbody>\n",
       "    <tr>\n",
       "      <th>15</th>\n",
       "      <td>False</td>\n",
       "      <td>False</td>\n",
       "    </tr>\n",
       "    <tr>\n",
       "      <th>16</th>\n",
       "      <td>False</td>\n",
       "      <td>False</td>\n",
       "    </tr>\n",
       "    <tr>\n",
       "      <th>17</th>\n",
       "      <td>False</td>\n",
       "      <td>False</td>\n",
       "    </tr>\n",
       "    <tr>\n",
       "      <th>18</th>\n",
       "      <td>False</td>\n",
       "      <td>False</td>\n",
       "    </tr>\n",
       "    <tr>\n",
       "      <th>19</th>\n",
       "      <td>False</td>\n",
       "      <td>False</td>\n",
       "    </tr>\n",
       "    <tr>\n",
       "      <th>...</th>\n",
       "      <td>...</td>\n",
       "      <td>...</td>\n",
       "    </tr>\n",
       "    <tr>\n",
       "      <th>2835</th>\n",
       "      <td>False</td>\n",
       "      <td>False</td>\n",
       "    </tr>\n",
       "    <tr>\n",
       "      <th>2836</th>\n",
       "      <td>False</td>\n",
       "      <td>False</td>\n",
       "    </tr>\n",
       "    <tr>\n",
       "      <th>2837</th>\n",
       "      <td>False</td>\n",
       "      <td>False</td>\n",
       "    </tr>\n",
       "    <tr>\n",
       "      <th>2838</th>\n",
       "      <td>False</td>\n",
       "      <td>False</td>\n",
       "    </tr>\n",
       "    <tr>\n",
       "      <th>2839</th>\n",
       "      <td>False</td>\n",
       "      <td>False</td>\n",
       "    </tr>\n",
       "  </tbody>\n",
       "</table>\n",
       "<p>153 rows × 2 columns</p>\n",
       "</div>"
      ],
      "text/plain": [
       "      임대보증금    임대료\n",
       "15    False  False\n",
       "16    False  False\n",
       "17    False  False\n",
       "18    False  False\n",
       "19    False  False\n",
       "...     ...    ...\n",
       "2835  False  False\n",
       "2836  False  False\n",
       "2837  False  False\n",
       "2838  False  False\n",
       "2839  False  False\n",
       "\n",
       "[153 rows x 2 columns]"
      ]
     },
     "execution_count": 335,
     "metadata": {},
     "output_type": "execute_result"
    }
   ],
   "source": [
    "df = train[(train['지역']==\"대전광역시\") & (train['임대건물구분']=='아파트')]\n",
    "df[['임대보증금','임대료']].isna()"
   ]
  },
  {
   "cell_type": "markdown",
   "metadata": {},
   "source": [
    "### 대전광역시 아파트 임대보증금,임대료, 행 평균으로 채우기"
   ]
  },
  {
   "cell_type": "code",
   "execution_count": 336,
   "metadata": {},
   "outputs": [],
   "source": [
    "train.loc[(train['임대건물구분'] == \"아파트\")&(train['지역']=='대전광역시'),'임대보증금'] = 23559582\n",
    "train.loc[(train['임대건물구분'] == \"아파트\")&(train['지역']=='대전광역시'),'임대료'] = 173558"
   ]
  },
  {
   "cell_type": "code",
   "execution_count": 337,
   "metadata": {},
   "outputs": [
    {
     "data": {
      "text/plain": [
       "단지코드          0\n",
       "총세대수          0\n",
       "임대건물구분        0\n",
       "지역            0\n",
       "공급유형          0\n",
       "전용면적          0\n",
       "전용면적별세대수      0\n",
       "공가수           0\n",
       "자격유형          0\n",
       "임대보증금       562\n",
       "임대료         562\n",
       "지하철           0\n",
       "버스            0\n",
       "단지내주차면수       0\n",
       "등록차량수         0\n",
       "dtype: int64"
      ]
     },
     "execution_count": 337,
     "metadata": {},
     "output_type": "execute_result"
    }
   ],
   "source": [
    "train.isnull().sum()"
   ]
  },
  {
   "cell_type": "markdown",
   "metadata": {},
   "source": [
    "부산 상가 임대료 : 492000<br>\n",
    "경남 상가 임대료: 229500<br>\n",
    "제주 상가 임대료: 66500<br>\n",
    "대전 상가 임대료: 98000<br>\n",
    "강원도 상가 임대료: 137500<br>\n",
    "충남 상가 임대료: 175500<br>"
   ]
  },
  {
   "cell_type": "code",
   "execution_count": 338,
   "metadata": {},
   "outputs": [
    {
     "data": {
      "text/html": [
       "<div>\n",
       "<style scoped>\n",
       "    .dataframe tbody tr th:only-of-type {\n",
       "        vertical-align: middle;\n",
       "    }\n",
       "\n",
       "    .dataframe tbody tr th {\n",
       "        vertical-align: top;\n",
       "    }\n",
       "\n",
       "    .dataframe thead th {\n",
       "        text-align: right;\n",
       "    }\n",
       "</style>\n",
       "<table border=\"1\" class=\"dataframe\">\n",
       "  <thead>\n",
       "    <tr style=\"text-align: right;\">\n",
       "      <th></th>\n",
       "      <th>임대보증금</th>\n",
       "      <th>임대료</th>\n",
       "    </tr>\n",
       "  </thead>\n",
       "  <tbody>\n",
       "    <tr>\n",
       "      <th>8</th>\n",
       "      <td>9216000</td>\n",
       "      <td>82940</td>\n",
       "    </tr>\n",
       "    <tr>\n",
       "      <th>9</th>\n",
       "      <td>12672000</td>\n",
       "      <td>107130</td>\n",
       "    </tr>\n",
       "    <tr>\n",
       "      <th>10</th>\n",
       "      <td>12672000</td>\n",
       "      <td>107130</td>\n",
       "    </tr>\n",
       "    <tr>\n",
       "      <th>11</th>\n",
       "      <td>18433000</td>\n",
       "      <td>149760</td>\n",
       "    </tr>\n",
       "    <tr>\n",
       "      <th>12</th>\n",
       "      <td>18433000</td>\n",
       "      <td>149760</td>\n",
       "    </tr>\n",
       "    <tr>\n",
       "      <th>...</th>\n",
       "      <td>...</td>\n",
       "      <td>...</td>\n",
       "    </tr>\n",
       "    <tr>\n",
       "      <th>2947</th>\n",
       "      <td>11346000</td>\n",
       "      <td>116090</td>\n",
       "    </tr>\n",
       "    <tr>\n",
       "      <th>2948</th>\n",
       "      <td>14005000</td>\n",
       "      <td>142310</td>\n",
       "    </tr>\n",
       "    <tr>\n",
       "      <th>2949</th>\n",
       "      <td>14005000</td>\n",
       "      <td>142310</td>\n",
       "    </tr>\n",
       "    <tr>\n",
       "      <th>2950</th>\n",
       "      <td>14005000</td>\n",
       "      <td>142310</td>\n",
       "    </tr>\n",
       "    <tr>\n",
       "      <th>2951</th>\n",
       "      <td>14830000</td>\n",
       "      <td>151030</td>\n",
       "    </tr>\n",
       "  </tbody>\n",
       "</table>\n",
       "<p>2307 rows × 2 columns</p>\n",
       "</div>"
      ],
      "text/plain": [
       "         임대보증금     임대료\n",
       "8      9216000   82940\n",
       "9     12672000  107130\n",
       "10    12672000  107130\n",
       "11    18433000  149760\n",
       "12    18433000  149760\n",
       "...        ...     ...\n",
       "2947  11346000  116090\n",
       "2948  14005000  142310\n",
       "2949  14005000  142310\n",
       "2950  14005000  142310\n",
       "2951  14830000  151030\n",
       "\n",
       "[2307 rows x 2 columns]"
      ]
     },
     "execution_count": 338,
     "metadata": {},
     "output_type": "execute_result"
    }
   ],
   "source": [
    "train1 = train.dropna(axis=0)\n",
    "train1 = train1[['임대보증금','임대료']].astype('int32')\n",
    "train1[['임대보증금','임대료']]"
   ]
  },
  {
   "cell_type": "code",
   "execution_count": 339,
   "metadata": {},
   "outputs": [
    {
     "data": {
      "text/plain": [
       "임대료    402766.6\n",
       "dtype: float64"
      ]
     },
     "execution_count": 339,
     "metadata": {},
     "output_type": "execute_result"
    }
   ],
   "source": [
    "df6 = train[(train['지역']==\"서울특별시\") & (train['임대건물구분']=='아파트')]\n",
    "df6[['임대료']].astype('int32').mean()"
   ]
  },
  {
   "cell_type": "markdown",
   "metadata": {},
   "source": [
    "### 상가 임대료 2020년 지역별 임대료 평균으로 채워넣기\n",
    "\n",
    "제주도, 경상남도, 대전광역시, 강원도, 충청남도, 부산광역시"
   ]
  },
  {
   "cell_type": "code",
   "execution_count": 340,
   "metadata": {},
   "outputs": [
    {
     "data": {
      "text/plain": [
       "175500"
      ]
     },
     "execution_count": 340,
     "metadata": {},
     "output_type": "execute_result"
    }
   ],
   "source": [
    "#데이터불러오기\n",
    "imdae= pd.read_csv('imdae.csv',encoding='cp949')\n",
    "imdae.drop(['2020(3)'],axis=1,inplace=True)\n",
    "imdae\n",
    "\n",
    "\n",
    "#부산 상가 임대료\n",
    "busan=imdae[imdae['지역'].str.contains('부산')] \n",
    "busan\n",
    "\n",
    "busan1=round(busan['2020(1)'].sum(),0)\n",
    "busan2=round(busan['2020(2)'].sum(),0)\n",
    "\n",
    "busanim=int((busan1+busan2)/2 * 1000)\n",
    "busanim\n",
    "\n",
    "\n",
    "#경남 상가 임대료\n",
    "namdo=imdae[imdae['지역'].str.contains('경남')] \n",
    "namdo\n",
    "\n",
    "namdo1=round(namdo['2020(1)'].sum(),0)\n",
    "namdo2=round(namdo['2020(2)'].sum(),0)\n",
    "\n",
    "namdoim=int((namdo1+namdo2)/2 *1000)\n",
    "namdoim\n",
    "\n",
    "\n",
    "#제주 상가 임대료\n",
    "jeju=imdae[imdae['지역'].str.contains('제주')] \n",
    "jeju\n",
    "\n",
    "jeju1=round(jeju['2020(1)'].sum(),0)\n",
    "jeju2=round(jeju['2020(2)'].sum(),0)\n",
    "\n",
    "jejuim=int((jeju1+jeju2)/2 *1000)\n",
    "jejuim\n",
    "\n",
    "\n",
    "# 대전 상가 임대료\n",
    "dajun=imdae[imdae['지역'].str.contains('대전')] \n",
    "dajun\n",
    "\n",
    "dajun1=round(dajun['2020(1)'].sum(),0)\n",
    "dajun2=round(dajun['2020(2)'].sum(),0)\n",
    "\n",
    "dajunim=int((dajun1+dajun2)/2 * 1000)\n",
    "dajunim\n",
    "\n",
    "\n",
    "# 강원도 상가 임대료\n",
    "kang=imdae[imdae['지역'].str.contains('강원')] \n",
    "kang\n",
    "\n",
    "kang1=round(kang['2020(1)'].sum(),0)\n",
    "kang2=round(kang['2020(2)'].sum(),0)\n",
    "\n",
    "kangim=int((kang1+kang2)/2 * 1000)\n",
    "kangim\n",
    "\n",
    "\n",
    "# 충청남도 상가 임대료\n",
    "chung=imdae[imdae['지역'].str.contains('충남')] \n",
    "chung\n",
    "\n",
    "chung1=round(chung['2020(1)'].sum(),0)\n",
    "chung2=round(chung['2020(2)'].sum(),0)\n",
    "\n",
    "chungim=int((chung1+chung2)/2 * 1000)\n",
    "chungim"
   ]
  },
  {
   "cell_type": "code",
   "execution_count": 341,
   "metadata": {},
   "outputs": [],
   "source": [
    "train.loc[(train['임대건물구분'] == \"상가\")&(train['지역']=='강원도'),'임대료'] = kangim\n",
    "train.loc[(train['임대건물구분'] == \"상가\")&(train['지역']=='부산광역시'),'임대료'] = busanim\n",
    "train.loc[(train['임대건물구분'] == \"상가\")&(train['지역']=='경상남도'),'임대료'] = namdoim\n",
    "train.loc[(train['임대건물구분'] == \"상가\")&(train['지역']=='제주특별자치도'),'임대료'] = jejuim\n",
    "train.loc[(train['임대건물구분'] == \"상가\")&(train['지역']=='충청남도'),'임대료'] = chungim\n",
    "train.loc[(train['임대건물구분'] == \"상가\")&(train['지역']=='대전광역시'),'임대료'] = dajunim"
   ]
  },
  {
   "cell_type": "code",
   "execution_count": 342,
   "metadata": {},
   "outputs": [
    {
     "data": {
      "text/plain": [
       "단지코드          0\n",
       "총세대수          0\n",
       "임대건물구분        0\n",
       "지역            0\n",
       "공급유형          0\n",
       "전용면적          0\n",
       "전용면적별세대수      0\n",
       "공가수           0\n",
       "자격유형          0\n",
       "임대보증금       562\n",
       "임대료           0\n",
       "지하철           0\n",
       "버스            0\n",
       "단지내주차면수       0\n",
       "등록차량수         0\n",
       "dtype: int64"
      ]
     },
     "execution_count": 342,
     "metadata": {},
     "output_type": "execute_result"
    }
   ],
   "source": [
    "train.isnull().sum()"
   ]
  },
  {
   "cell_type": "markdown",
   "metadata": {},
   "source": [
    "## 임대건물구분이 상가면 임대보증금이 전부 nan이니 상관없을거 같아서 0으로 채우기로 함"
   ]
  },
  {
   "cell_type": "code",
   "execution_count": 343,
   "metadata": {},
   "outputs": [],
   "source": [
    "df11 = train[train['임대건물구분']=='상가']"
   ]
  },
  {
   "cell_type": "code",
   "execution_count": 344,
   "metadata": {},
   "outputs": [
    {
     "data": {
      "text/plain": [
       "array([nan], dtype=object)"
      ]
     },
     "execution_count": 344,
     "metadata": {},
     "output_type": "execute_result"
    }
   ],
   "source": [
    "df11['임대보증금'].unique()"
   ]
  },
  {
   "cell_type": "code",
   "execution_count": 345,
   "metadata": {},
   "outputs": [],
   "source": [
    "train.loc[train['임대건물구분'] == \"상가\",'임대보증금'] = 0"
   ]
  },
  {
   "cell_type": "code",
   "execution_count": 346,
   "metadata": {},
   "outputs": [
    {
     "data": {
      "text/plain": [
       "단지코드        0\n",
       "총세대수        0\n",
       "임대건물구분      0\n",
       "지역          0\n",
       "공급유형        0\n",
       "전용면적        0\n",
       "전용면적별세대수    0\n",
       "공가수         0\n",
       "자격유형        0\n",
       "임대보증금       0\n",
       "임대료         0\n",
       "지하철         0\n",
       "버스          0\n",
       "단지내주차면수     0\n",
       "등록차량수       0\n",
       "dtype: int64"
      ]
     },
     "execution_count": 346,
     "metadata": {},
     "output_type": "execute_result"
    }
   ],
   "source": [
    "train.isnull().sum()"
   ]
  },
  {
   "cell_type": "markdown",
   "metadata": {},
   "source": [
    "다음 시간에 할 거 (수 1시)\n",
    "\n",
    "1. 마지막 데이터 전처리\n",
    "2. 회귀 모델 하나씩 공부하기"
   ]
  },
  {
   "cell_type": "markdown",
   "metadata": {},
   "source": [
    "단변량 다중 회귀 모델"
   ]
  },
  {
   "cell_type": "code",
   "execution_count": 347,
   "metadata": {},
   "outputs": [
    {
     "data": {
      "text/html": [
       "<div>\n",
       "<style scoped>\n",
       "    .dataframe tbody tr th:only-of-type {\n",
       "        vertical-align: middle;\n",
       "    }\n",
       "\n",
       "    .dataframe tbody tr th {\n",
       "        vertical-align: top;\n",
       "    }\n",
       "\n",
       "    .dataframe thead th {\n",
       "        text-align: right;\n",
       "    }\n",
       "</style>\n",
       "<table border=\"1\" class=\"dataframe\">\n",
       "  <thead>\n",
       "    <tr style=\"text-align: right;\">\n",
       "      <th></th>\n",
       "      <th>단지코드</th>\n",
       "      <th>총세대수</th>\n",
       "      <th>임대건물구분</th>\n",
       "      <th>지역</th>\n",
       "      <th>공급유형</th>\n",
       "      <th>전용면적</th>\n",
       "      <th>전용면적별세대수</th>\n",
       "      <th>공가수</th>\n",
       "      <th>자격유형</th>\n",
       "      <th>임대보증금</th>\n",
       "      <th>임대료</th>\n",
       "      <th>지하철</th>\n",
       "      <th>버스</th>\n",
       "      <th>단지내주차면수</th>\n",
       "      <th>등록차량수</th>\n",
       "    </tr>\n",
       "  </thead>\n",
       "  <tbody>\n",
       "    <tr>\n",
       "      <th>8</th>\n",
       "      <td>C2515</td>\n",
       "      <td>545</td>\n",
       "      <td>아파트</td>\n",
       "      <td>경상남도</td>\n",
       "      <td>국민임대</td>\n",
       "      <td>10</td>\n",
       "      <td>276</td>\n",
       "      <td>17</td>\n",
       "      <td>A</td>\n",
       "      <td>9216000</td>\n",
       "      <td>82940</td>\n",
       "      <td>0.0</td>\n",
       "      <td>3.0</td>\n",
       "      <td>624</td>\n",
       "      <td>205</td>\n",
       "    </tr>\n",
       "    <tr>\n",
       "      <th>9</th>\n",
       "      <td>C2515</td>\n",
       "      <td>545</td>\n",
       "      <td>아파트</td>\n",
       "      <td>경상남도</td>\n",
       "      <td>국민임대</td>\n",
       "      <td>12</td>\n",
       "      <td>60</td>\n",
       "      <td>17</td>\n",
       "      <td>A</td>\n",
       "      <td>12672000</td>\n",
       "      <td>107130</td>\n",
       "      <td>0.0</td>\n",
       "      <td>3.0</td>\n",
       "      <td>624</td>\n",
       "      <td>205</td>\n",
       "    </tr>\n",
       "    <tr>\n",
       "      <th>10</th>\n",
       "      <td>C2515</td>\n",
       "      <td>545</td>\n",
       "      <td>아파트</td>\n",
       "      <td>경상남도</td>\n",
       "      <td>국민임대</td>\n",
       "      <td>12</td>\n",
       "      <td>20</td>\n",
       "      <td>17</td>\n",
       "      <td>A</td>\n",
       "      <td>12672000</td>\n",
       "      <td>107130</td>\n",
       "      <td>0.0</td>\n",
       "      <td>3.0</td>\n",
       "      <td>624</td>\n",
       "      <td>205</td>\n",
       "    </tr>\n",
       "    <tr>\n",
       "      <th>11</th>\n",
       "      <td>C2515</td>\n",
       "      <td>545</td>\n",
       "      <td>아파트</td>\n",
       "      <td>경상남도</td>\n",
       "      <td>국민임대</td>\n",
       "      <td>14</td>\n",
       "      <td>38</td>\n",
       "      <td>17</td>\n",
       "      <td>A</td>\n",
       "      <td>18433000</td>\n",
       "      <td>149760</td>\n",
       "      <td>0.0</td>\n",
       "      <td>3.0</td>\n",
       "      <td>624</td>\n",
       "      <td>205</td>\n",
       "    </tr>\n",
       "    <tr>\n",
       "      <th>12</th>\n",
       "      <td>C2515</td>\n",
       "      <td>545</td>\n",
       "      <td>아파트</td>\n",
       "      <td>경상남도</td>\n",
       "      <td>국민임대</td>\n",
       "      <td>14</td>\n",
       "      <td>19</td>\n",
       "      <td>17</td>\n",
       "      <td>A</td>\n",
       "      <td>18433000</td>\n",
       "      <td>149760</td>\n",
       "      <td>0.0</td>\n",
       "      <td>3.0</td>\n",
       "      <td>624</td>\n",
       "      <td>205</td>\n",
       "    </tr>\n",
       "    <tr>\n",
       "      <th>...</th>\n",
       "      <td>...</td>\n",
       "      <td>...</td>\n",
       "      <td>...</td>\n",
       "      <td>...</td>\n",
       "      <td>...</td>\n",
       "      <td>...</td>\n",
       "      <td>...</td>\n",
       "      <td>...</td>\n",
       "      <td>...</td>\n",
       "      <td>...</td>\n",
       "      <td>...</td>\n",
       "      <td>...</td>\n",
       "      <td>...</td>\n",
       "      <td>...</td>\n",
       "      <td>...</td>\n",
       "    </tr>\n",
       "    <tr>\n",
       "      <th>2947</th>\n",
       "      <td>C2532</td>\n",
       "      <td>239</td>\n",
       "      <td>아파트</td>\n",
       "      <td>강원도</td>\n",
       "      <td>국민임대</td>\n",
       "      <td>15</td>\n",
       "      <td>19</td>\n",
       "      <td>7</td>\n",
       "      <td>A</td>\n",
       "      <td>11346000</td>\n",
       "      <td>116090</td>\n",
       "      <td>0.0</td>\n",
       "      <td>1.0</td>\n",
       "      <td>166</td>\n",
       "      <td>146</td>\n",
       "    </tr>\n",
       "    <tr>\n",
       "      <th>2948</th>\n",
       "      <td>C2532</td>\n",
       "      <td>239</td>\n",
       "      <td>아파트</td>\n",
       "      <td>강원도</td>\n",
       "      <td>국민임대</td>\n",
       "      <td>15</td>\n",
       "      <td>34</td>\n",
       "      <td>7</td>\n",
       "      <td>A</td>\n",
       "      <td>14005000</td>\n",
       "      <td>142310</td>\n",
       "      <td>0.0</td>\n",
       "      <td>1.0</td>\n",
       "      <td>166</td>\n",
       "      <td>146</td>\n",
       "    </tr>\n",
       "    <tr>\n",
       "      <th>2949</th>\n",
       "      <td>C2532</td>\n",
       "      <td>239</td>\n",
       "      <td>아파트</td>\n",
       "      <td>강원도</td>\n",
       "      <td>국민임대</td>\n",
       "      <td>16</td>\n",
       "      <td>34</td>\n",
       "      <td>7</td>\n",
       "      <td>A</td>\n",
       "      <td>14005000</td>\n",
       "      <td>142310</td>\n",
       "      <td>0.0</td>\n",
       "      <td>1.0</td>\n",
       "      <td>166</td>\n",
       "      <td>146</td>\n",
       "    </tr>\n",
       "    <tr>\n",
       "      <th>2950</th>\n",
       "      <td>C2532</td>\n",
       "      <td>239</td>\n",
       "      <td>아파트</td>\n",
       "      <td>강원도</td>\n",
       "      <td>국민임대</td>\n",
       "      <td>16</td>\n",
       "      <td>114</td>\n",
       "      <td>7</td>\n",
       "      <td>A</td>\n",
       "      <td>14005000</td>\n",
       "      <td>142310</td>\n",
       "      <td>0.0</td>\n",
       "      <td>1.0</td>\n",
       "      <td>166</td>\n",
       "      <td>146</td>\n",
       "    </tr>\n",
       "    <tr>\n",
       "      <th>2951</th>\n",
       "      <td>C2532</td>\n",
       "      <td>239</td>\n",
       "      <td>아파트</td>\n",
       "      <td>강원도</td>\n",
       "      <td>국민임대</td>\n",
       "      <td>17</td>\n",
       "      <td>19</td>\n",
       "      <td>7</td>\n",
       "      <td>A</td>\n",
       "      <td>14830000</td>\n",
       "      <td>151030</td>\n",
       "      <td>0.0</td>\n",
       "      <td>1.0</td>\n",
       "      <td>166</td>\n",
       "      <td>146</td>\n",
       "    </tr>\n",
       "  </tbody>\n",
       "</table>\n",
       "<p>2869 rows × 15 columns</p>\n",
       "</div>"
      ],
      "text/plain": [
       "       단지코드  총세대수 임대건물구분    지역  공급유형  전용면적  전용면적별세대수  공가수 자격유형     임대보증금  \\\n",
       "8     C2515   545    아파트  경상남도  국민임대    10       276   17    A   9216000   \n",
       "9     C2515   545    아파트  경상남도  국민임대    12        60   17    A  12672000   \n",
       "10    C2515   545    아파트  경상남도  국민임대    12        20   17    A  12672000   \n",
       "11    C2515   545    아파트  경상남도  국민임대    14        38   17    A  18433000   \n",
       "12    C2515   545    아파트  경상남도  국민임대    14        19   17    A  18433000   \n",
       "...     ...   ...    ...   ...   ...   ...       ...  ...  ...       ...   \n",
       "2947  C2532   239    아파트   강원도  국민임대    15        19    7    A  11346000   \n",
       "2948  C2532   239    아파트   강원도  국민임대    15        34    7    A  14005000   \n",
       "2949  C2532   239    아파트   강원도  국민임대    16        34    7    A  14005000   \n",
       "2950  C2532   239    아파트   강원도  국민임대    16       114    7    A  14005000   \n",
       "2951  C2532   239    아파트   강원도  국민임대    17        19    7    A  14830000   \n",
       "\n",
       "         임대료  지하철   버스  단지내주차면수  등록차량수  \n",
       "8      82940  0.0  3.0      624    205  \n",
       "9     107130  0.0  3.0      624    205  \n",
       "10    107130  0.0  3.0      624    205  \n",
       "11    149760  0.0  3.0      624    205  \n",
       "12    149760  0.0  3.0      624    205  \n",
       "...      ...  ...  ...      ...    ...  \n",
       "2947  116090  0.0  1.0      166    146  \n",
       "2948  142310  0.0  1.0      166    146  \n",
       "2949  142310  0.0  1.0      166    146  \n",
       "2950  142310  0.0  1.0      166    146  \n",
       "2951  151030  0.0  1.0      166    146  \n",
       "\n",
       "[2869 rows x 15 columns]"
      ]
     },
     "execution_count": 347,
     "metadata": {},
     "output_type": "execute_result"
    }
   ],
   "source": [
    "train"
   ]
  },
  {
   "cell_type": "code",
   "execution_count": 348,
   "metadata": {},
   "outputs": [],
   "source": [
    "train['지하철']=train['지하철'].astype(int)\n",
    "train['버스']=train['버스'].astype(int)\n",
    "train['단지내주차면수']=train['단지내주차면수'].astype(int)\n",
    "train['임대보증금']=train['임대보증금'].astype(int)\n",
    "train['임대료']=train['임대료'].astype(int)\n",
    "train['등록차량수']=train['등록차량수'].astype(int)"
   ]
  },
  {
   "cell_type": "code",
   "execution_count": 349,
   "metadata": {},
   "outputs": [
    {
     "name": "stdout",
     "output_type": "stream",
     "text": [
      "<class 'pandas.core.frame.DataFrame'>\n",
      "Int64Index: 2869 entries, 8 to 2951\n",
      "Data columns (total 15 columns):\n",
      " #   Column    Non-Null Count  Dtype \n",
      "---  ------    --------------  ----- \n",
      " 0   단지코드      2869 non-null   object\n",
      " 1   총세대수      2869 non-null   int64 \n",
      " 2   임대건물구분    2869 non-null   object\n",
      " 3   지역        2869 non-null   object\n",
      " 4   공급유형      2869 non-null   object\n",
      " 5   전용면적      2869 non-null   int32 \n",
      " 6   전용면적별세대수  2869 non-null   int64 \n",
      " 7   공가수       2869 non-null   int32 \n",
      " 8   자격유형      2869 non-null   object\n",
      " 9   임대보증금     2869 non-null   int32 \n",
      " 10  임대료       2869 non-null   int32 \n",
      " 11  지하철       2869 non-null   int32 \n",
      " 12  버스        2869 non-null   int32 \n",
      " 13  단지내주차면수   2869 non-null   int32 \n",
      " 14  등록차량수     2869 non-null   int32 \n",
      "dtypes: int32(8), int64(2), object(5)\n",
      "memory usage: 269.0+ KB\n"
     ]
    }
   ],
   "source": [
    "train.info()"
   ]
  },
  {
   "cell_type": "code",
   "execution_count": 350,
   "metadata": {},
   "outputs": [
    {
     "data": {
      "text/plain": [
       "(2869, 15)"
      ]
     },
     "execution_count": 350,
     "metadata": {},
     "output_type": "execute_result"
    }
   ],
   "source": [
    "train.shape"
   ]
  },
  {
   "cell_type": "code",
   "execution_count": 351,
   "metadata": {},
   "outputs": [],
   "source": [
    "import numpy as np\n",
    "import statsmodels.api as sm\n",
    "import statsmodels.formula.api as smf\n",
    "import pandas as pd"
   ]
  },
  {
   "cell_type": "code",
   "execution_count": 352,
   "metadata": {},
   "outputs": [
    {
     "data": {
      "text/html": [
       "<table class=\"simpletable\">\n",
       "<caption>OLS Regression Results</caption>\n",
       "<tr>\n",
       "  <th>Dep. Variable:</th>          <td>등록차량수</td>      <th>  R-squared (uncentered):</th>       <td>   1.000</td> \n",
       "</tr>\n",
       "<tr>\n",
       "  <th>Model:</th>                   <td>OLS</td>       <th>  Adj. R-squared (uncentered):</th>  <td>   1.000</td> \n",
       "</tr>\n",
       "<tr>\n",
       "  <th>Method:</th>             <td>Least Squares</td>  <th>  F-statistic:       </th>           <td>2.778e+28</td>\n",
       "</tr>\n",
       "<tr>\n",
       "  <th>Date:</th>             <td>Wed, 14 Jul 2021</td> <th>  Prob (F-statistic):</th>            <td>  0.00</td>  \n",
       "</tr>\n",
       "<tr>\n",
       "  <th>Time:</th>                 <td>14:40:56</td>     <th>  Log-Likelihood:    </th>           <td>  62827.</td> \n",
       "</tr>\n",
       "<tr>\n",
       "  <th>No. Observations:</th>      <td>  2869</td>      <th>  AIC:               </th>          <td>-1.256e+05</td>\n",
       "</tr>\n",
       "<tr>\n",
       "  <th>Df Residuals:</th>          <td>  2860</td>      <th>  BIC:               </th>          <td>-1.256e+05</td>\n",
       "</tr>\n",
       "<tr>\n",
       "  <th>Df Model:</th>              <td>     9</td>      <th>                     </th>               <td> </td>    \n",
       "</tr>\n",
       "<tr>\n",
       "  <th>Covariance Type:</th>      <td>nonrobust</td>    <th>                     </th>               <td> </td>    \n",
       "</tr>\n",
       "</table>\n",
       "<table class=\"simpletable\">\n",
       "<tr>\n",
       "     <td></td>        <th>coef</th>     <th>std err</th>      <th>t</th>      <th>P>|t|</th>  <th>[0.025</th>    <th>0.975]</th>  \n",
       "</tr>\n",
       "<tr>\n",
       "  <th>총세대수</th>    <td> 1.518e-16</td> <td> 3.75e-15</td> <td>    0.040</td> <td> 0.968</td> <td>-7.21e-15</td> <td> 7.51e-15</td>\n",
       "</tr>\n",
       "<tr>\n",
       "  <th>전용면적</th>    <td> 4.649e-15</td> <td>  1.4e-13</td> <td>    0.033</td> <td> 0.974</td> <td> -2.7e-13</td> <td> 2.79e-13</td>\n",
       "</tr>\n",
       "<tr>\n",
       "  <th>공가수</th>     <td>-2.898e-14</td> <td> 1.39e-13</td> <td>   -0.209</td> <td> 0.835</td> <td>-3.01e-13</td> <td> 2.43e-13</td>\n",
       "</tr>\n",
       "<tr>\n",
       "  <th>임대보증금</th>   <td>-2.542e-18</td> <td> 8.59e-20</td> <td>  -29.593</td> <td> 0.000</td> <td>-2.71e-18</td> <td>-2.37e-18</td>\n",
       "</tr>\n",
       "<tr>\n",
       "  <th>임대료</th>     <td> -7.63e-18</td> <td> 1.13e-17</td> <td>   -0.676</td> <td> 0.499</td> <td>-2.97e-17</td> <td> 1.45e-17</td>\n",
       "</tr>\n",
       "<tr>\n",
       "  <th>지하철</th>     <td> 2.487e-14</td> <td> 3.52e-12</td> <td>    0.007</td> <td> 0.994</td> <td>-6.88e-12</td> <td> 6.93e-12</td>\n",
       "</tr>\n",
       "<tr>\n",
       "  <th>버스</th>      <td>-2.193e-14</td> <td> 4.86e-13</td> <td>   -0.045</td> <td> 0.964</td> <td>-9.75e-13</td> <td> 9.31e-13</td>\n",
       "</tr>\n",
       "<tr>\n",
       "  <th>단지내주차면수</th> <td> 1.145e-15</td> <td> 9.11e-15</td> <td>    0.126</td> <td> 0.900</td> <td>-1.67e-14</td> <td>  1.9e-14</td>\n",
       "</tr>\n",
       "<tr>\n",
       "  <th>등록차량수</th>   <td>    1.0000</td> <td> 7.15e-15</td> <td>  1.4e+14</td> <td> 0.000</td> <td>    1.000</td> <td>    1.000</td>\n",
       "</tr>\n",
       "</table>\n",
       "<table class=\"simpletable\">\n",
       "<tr>\n",
       "  <th>Omnibus:</th>       <td>1814.269</td> <th>  Durbin-Watson:     </th> <td>   0.232</td> \n",
       "</tr>\n",
       "<tr>\n",
       "  <th>Prob(Omnibus):</th>  <td> 0.000</td>  <th>  Jarque-Bera (JB):  </th> <td>29298.817</td>\n",
       "</tr>\n",
       "<tr>\n",
       "  <th>Skew:</th>           <td> 2.738</td>  <th>  Prob(JB):          </th> <td>    0.00</td> \n",
       "</tr>\n",
       "<tr>\n",
       "  <th>Kurtosis:</th>       <td>17.666</td>  <th>  Cond. No.          </th> <td>7.27e+07</td> \n",
       "</tr>\n",
       "</table><br/><br/>Notes:<br/>[1] R² is computed without centering (uncentered) since the model does not contain a constant.<br/>[2] Standard Errors assume that the covariance matrix of the errors is correctly specified.<br/>[3] The condition number is large, 7.27e+07. This might indicate that there are<br/>strong multicollinearity or other numerical problems."
      ],
      "text/plain": [
       "<class 'statsmodels.iolib.summary.Summary'>\n",
       "\"\"\"\n",
       "                                 OLS Regression Results                                \n",
       "=======================================================================================\n",
       "Dep. Variable:                  등록차량수   R-squared (uncentered):                   1.000\n",
       "Model:                            OLS   Adj. R-squared (uncentered):              1.000\n",
       "Method:                 Least Squares   F-statistic:                          2.778e+28\n",
       "Date:                Wed, 14 Jul 2021   Prob (F-statistic):                        0.00\n",
       "Time:                        14:40:56   Log-Likelihood:                          62827.\n",
       "No. Observations:                2869   AIC:                                 -1.256e+05\n",
       "Df Residuals:                    2860   BIC:                                 -1.256e+05\n",
       "Df Model:                           9                                                  \n",
       "Covariance Type:            nonrobust                                                  \n",
       "==============================================================================\n",
       "                 coef    std err          t      P>|t|      [0.025      0.975]\n",
       "------------------------------------------------------------------------------\n",
       "총세대수        1.518e-16   3.75e-15      0.040      0.968   -7.21e-15    7.51e-15\n",
       "전용면적        4.649e-15    1.4e-13      0.033      0.974    -2.7e-13    2.79e-13\n",
       "공가수        -2.898e-14   1.39e-13     -0.209      0.835   -3.01e-13    2.43e-13\n",
       "임대보증금      -2.542e-18   8.59e-20    -29.593      0.000   -2.71e-18   -2.37e-18\n",
       "임대료         -7.63e-18   1.13e-17     -0.676      0.499   -2.97e-17    1.45e-17\n",
       "지하철         2.487e-14   3.52e-12      0.007      0.994   -6.88e-12    6.93e-12\n",
       "버스         -2.193e-14   4.86e-13     -0.045      0.964   -9.75e-13    9.31e-13\n",
       "단지내주차면수     1.145e-15   9.11e-15      0.126      0.900   -1.67e-14     1.9e-14\n",
       "등록차량수          1.0000   7.15e-15    1.4e+14      0.000       1.000       1.000\n",
       "==============================================================================\n",
       "Omnibus:                     1814.269   Durbin-Watson:                   0.232\n",
       "Prob(Omnibus):                  0.000   Jarque-Bera (JB):            29298.817\n",
       "Skew:                           2.738   Prob(JB):                         0.00\n",
       "Kurtosis:                      17.666   Cond. No.                     7.27e+07\n",
       "==============================================================================\n",
       "\n",
       "Notes:\n",
       "[1] R² is computed without centering (uncentered) since the model does not contain a constant.\n",
       "[2] Standard Errors assume that the covariance matrix of the errors is correctly specified.\n",
       "[3] The condition number is large, 7.27e+07. This might indicate that there are\n",
       "strong multicollinearity or other numerical problems.\n",
       "\"\"\""
      ]
     },
     "execution_count": 352,
     "metadata": {},
     "output_type": "execute_result"
    }
   ],
   "source": [
    "train_ols = sm.OLS(train['등록차량수'], train[['총세대수','전용면적','공가수','임대보증금','임대료','지하철','버스','단지내주차면수','등록차량수']])\n",
    "result = train_ols.fit()\n",
    "result.summary()"
   ]
  },
  {
   "cell_type": "markdown",
   "metadata": {},
   "source": [
    "https://bkshin.tistory.com/entry/DATA-18?category=1042793"
   ]
  },
  {
   "cell_type": "markdown",
   "metadata": {},
   "source": [
    "## 문자열 -> 범주형으로 바꿔주기"
   ]
  },
  {
   "cell_type": "code",
   "execution_count": 353,
   "metadata": {},
   "outputs": [
    {
     "data": {
      "text/plain": [
       "(411,)"
      ]
     },
     "execution_count": 353,
     "metadata": {},
     "output_type": "execute_result"
    }
   ],
   "source": [
    "train['단지코드'].unique().shape"
   ]
  },
  {
   "cell_type": "code",
   "execution_count": 354,
   "metadata": {},
   "outputs": [
    {
     "name": "stdout",
     "output_type": "stream",
     "text": [
      "StandardScaler()\n"
     ]
    }
   ],
   "source": [
    "col=train[['총세대수','전용면적','전용면적별세대수','공가수','지하철','버스','단지내주차면수','등록차량수']]\n",
    "col.shape\n",
    "from sklearn.preprocessing import StandardScaler\n",
    "standardScaler = StandardScaler()\n",
    "print(standardScaler.fit(col))\n",
    "train_standardScaled = standardScaler.transform(col)"
   ]
  },
  {
   "cell_type": "code",
   "execution_count": 355,
   "metadata": {},
   "outputs": [
    {
     "data": {
      "text/html": [
       "<div>\n",
       "<style scoped>\n",
       "    .dataframe tbody tr th:only-of-type {\n",
       "        vertical-align: middle;\n",
       "    }\n",
       "\n",
       "    .dataframe tbody tr th {\n",
       "        vertical-align: top;\n",
       "    }\n",
       "\n",
       "    .dataframe thead th {\n",
       "        text-align: right;\n",
       "    }\n",
       "</style>\n",
       "<table border=\"1\" class=\"dataframe\">\n",
       "  <thead>\n",
       "    <tr style=\"text-align: right;\">\n",
       "      <th></th>\n",
       "      <th>총세대수</th>\n",
       "      <th>전용면적</th>\n",
       "      <th>전용면적별세대수</th>\n",
       "      <th>공가수</th>\n",
       "      <th>임대보증금</th>\n",
       "      <th>임대료</th>\n",
       "      <th>지하철</th>\n",
       "      <th>버스</th>\n",
       "      <th>단지내주차면수</th>\n",
       "      <th>등록차량수</th>\n",
       "      <th>...</th>\n",
       "      <th>자격유형_F</th>\n",
       "      <th>자격유형_G</th>\n",
       "      <th>자격유형_H</th>\n",
       "      <th>자격유형_I</th>\n",
       "      <th>자격유형_J</th>\n",
       "      <th>자격유형_K</th>\n",
       "      <th>자격유형_L</th>\n",
       "      <th>자격유형_M</th>\n",
       "      <th>자격유형_N</th>\n",
       "      <th>자격유형_O</th>\n",
       "    </tr>\n",
       "  </thead>\n",
       "  <tbody>\n",
       "    <tr>\n",
       "      <th>8</th>\n",
       "      <td>545</td>\n",
       "      <td>10</td>\n",
       "      <td>276</td>\n",
       "      <td>17</td>\n",
       "      <td>9216000</td>\n",
       "      <td>82940</td>\n",
       "      <td>0</td>\n",
       "      <td>3</td>\n",
       "      <td>624</td>\n",
       "      <td>205</td>\n",
       "      <td>...</td>\n",
       "      <td>0</td>\n",
       "      <td>0</td>\n",
       "      <td>0</td>\n",
       "      <td>0</td>\n",
       "      <td>0</td>\n",
       "      <td>0</td>\n",
       "      <td>0</td>\n",
       "      <td>0</td>\n",
       "      <td>0</td>\n",
       "      <td>0</td>\n",
       "    </tr>\n",
       "    <tr>\n",
       "      <th>9</th>\n",
       "      <td>545</td>\n",
       "      <td>12</td>\n",
       "      <td>60</td>\n",
       "      <td>17</td>\n",
       "      <td>12672000</td>\n",
       "      <td>107130</td>\n",
       "      <td>0</td>\n",
       "      <td>3</td>\n",
       "      <td>624</td>\n",
       "      <td>205</td>\n",
       "      <td>...</td>\n",
       "      <td>0</td>\n",
       "      <td>0</td>\n",
       "      <td>0</td>\n",
       "      <td>0</td>\n",
       "      <td>0</td>\n",
       "      <td>0</td>\n",
       "      <td>0</td>\n",
       "      <td>0</td>\n",
       "      <td>0</td>\n",
       "      <td>0</td>\n",
       "    </tr>\n",
       "    <tr>\n",
       "      <th>10</th>\n",
       "      <td>545</td>\n",
       "      <td>12</td>\n",
       "      <td>20</td>\n",
       "      <td>17</td>\n",
       "      <td>12672000</td>\n",
       "      <td>107130</td>\n",
       "      <td>0</td>\n",
       "      <td>3</td>\n",
       "      <td>624</td>\n",
       "      <td>205</td>\n",
       "      <td>...</td>\n",
       "      <td>0</td>\n",
       "      <td>0</td>\n",
       "      <td>0</td>\n",
       "      <td>0</td>\n",
       "      <td>0</td>\n",
       "      <td>0</td>\n",
       "      <td>0</td>\n",
       "      <td>0</td>\n",
       "      <td>0</td>\n",
       "      <td>0</td>\n",
       "    </tr>\n",
       "    <tr>\n",
       "      <th>11</th>\n",
       "      <td>545</td>\n",
       "      <td>14</td>\n",
       "      <td>38</td>\n",
       "      <td>17</td>\n",
       "      <td>18433000</td>\n",
       "      <td>149760</td>\n",
       "      <td>0</td>\n",
       "      <td>3</td>\n",
       "      <td>624</td>\n",
       "      <td>205</td>\n",
       "      <td>...</td>\n",
       "      <td>0</td>\n",
       "      <td>0</td>\n",
       "      <td>0</td>\n",
       "      <td>0</td>\n",
       "      <td>0</td>\n",
       "      <td>0</td>\n",
       "      <td>0</td>\n",
       "      <td>0</td>\n",
       "      <td>0</td>\n",
       "      <td>0</td>\n",
       "    </tr>\n",
       "    <tr>\n",
       "      <th>12</th>\n",
       "      <td>545</td>\n",
       "      <td>14</td>\n",
       "      <td>19</td>\n",
       "      <td>17</td>\n",
       "      <td>18433000</td>\n",
       "      <td>149760</td>\n",
       "      <td>0</td>\n",
       "      <td>3</td>\n",
       "      <td>624</td>\n",
       "      <td>205</td>\n",
       "      <td>...</td>\n",
       "      <td>0</td>\n",
       "      <td>0</td>\n",
       "      <td>0</td>\n",
       "      <td>0</td>\n",
       "      <td>0</td>\n",
       "      <td>0</td>\n",
       "      <td>0</td>\n",
       "      <td>0</td>\n",
       "      <td>0</td>\n",
       "      <td>0</td>\n",
       "    </tr>\n",
       "    <tr>\n",
       "      <th>...</th>\n",
       "      <td>...</td>\n",
       "      <td>...</td>\n",
       "      <td>...</td>\n",
       "      <td>...</td>\n",
       "      <td>...</td>\n",
       "      <td>...</td>\n",
       "      <td>...</td>\n",
       "      <td>...</td>\n",
       "      <td>...</td>\n",
       "      <td>...</td>\n",
       "      <td>...</td>\n",
       "      <td>...</td>\n",
       "      <td>...</td>\n",
       "      <td>...</td>\n",
       "      <td>...</td>\n",
       "      <td>...</td>\n",
       "      <td>...</td>\n",
       "      <td>...</td>\n",
       "      <td>...</td>\n",
       "      <td>...</td>\n",
       "      <td>...</td>\n",
       "    </tr>\n",
       "    <tr>\n",
       "      <th>2947</th>\n",
       "      <td>239</td>\n",
       "      <td>15</td>\n",
       "      <td>19</td>\n",
       "      <td>7</td>\n",
       "      <td>11346000</td>\n",
       "      <td>116090</td>\n",
       "      <td>0</td>\n",
       "      <td>1</td>\n",
       "      <td>166</td>\n",
       "      <td>146</td>\n",
       "      <td>...</td>\n",
       "      <td>0</td>\n",
       "      <td>0</td>\n",
       "      <td>0</td>\n",
       "      <td>0</td>\n",
       "      <td>0</td>\n",
       "      <td>0</td>\n",
       "      <td>0</td>\n",
       "      <td>0</td>\n",
       "      <td>0</td>\n",
       "      <td>0</td>\n",
       "    </tr>\n",
       "    <tr>\n",
       "      <th>2948</th>\n",
       "      <td>239</td>\n",
       "      <td>15</td>\n",
       "      <td>34</td>\n",
       "      <td>7</td>\n",
       "      <td>14005000</td>\n",
       "      <td>142310</td>\n",
       "      <td>0</td>\n",
       "      <td>1</td>\n",
       "      <td>166</td>\n",
       "      <td>146</td>\n",
       "      <td>...</td>\n",
       "      <td>0</td>\n",
       "      <td>0</td>\n",
       "      <td>0</td>\n",
       "      <td>0</td>\n",
       "      <td>0</td>\n",
       "      <td>0</td>\n",
       "      <td>0</td>\n",
       "      <td>0</td>\n",
       "      <td>0</td>\n",
       "      <td>0</td>\n",
       "    </tr>\n",
       "    <tr>\n",
       "      <th>2949</th>\n",
       "      <td>239</td>\n",
       "      <td>16</td>\n",
       "      <td>34</td>\n",
       "      <td>7</td>\n",
       "      <td>14005000</td>\n",
       "      <td>142310</td>\n",
       "      <td>0</td>\n",
       "      <td>1</td>\n",
       "      <td>166</td>\n",
       "      <td>146</td>\n",
       "      <td>...</td>\n",
       "      <td>0</td>\n",
       "      <td>0</td>\n",
       "      <td>0</td>\n",
       "      <td>0</td>\n",
       "      <td>0</td>\n",
       "      <td>0</td>\n",
       "      <td>0</td>\n",
       "      <td>0</td>\n",
       "      <td>0</td>\n",
       "      <td>0</td>\n",
       "    </tr>\n",
       "    <tr>\n",
       "      <th>2950</th>\n",
       "      <td>239</td>\n",
       "      <td>16</td>\n",
       "      <td>114</td>\n",
       "      <td>7</td>\n",
       "      <td>14005000</td>\n",
       "      <td>142310</td>\n",
       "      <td>0</td>\n",
       "      <td>1</td>\n",
       "      <td>166</td>\n",
       "      <td>146</td>\n",
       "      <td>...</td>\n",
       "      <td>0</td>\n",
       "      <td>0</td>\n",
       "      <td>0</td>\n",
       "      <td>0</td>\n",
       "      <td>0</td>\n",
       "      <td>0</td>\n",
       "      <td>0</td>\n",
       "      <td>0</td>\n",
       "      <td>0</td>\n",
       "      <td>0</td>\n",
       "    </tr>\n",
       "    <tr>\n",
       "      <th>2951</th>\n",
       "      <td>239</td>\n",
       "      <td>17</td>\n",
       "      <td>19</td>\n",
       "      <td>7</td>\n",
       "      <td>14830000</td>\n",
       "      <td>151030</td>\n",
       "      <td>0</td>\n",
       "      <td>1</td>\n",
       "      <td>166</td>\n",
       "      <td>146</td>\n",
       "      <td>...</td>\n",
       "      <td>0</td>\n",
       "      <td>0</td>\n",
       "      <td>0</td>\n",
       "      <td>0</td>\n",
       "      <td>0</td>\n",
       "      <td>0</td>\n",
       "      <td>0</td>\n",
       "      <td>0</td>\n",
       "      <td>0</td>\n",
       "      <td>0</td>\n",
       "    </tr>\n",
       "  </tbody>\n",
       "</table>\n",
       "<p>2869 rows × 464 columns</p>\n",
       "</div>"
      ],
      "text/plain": [
       "      총세대수  전용면적  전용면적별세대수  공가수     임대보증금     임대료  지하철  버스  단지내주차면수  등록차량수  \\\n",
       "8      545    10       276   17   9216000   82940    0   3      624    205   \n",
       "9      545    12        60   17  12672000  107130    0   3      624    205   \n",
       "10     545    12        20   17  12672000  107130    0   3      624    205   \n",
       "11     545    14        38   17  18433000  149760    0   3      624    205   \n",
       "12     545    14        19   17  18433000  149760    0   3      624    205   \n",
       "...    ...   ...       ...  ...       ...     ...  ...  ..      ...    ...   \n",
       "2947   239    15        19    7  11346000  116090    0   1      166    146   \n",
       "2948   239    15        34    7  14005000  142310    0   1      166    146   \n",
       "2949   239    16        34    7  14005000  142310    0   1      166    146   \n",
       "2950   239    16       114    7  14005000  142310    0   1      166    146   \n",
       "2951   239    17        19    7  14830000  151030    0   1      166    146   \n",
       "\n",
       "      ...  자격유형_F  자격유형_G  자격유형_H  자격유형_I  자격유형_J  자격유형_K  자격유형_L  자격유형_M  \\\n",
       "8     ...       0       0       0       0       0       0       0       0   \n",
       "9     ...       0       0       0       0       0       0       0       0   \n",
       "10    ...       0       0       0       0       0       0       0       0   \n",
       "11    ...       0       0       0       0       0       0       0       0   \n",
       "12    ...       0       0       0       0       0       0       0       0   \n",
       "...   ...     ...     ...     ...     ...     ...     ...     ...     ...   \n",
       "2947  ...       0       0       0       0       0       0       0       0   \n",
       "2948  ...       0       0       0       0       0       0       0       0   \n",
       "2949  ...       0       0       0       0       0       0       0       0   \n",
       "2950  ...       0       0       0       0       0       0       0       0   \n",
       "2951  ...       0       0       0       0       0       0       0       0   \n",
       "\n",
       "      자격유형_N  자격유형_O  \n",
       "8          0       0  \n",
       "9          0       0  \n",
       "10         0       0  \n",
       "11         0       0  \n",
       "12         0       0  \n",
       "...      ...     ...  \n",
       "2947       0       0  \n",
       "2948       0       0  \n",
       "2949       0       0  \n",
       "2950       0       0  \n",
       "2951       0       0  \n",
       "\n",
       "[2869 rows x 464 columns]"
      ]
     },
     "execution_count": 355,
     "metadata": {},
     "output_type": "execute_result"
    }
   ],
   "source": [
    "#train.shape()\n",
    "data_train=pd.get_dummies(train)\n",
    "data_train"
   ]
  },
  {
   "cell_type": "code",
   "execution_count": 356,
   "metadata": {},
   "outputs": [
    {
     "data": {
      "text/plain": [
       "(2869, 464)"
      ]
     },
     "execution_count": 356,
     "metadata": {},
     "output_type": "execute_result"
    }
   ],
   "source": [
    "data_train.shape"
   ]
  },
  {
   "cell_type": "code",
   "execution_count": 357,
   "metadata": {},
   "outputs": [
    {
     "name": "stdout",
     "output_type": "stream",
     "text": [
      "<class 'pandas.core.frame.DataFrame'>\n",
      "Int64Index: 2869 entries, 8 to 2951\n",
      "Columns: 464 entries, 총세대수 to 자격유형_O\n",
      "dtypes: int32(8), int64(2), uint8(454)\n",
      "memory usage: 1.4 MB\n"
     ]
    }
   ],
   "source": [
    "data_train.info()"
   ]
  },
  {
   "cell_type": "code",
   "execution_count": 358,
   "metadata": {},
   "outputs": [
    {
     "data": {
      "text/plain": [
       "Index(['총세대수', '전용면적', '전용면적별세대수', '공가수', '임대보증금', '임대료', '지하철', '버스',\n",
       "       '단지내주차면수', '등록차량수',\n",
       "       ...\n",
       "       '자격유형_F', '자격유형_G', '자격유형_H', '자격유형_I', '자격유형_J', '자격유형_K', '자격유형_L',\n",
       "       '자격유형_M', '자격유형_N', '자격유형_O'],\n",
       "      dtype='object', length=464)"
      ]
     },
     "execution_count": 358,
     "metadata": {},
     "output_type": "execute_result"
    }
   ],
   "source": [
    "data_train.columns"
   ]
  },
  {
   "cell_type": "code",
   "execution_count": 363,
   "metadata": {},
   "outputs": [],
   "source": [
    "#model1 = sm.OLS.from_formula(\"등록차량수 ~ 전용면적+전용면적별세대수+자격유형_F\", data = data_train)\n",
    "#result1 = model1.fit()\n",
    "#result1.summary()"
   ]
  },
  {
   "cell_type": "code",
   "execution_count": 366,
   "metadata": {},
   "outputs": [],
   "source": [
    "data_train.to_csv(\"./preprocessingdata/data_train.csv\")"
   ]
  },
  {
   "cell_type": "code",
   "execution_count": 369,
   "metadata": {},
   "outputs": [],
   "source": [
    "data_train1 = pd.read_csv(\"./preprocessingdata/data_train.csv\")\n",
    "target = data_train1['등록차량수']\n",
    "del data_train1['등록차량수']\n",
    "x_data = data_train1"
   ]
  },
  {
   "cell_type": "code",
   "execution_count": 370,
   "metadata": {},
   "outputs": [
    {
     "name": "stdout",
     "output_type": "stream",
     "text": [
      "                            OLS Regression Results                            \n",
      "==============================================================================\n",
      "Dep. Variable:                  등록차량수   R-squared:                       1.000\n",
      "Model:                            OLS   Adj. R-squared:                  1.000\n",
      "Method:                 Least Squares   F-statistic:                 2.151e+16\n",
      "Date:                Wed, 14 Jul 2021   Prob (F-statistic):               0.00\n",
      "Time:                        14:59:11   Log-Likelihood:                 29996.\n",
      "No. Observations:                2869   AIC:                        -5.913e+04\n",
      "Df Residuals:                    2436   BIC:                        -5.654e+04\n",
      "Df Model:                         432                                         \n",
      "Covariance Type:            nonrobust                                         \n",
      "==================================================================================\n",
      "                     coef    std err          t      P>|t|      [0.025      0.975]\n",
      "----------------------------------------------------------------------------------\n",
      "const             63.4388   3.54e-05   1.79e+06      0.000      63.439      63.439\n",
      "Unnamed: 0     -7.122e-09   4.17e-08     -0.171      0.864   -8.88e-08    7.46e-08\n",
      "총세대수              -0.0248   2.26e-08   -1.1e+06      0.000      -0.025      -0.025\n",
      "전용면적           -5.598e-09   1.71e-08     -0.327      0.744   -3.92e-08     2.8e-08\n",
      "전용면적별세대수       -2.202e-09   1.46e-09     -1.512      0.131   -5.06e-09    6.54e-10\n",
      "공가수               -6.2001   9.54e-07   -6.5e+06      0.000      -6.200      -6.200\n",
      "임대보증금           6.709e-14   2.72e-14      2.463      0.014    1.37e-14    1.21e-13\n",
      "임대료            -1.005e-11    4.1e-12     -2.452      0.014   -1.81e-11   -2.01e-12\n",
      "지하철              -17.7320   3.96e-06  -4.48e+06      0.000     -17.732     -17.732\n",
      "버스                 5.3488   1.25e-06   4.26e+06      0.000       5.349       5.349\n",
      "단지내주차면수            0.9355   2.01e-08   4.65e+07      0.000       0.935       0.935\n",
      "단지코드_C1000        74.6456   4.72e-06   1.58e+07      0.000      74.646      74.646\n",
      "단지코드_C1004       -58.4835   7.12e-06  -8.21e+06      0.000     -58.484     -58.484\n",
      "단지코드_C1005      -457.0967   1.38e-05  -3.31e+07      0.000    -457.097    -457.097\n",
      "단지코드_C1013       516.3288   9.78e-06   5.28e+07      0.000     516.329     516.329\n",
      "단지코드_C1014       -92.9224   2.03e-05  -4.58e+06      0.000     -92.922     -92.922\n",
      "단지코드_C1015      -118.0339   2.77e-05  -4.27e+06      0.000    -118.034    -118.034\n",
      "단지코드_C1017       -12.2970    3.8e-05  -3.23e+05      0.000     -12.297     -12.297\n",
      "단지코드_C1022        31.9073   7.15e-06   4.46e+06      0.000      31.907      31.907\n",
      "단지코드_C1024      -142.0479   1.36e-05  -1.05e+07      0.000    -142.048    -142.048\n",
      "단지코드_C1026       104.1017   1.92e-05   5.43e+06      0.000     104.102     104.102\n",
      "단지코드_C1027      -146.4935   2.97e-05  -4.94e+06      0.000    -146.494    -146.493\n",
      "단지코드_C1032      -554.8753   3.74e-05  -1.48e+07      0.000    -554.875    -554.875\n",
      "단지코드_C1039        58.5167   1.16e-05   5.03e+06      0.000      58.517      58.517\n",
      "단지코드_C1045       -11.2494   4.99e-05  -2.25e+05      0.000     -11.249     -11.249\n",
      "단지코드_C1046       -75.5023   4.84e-06  -1.56e+07      0.000     -75.502     -75.502\n",
      "단지코드_C1048       -84.2895   2.72e-05   -3.1e+06      0.000     -84.290     -84.289\n",
      "단지코드_C1049        57.3548   2.43e-05   2.36e+06      0.000      57.355      57.355\n",
      "단지코드_C1056       -67.5980   2.61e-05  -2.59e+06      0.000     -67.598     -67.598\n",
      "단지코드_C1057       -10.6752    3.1e-05  -3.45e+05      0.000     -10.675     -10.675\n",
      "단지코드_C1059      -155.3156   1.39e-05  -1.12e+07      0.000    -155.316    -155.316\n",
      "단지코드_C1065       262.0746   1.71e-05   1.53e+07      0.000     262.075     262.075\n",
      "단지코드_C1068      -193.8080   3.78e-05  -5.12e+06      0.000    -193.808    -193.808\n",
      "단지코드_C1077      -248.6064   4.85e-05  -5.12e+06      0.000    -248.607    -248.606\n",
      "단지코드_C1084      -211.9079   1.01e-05   -2.1e+07      0.000    -211.908    -211.908\n",
      "단지코드_C1085        51.4947   3.82e-06   1.35e+07      0.000      51.495      51.495\n",
      "단지코드_C1089        35.8991   1.67e-05   2.14e+06      0.000      35.899      35.899\n",
      "단지코드_C1102       -57.6615   9.89e-06  -5.83e+06      0.000     -57.662     -57.661\n",
      "단지코드_C1103        24.0403   9.84e-06   2.44e+06      0.000      24.040      24.040\n",
      "단지코드_C1109        36.1146    5.3e-06   6.81e+06      0.000      36.115      36.115\n",
      "단지코드_C1122       325.7863   1.33e-05   2.46e+07      0.000     325.786     325.786\n",
      "단지코드_C1129       135.0702    1.2e-05   1.13e+07      0.000     135.070     135.070\n",
      "단지코드_C1131       239.5841   3.76e-06   6.37e+07      0.000     239.584     239.584\n",
      "단지코드_C1133       106.2890   5.77e-06   1.84e+07      0.000     106.289     106.289\n",
      "단지코드_C1136       -33.0634    2.9e-05  -1.14e+06      0.000     -33.063     -33.063\n",
      "단지코드_C1141       165.7249   2.62e-05   6.32e+06      0.000     165.725     165.725\n",
      "단지코드_C1143      -145.9111    4.4e-06  -3.31e+07      0.000    -145.911    -145.911\n",
      "단지코드_C1155       -38.5547   8.81e-06  -4.38e+06      0.000     -38.555     -38.555\n",
      "단지코드_C1156        83.1210   2.14e-05   3.88e+06      0.000      83.121      83.121\n",
      "단지코드_C1163        38.9415   3.42e-05   1.14e+06      0.000      38.941      38.942\n",
      "단지코드_C1171       160.0480    4.4e-05   3.64e+06      0.000     160.048     160.048\n",
      "단지코드_C1173       174.8505    2.9e-06   6.03e+07      0.000     174.850     174.850\n",
      "단지코드_C1175        48.5097   2.27e-05   2.14e+06      0.000      48.510      48.510\n",
      "단지코드_C1176      -483.1550   9.97e-06  -4.85e+07      0.000    -483.155    -483.155\n",
      "단지코드_C1177      -503.8733   3.06e-05  -1.65e+07      0.000    -503.873    -503.873\n",
      "단지코드_C1180       104.9592   5.17e-06   2.03e+07      0.000     104.959     104.959\n",
      "단지코드_C1184        29.2582   1.43e-05   2.05e+06      0.000      29.258      29.258\n",
      "단지코드_C1194       171.5062   4.67e-06   3.67e+07      0.000     171.506     171.506\n",
      "단지코드_C1206       -78.0364   1.85e-05  -4.23e+06      0.000     -78.036     -78.036\n",
      "단지코드_C1207      -160.5516   6.65e-05  -2.41e+06      0.000    -160.552    -160.552\n",
      "단지코드_C1210       -48.1237   1.36e-05  -3.54e+06      0.000     -48.124     -48.124\n",
      "단지코드_C1213      -112.3323   1.36e-05  -8.28e+06      0.000    -112.332    -112.332\n",
      "단지코드_C1227       182.7531   2.17e-05   8.42e+06      0.000     182.753     182.753\n",
      "단지코드_C1234        20.0032   2.01e-05   9.96e+05      0.000      20.003      20.003\n",
      "단지코드_C1236      -304.0268   3.29e-05  -9.23e+06      0.000    -304.027    -304.027\n",
      "단지코드_C1244       366.0537   5.56e-05   6.59e+06      0.000     366.054     366.054\n",
      "단지코드_C1258       -31.6638   6.11e-05  -5.18e+05      0.000     -31.664     -31.664\n",
      "단지코드_C1263       -45.7949   3.62e-05  -1.26e+06      0.000     -45.795     -45.795\n",
      "단지코드_C1268        50.2149   1.05e-05   4.78e+06      0.000      50.215      50.215\n",
      "단지코드_C1269        10.1172   5.86e-06   1.73e+06      0.000      10.117      10.117\n",
      "단지코드_C1281      -112.6379   1.05e-05  -1.07e+07      0.000    -112.638    -112.638\n",
      "단지코드_C1284       -29.3184   3.12e-05   -9.4e+05      0.000     -29.318     -29.318\n",
      "단지코드_C1286      -206.2709    2.9e-05  -7.12e+06      0.000    -206.271    -206.271\n",
      "단지코드_C1301      -150.9075   2.09e-05  -7.21e+06      0.000    -150.908    -150.907\n",
      "단지코드_C1307        46.5786   5.97e-06   7.81e+06      0.000      46.579      46.579\n",
      "단지코드_C1309        75.2262   1.94e-05   3.87e+06      0.000      75.226      75.226\n",
      "단지코드_C1310       218.1796   1.91e-05   1.14e+07      0.000     218.180     218.180\n",
      "단지코드_C1312       -91.9731   4.91e-05  -1.87e+06      0.000     -91.973     -91.973\n",
      "단지코드_C1316         2.9190   3.44e-05   8.48e+04      0.000       2.919       2.919\n",
      "단지코드_C1319        66.8631   1.53e-05   4.36e+06      0.000      66.863      66.863\n",
      "단지코드_C1320      -416.8983   2.71e-05  -1.54e+07      0.000    -416.898    -416.898\n",
      "단지코드_C1326      -126.3713   3.43e-05  -3.69e+06      0.000    -126.371    -126.371\n",
      "단지코드_C1328        20.9180   4.54e-06   4.61e+06      0.000      20.918      20.918\n",
      "단지코드_C1329        18.8596   1.43e-05   1.32e+06      0.000      18.860      18.860\n",
      "단지코드_C1338       122.9626   3.61e-05   3.41e+06      0.000     122.963     122.963\n",
      "단지코드_C1340       -27.4388   1.85e-05  -1.48e+06      0.000     -27.439     -27.439\n",
      "단지코드_C1341      -382.3373   4.06e-05  -9.41e+06      0.000    -382.337    -382.337\n",
      "단지코드_C1343        14.0293   1.27e-05    1.1e+06      0.000      14.029      14.029\n",
      "단지코드_C1344      -225.2529   1.78e-05  -1.26e+07      0.000    -225.253    -225.253\n",
      "단지코드_C1350       532.6247   3.03e-05   1.76e+07      0.000     532.625     532.625\n",
      "단지코드_C1357       -17.9390   1.11e-05  -1.61e+06      0.000     -17.939     -17.939\n",
      "단지코드_C1360       -11.5718   7.08e-06  -1.64e+06      0.000     -11.572     -11.572\n",
      "단지코드_C1363       865.9566   5.42e-05    1.6e+07      0.000     865.956     865.957\n",
      "단지코드_C1365        40.4121    6.9e-06   5.86e+06      0.000      40.412      40.412\n",
      "단지코드_C1368       -17.0118   2.75e-05  -6.19e+05      0.000     -17.012     -17.012\n",
      "단지코드_C1375        89.9869   7.18e-06   1.25e+07      0.000      89.987      89.987\n",
      "단지코드_C1379        -1.0976   1.58e-05  -6.96e+04      0.000      -1.098      -1.098\n",
      "단지코드_C1386       127.6419   3.88e-06   3.29e+07      0.000     127.642     127.642\n",
      "단지코드_C1394      -106.5945   1.35e-05   -7.9e+06      0.000    -106.595    -106.594\n",
      "단지코드_C1402       -44.8723   1.25e-05  -3.58e+06      0.000     -44.872     -44.872\n",
      "단지코드_C1406      -184.1039   2.93e-05  -6.27e+06      0.000    -184.104    -184.104\n",
      "단지코드_C1407       -31.1362   5.42e-05  -5.75e+05      0.000     -31.136     -31.136\n",
      "단지코드_C1410       287.9666   1.08e-05   2.68e+07      0.000     287.967     287.967\n",
      "단지코드_C1424      -330.3756    2.6e-05  -1.27e+07      0.000    -330.376    -330.376\n",
      "단지코드_C1426      -211.9310   3.56e-05  -5.96e+06      0.000    -211.931    -211.931\n",
      "단지코드_C1428       -57.2117   7.26e-06  -7.88e+06      0.000     -57.212     -57.212\n",
      "단지코드_C1430      -163.3016   3.71e-05  -4.41e+06      0.000    -163.302    -163.302\n",
      "단지코드_C1439       134.1326   1.67e-05   8.05e+06      0.000     134.133     134.133\n",
      "단지코드_C1448       272.3111    7.1e-06   3.83e+07      0.000     272.311     272.311\n",
      "단지코드_C1451       -90.9977   1.42e-05  -6.42e+06      0.000     -90.998     -90.998\n",
      "단지코드_C1455         0.6453   3.77e-05   1.71e+04      0.000       0.645       0.645\n",
      "단지코드_C1465      -108.7500   8.84e-06  -1.23e+07      0.000    -108.750    -108.750\n",
      "단지코드_C1468       191.8795   1.48e-05    1.3e+07      0.000     191.879     191.880\n",
      "단지코드_C1470       -33.0473   6.83e-05  -4.84e+05      0.000     -33.047     -33.047\n",
      "단지코드_C1476       -45.3125   3.41e-05  -1.33e+06      0.000     -45.313     -45.312\n",
      "단지코드_C1487        47.9007   1.24e-05   3.87e+06      0.000      47.901      47.901\n",
      "단지코드_C1490        22.2025   2.55e-05   8.71e+05      0.000      22.202      22.203\n",
      "단지코드_C1492       -26.3305   2.15e-05  -1.22e+06      0.000     -26.331     -26.330\n",
      "단지코드_C1497        27.0326   1.27e-05   2.13e+06      0.000      27.033      27.033\n",
      "단지코드_C1516       106.7299   3.26e-05   3.27e+06      0.000     106.730     106.730\n",
      "단지코드_C1519      -159.2464   4.11e-05  -3.87e+06      0.000    -159.246    -159.246\n",
      "단지코드_C1527       331.1019    1.1e-05      3e+07      0.000     331.102     331.102\n",
      "단지코드_C1537       234.8249   5.19e-06   4.53e+07      0.000     234.825     234.825\n",
      "단지코드_C1544      -132.5357   8.59e-06  -1.54e+07      0.000    -132.536    -132.536\n",
      "단지코드_C1565        26.6546   1.62e-05   1.65e+06      0.000      26.655      26.655\n",
      "단지코드_C1566      -109.7833   1.03e-05  -1.07e+07      0.000    -109.783    -109.783\n",
      "단지코드_C1569       126.8161   1.75e-05   7.25e+06      0.000     126.816     126.816\n",
      "단지코드_C1572       -72.6275   4.61e-06  -1.57e+07      0.000     -72.628     -72.628\n",
      "단지코드_C1579       319.6820   1.95e-05   1.64e+07      0.000     319.682     319.682\n",
      "단지코드_C1584      -134.1708   2.48e-05  -5.41e+06      0.000    -134.171    -134.171\n",
      "단지코드_C1585       183.5687   2.62e-05   7.02e+06      0.000     183.569     183.569\n",
      "단지코드_C1592        11.4232    2.8e-05   4.09e+05      0.000      11.423      11.423\n",
      "단지코드_C1601       -39.8519   1.84e-05  -2.17e+06      0.000     -39.852     -39.852\n",
      "단지코드_C1613         8.6408   2.37e-05   3.64e+05      0.000       8.641       8.641\n",
      "단지코드_C1616      -266.0548   7.47e-06  -3.56e+07      0.000    -266.055    -266.055\n",
      "단지코드_C1620       -59.6571   2.48e-05   -2.4e+06      0.000     -59.657     -59.657\n",
      "단지코드_C1636      -156.1640      2e-05  -7.82e+06      0.000    -156.164    -156.164\n",
      "단지코드_C1638        44.2282    5.6e-06    7.9e+06      0.000      44.228      44.228\n",
      "단지코드_C1641        70.0098    6.7e-06   1.05e+07      0.000      70.010      70.010\n",
      "단지코드_C1642        59.0082   2.79e-05   2.11e+06      0.000      59.008      59.008\n",
      "단지코드_C1652       193.2542    3.9e-05   4.95e+06      0.000     193.254     193.254\n",
      "단지코드_C1655      -106.4443   4.78e-05  -2.23e+06      0.000    -106.444    -106.444\n",
      "단지코드_C1656      -237.8766   8.68e-06  -2.74e+07      0.000    -237.877    -237.877\n",
      "단지코드_C1659       -89.2708   9.95e-06  -8.97e+06      0.000     -89.271     -89.271\n",
      "단지코드_C1660        42.9431   1.48e-05    2.9e+06      0.000      42.943      42.943\n",
      "단지코드_C1663       178.9021   1.07e-05   1.67e+07      0.000     178.902     178.902\n",
      "단지코드_C1666      -103.3878   2.68e-05  -3.86e+06      0.000    -103.388    -103.388\n",
      "단지코드_C1668      -163.3237   2.57e-05  -6.36e+06      0.000    -163.324    -163.324\n",
      "단지코드_C1672         8.1304   2.89e-05   2.81e+05      0.000       8.130       8.131\n",
      "단지코드_C1673        92.0447    1.7e-05   5.41e+06      0.000      92.045      92.045\n",
      "단지코드_C1674        12.5226   1.58e-05   7.93e+05      0.000      12.523      12.523\n",
      "단지코드_C1677        89.9620    1.3e-05    6.9e+06      0.000      89.962      89.962\n",
      "단지코드_C1681        14.7490   1.38e-05   1.07e+06      0.000      14.749      14.749\n",
      "단지코드_C1685       116.0401   1.76e-05    6.6e+06      0.000     116.040     116.040\n",
      "단지코드_C1687      -317.2652   3.03e-05  -1.05e+07      0.000    -317.265    -317.265\n",
      "단지코드_C1689        -9.1118   2.78e-05  -3.28e+05      0.000      -9.112      -9.112\n",
      "단지코드_C1693       377.4913   3.85e-06   9.82e+07      0.000     377.491     377.491\n",
      "단지코드_C1695       -12.6475   4.46e-05  -2.84e+05      0.000     -12.648     -12.647\n",
      "단지코드_C1697      -156.9475   8.81e-06  -1.78e+07      0.000    -156.948    -156.948\n",
      "단지코드_C1698      -115.3447   1.56e-05   -7.4e+06      0.000    -115.345    -115.345\n",
      "단지코드_C1699      -107.3715   2.91e-05  -3.69e+06      0.000    -107.372    -107.371\n",
      "단지코드_C1700        71.6587   2.84e-05   2.53e+06      0.000      71.659      71.659\n",
      "단지코드_C1704       152.4687   4.63e-05    3.3e+06      0.000     152.469     152.469\n",
      "단지코드_C1706       -70.8839   6.25e-06  -1.13e+07      0.000     -70.884     -70.884\n",
      "단지코드_C1713        59.4177   3.08e-05   1.93e+06      0.000      59.418      59.418\n",
      "단지코드_C1718        -4.9332   5.58e-05  -8.85e+04      0.000      -4.933      -4.933\n",
      "단지코드_C1722       306.9618   3.25e-05   9.44e+06      0.000     306.962     306.962\n",
      "단지코드_C1724      -151.9972      7e-05  -2.17e+06      0.000    -151.997    -151.997\n",
      "단지코드_C1732       -14.3409   5.73e-05   -2.5e+05      0.000     -14.341     -14.341\n",
      "단지코드_C1738       182.9336   2.74e-05   6.68e+06      0.000     182.934     182.934\n",
      "단지코드_C1740      -204.1846   1.79e-05  -1.14e+07      0.000    -204.185    -204.185\n",
      "단지코드_C1743       491.9215   2.27e-05   2.17e+07      0.000     491.921     491.922\n",
      "단지코드_C1744       193.7946      3e-05   6.47e+06      0.000     193.795     193.795\n",
      "단지코드_C1756      -109.7858    2.1e-05  -5.23e+06      0.000    -109.786    -109.786\n",
      "단지코드_C1757       -20.3227   4.54e-05  -4.48e+05      0.000     -20.323     -20.323\n",
      "단지코드_C1761        87.7262   1.53e-05   5.72e+06      0.000      87.726      87.726\n",
      "단지코드_C1762       105.4998   8.36e-06   1.26e+07      0.000     105.500     105.500\n",
      "단지코드_C1768       288.6187   6.99e-06   4.13e+07      0.000     288.619     288.619\n",
      "단지코드_C1773      -117.6053   5.68e-06  -2.07e+07      0.000    -117.605    -117.605\n",
      "단지코드_C1775       -57.7249   2.48e-05  -2.32e+06      0.000     -57.725     -57.725\n",
      "단지코드_C1783       -46.3648   1.01e-05  -4.57e+06      0.000     -46.365     -46.365\n",
      "단지코드_C1786        90.4263    3.2e-05   2.82e+06      0.000      90.426      90.426\n",
      "단지코드_C1788       -64.3051   1.89e-05   -3.4e+06      0.000     -64.305     -64.305\n",
      "단지코드_C1790       -64.8977   1.26e-05  -5.15e+06      0.000     -64.898     -64.898\n",
      "단지코드_C1802        79.0714   4.81e-06   1.64e+07      0.000      79.071      79.071\n",
      "단지코드_C1803        83.5419   3.86e-05   2.16e+06      0.000      83.542      83.542\n",
      "단지코드_C1804        24.3384   1.69e-05   1.44e+06      0.000      24.338      24.338\n",
      "단지코드_C1819        39.4408   1.06e-05   3.71e+06      0.000      39.441      39.441\n",
      "단지코드_C1823       122.8468   6.16e-06   1.99e+07      0.000     122.847     122.847\n",
      "단지코드_C1833      -319.0233    4.7e-05  -6.78e+06      0.000    -319.023    -319.023\n",
      "단지코드_C1834       -57.4147   3.19e-05   -1.8e+06      0.000     -57.415     -57.415\n",
      "단지코드_C1837       139.0974   7.74e-06    1.8e+07      0.000     139.097     139.097\n",
      "단지코드_C1845       -52.6993   2.51e-05   -2.1e+06      0.000     -52.699     -52.699\n",
      "단지코드_C1848      -391.6871   8.66e-06  -4.52e+07      0.000    -391.687    -391.687\n",
      "단지코드_C1850        -6.0980   3.46e-05  -1.76e+05      0.000      -6.098      -6.098\n",
      "단지코드_C1859      -293.1156   1.46e-05  -2.01e+07      0.000    -293.116    -293.116\n",
      "단지코드_C1861        27.3070   1.94e-05   1.41e+06      0.000      27.307      27.307\n",
      "단지코드_C1863      -259.1797   5.52e-06  -4.69e+07      0.000    -259.180    -259.180\n",
      "단지코드_C1866      -123.2083   1.92e-05  -6.42e+06      0.000    -123.208    -123.208\n",
      "단지코드_C1867       -37.2274   3.64e-05  -1.02e+06      0.000     -37.227     -37.227\n",
      "단지코드_C1871        41.3680    1.6e-05   2.58e+06      0.000      41.368      41.368\n",
      "단지코드_C1874       -40.8666   2.98e-05  -1.37e+06      0.000     -40.867     -40.866\n",
      "단지코드_C1875        13.2945   1.02e-05    1.3e+06      0.000      13.295      13.295\n",
      "단지코드_C1879        56.8863   1.16e-05   4.91e+06      0.000      56.886      56.886\n",
      "단지코드_C1880       250.6449   7.19e-06   3.48e+07      0.000     250.645     250.645\n",
      "단지코드_C1885      -139.9805   3.67e-05  -3.81e+06      0.000    -139.981    -139.980\n",
      "단지코드_C1889        70.3393   2.32e-05   3.04e+06      0.000      70.339      70.339\n",
      "단지코드_C1896       153.1605   6.93e-06   2.21e+07      0.000     153.160     153.160\n",
      "단지코드_C1898      -106.9266   5.87e-05  -1.82e+06      0.000    -106.927    -106.926\n",
      "단지코드_C1899      -118.0850    1.8e-05  -6.55e+06      0.000    -118.085    -118.085\n",
      "단지코드_C1900        94.6602   1.53e-05   6.19e+06      0.000      94.660      94.660\n",
      "단지코드_C1907        50.1084   4.23e-06   1.19e+07      0.000      50.108      50.108\n",
      "단지코드_C1910       127.3343   4.12e-05   3.09e+06      0.000     127.334     127.334\n",
      "단지코드_C1911        58.5632   1.32e-05   4.44e+06      0.000      58.563      58.563\n",
      "단지코드_C1916       -89.8437    8.1e-06  -1.11e+07      0.000     -89.844     -89.844\n",
      "단지코드_C1925       -74.3836   5.35e-05  -1.39e+06      0.000     -74.384     -74.384\n",
      "단지코드_C1929        93.9170   5.09e-06   1.84e+07      0.000      93.917      93.917\n",
      "단지코드_C1933       212.2383   1.36e-05   1.56e+07      0.000     212.238     212.238\n",
      "단지코드_C1936      -122.5191   4.22e-05   -2.9e+06      0.000    -122.519    -122.519\n",
      "단지코드_C1939       314.1151   4.99e-05   6.29e+06      0.000     314.115     314.115\n",
      "단지코드_C1940       217.9034   2.27e-05   9.61e+06      0.000     217.903     217.903\n",
      "단지코드_C1941       -34.3138   5.57e-06  -6.16e+06      0.000     -34.314     -34.314\n",
      "단지코드_C1945        10.3235   4.55e-05   2.27e+05      0.000      10.323      10.324\n",
      "단지코드_C1962        84.9271   1.54e-05    5.5e+06      0.000      84.927      84.927\n",
      "단지코드_C1965        49.8743   3.94e-06   1.26e+07      0.000      49.874      49.874\n",
      "단지코드_C1967        76.9037   8.33e-06   9.24e+06      0.000      76.904      76.904\n",
      "단지코드_C1968      -161.6046   5.24e-05  -3.09e+06      0.000    -161.605    -161.604\n",
      "단지코드_C1969      -184.4962   5.85e-06  -3.15e+07      0.000    -184.496    -184.496\n",
      "단지코드_C1970       -71.0392   6.24e-05  -1.14e+06      0.000     -71.039     -71.039\n",
      "단지코드_C1973       -17.1676   1.84e-05  -9.32e+05      0.000     -17.168     -17.168\n",
      "단지코드_C1979       -49.3474   3.55e-05  -1.39e+06      0.000     -49.347     -49.347\n",
      "단지코드_C1983        56.3256   1.37e-05   4.12e+06      0.000      56.326      56.326\n",
      "단지코드_C1985        36.7503   1.25e-05   2.95e+06      0.000      36.750      36.750\n",
      "단지코드_C1987       115.4995   9.51e-06   1.21e+07      0.000     115.499     115.500\n",
      "단지코드_C1994       184.6162   2.07e-05   8.92e+06      0.000     184.616     184.616\n",
      "단지코드_C2000      -102.3451   2.64e-05  -3.87e+06      0.000    -102.345    -102.345\n",
      "단지코드_C2001      -119.9925   3.76e-05  -3.19e+06      0.000    -119.993    -119.992\n",
      "단지코드_C2008      -102.5876   2.16e-05  -4.74e+06      0.000    -102.588    -102.588\n",
      "단지코드_C2010        18.1164   1.08e-05   1.68e+06      0.000      18.116      18.116\n",
      "단지코드_C2013      -404.7542   4.62e-05  -8.76e+06      0.000    -404.754    -404.754\n",
      "단지코드_C2016        56.2468   4.09e-05   1.37e+06      0.000      56.247      56.247\n",
      "단지코드_C2020        36.7359   6.81e-05   5.39e+05      0.000      36.736      36.736\n",
      "단지코드_C2021       127.3509   7.13e-06   1.79e+07      0.000     127.351     127.351\n",
      "단지코드_C2032       389.5735   2.79e-05   1.39e+07      0.000     389.573     389.574\n",
      "단지코드_C2034      -206.2311   7.62e-06  -2.71e+07      0.000    -206.231    -206.231\n",
      "단지코드_C2035      -174.9704   3.75e-05  -4.66e+06      0.000    -174.970    -174.970\n",
      "단지코드_C2036        -4.0033   7.22e-06  -5.54e+05      0.000      -4.003      -4.003\n",
      "단지코드_C2038       -21.4022   1.54e-05  -1.39e+06      0.000     -21.402     -21.402\n",
      "단지코드_C2040      -106.7855   5.35e-06  -1.99e+07      0.000    -106.786    -106.786\n",
      "단지코드_C2042        95.2482    1.3e-05   7.32e+06      0.000      95.248      95.248\n",
      "단지코드_C2046       209.1136   2.36e-05   8.87e+06      0.000     209.114     209.114\n",
      "단지코드_C2049       151.7905   5.18e-05   2.93e+06      0.000     151.790     151.791\n",
      "단지코드_C2055        25.5897   9.98e-06   2.56e+06      0.000      25.590      25.590\n",
      "단지코드_C2059       -92.4893   4.71e-05  -1.96e+06      0.000     -92.489     -92.489\n",
      "단지코드_C2066      -117.1195   8.64e-06  -1.36e+07      0.000    -117.120    -117.120\n",
      "단지코드_C2068       169.5487    1.1e-05   1.54e+07      0.000     169.549     169.549\n",
      "단지코드_C2070      -173.7790   8.72e-06  -1.99e+07      0.000    -173.779    -173.779\n",
      "단지코드_C2071        54.9926   3.39e-05   1.62e+06      0.000      54.993      54.993\n",
      "단지코드_C2073         5.1496   6.52e-05    7.9e+04      0.000       5.149       5.150\n",
      "단지코드_C2082        60.8273    4.5e-06   1.35e+07      0.000      60.827      60.827\n",
      "단지코드_C2086       -29.1073   6.16e-06  -4.73e+06      0.000     -29.107     -29.107\n",
      "단지코드_C2089       -95.6643   2.89e-05  -3.31e+06      0.000     -95.664     -95.664\n",
      "단지코드_C2094       -92.5750   3.58e-06  -2.58e+07      0.000     -92.575     -92.575\n",
      "단지코드_C2096        68.6719   1.14e-05   6.03e+06      0.000      68.672      68.672\n",
      "단지코드_C2097      -155.7528    4.3e-05  -3.62e+06      0.000    -155.753    -155.753\n",
      "단지코드_C2099        68.5399   1.04e-05   6.58e+06      0.000      68.540      68.540\n",
      "단지코드_C2100       -13.8223   2.82e-05  -4.91e+05      0.000     -13.822     -13.822\n",
      "단지코드_C2106        -6.8980   3.51e-06  -1.96e+06      0.000      -6.898      -6.898\n",
      "단지코드_C2109       -83.0773   1.43e-05  -5.82e+06      0.000     -83.077     -83.077\n",
      "단지코드_C2127       -50.8435   1.33e-05  -3.83e+06      0.000     -50.844     -50.843\n",
      "단지코드_C2132      -297.4543   1.52e-05  -1.96e+07      0.000    -297.454    -297.454\n",
      "단지코드_C2133      -127.3718   1.23e-05  -1.04e+07      0.000    -127.372    -127.372\n",
      "단지코드_C2135       -37.0339   2.16e-05  -1.71e+06      0.000     -37.034     -37.034\n",
      "단지코드_C2137       -85.0754   2.54e-05  -3.36e+06      0.000     -85.075     -85.075\n",
      "단지코드_C2139       -44.4192   5.46e-05  -8.13e+05      0.000     -44.419     -44.419\n",
      "단지코드_C2141        34.6127   2.38e-05   1.46e+06      0.000      34.613      34.613\n",
      "단지코드_C2142       -88.5852   2.73e-05  -3.24e+06      0.000     -88.585     -88.585\n",
      "단지코드_C2143       -16.3334   1.29e-05  -1.26e+06      0.000     -16.333     -16.333\n",
      "단지코드_C2153       -17.5263   4.03e-05  -4.35e+05      0.000     -17.526     -17.526\n",
      "단지코드_C2154       -76.3255   5.27e-05  -1.45e+06      0.000     -76.326     -76.325\n",
      "단지코드_C2156       -53.0664   1.06e-05  -5.02e+06      0.000     -53.066     -53.066\n",
      "단지코드_C2162        55.4274   5.43e-06   1.02e+07      0.000      55.427      55.427\n",
      "단지코드_C2173        72.1067   1.64e-05    4.4e+06      0.000      72.107      72.107\n",
      "단지코드_C2181        12.5264   3.35e-06   3.74e+06      0.000      12.526      12.526\n",
      "단지코드_C2186       -55.4241   6.89e-05  -8.05e+05      0.000     -55.424     -55.424\n",
      "단지코드_C2188       -92.8075   1.04e-05  -8.92e+06      0.000     -92.808     -92.807\n",
      "단지코드_C2190       -16.5959   2.81e-05   -5.9e+05      0.000     -16.596     -16.596\n",
      "단지코드_C2192       -55.5341   7.26e-06  -7.65e+06      0.000     -55.534     -55.534\n",
      "단지코드_C2202       -66.1662   4.91e-05  -1.35e+06      0.000     -66.166     -66.166\n",
      "단지코드_C2208       142.2372   2.14e-05   6.64e+06      0.000     142.237     142.237\n",
      "단지코드_C2211       -35.8894   2.24e-05   -1.6e+06      0.000     -35.889     -35.889\n",
      "단지코드_C2212      -127.0939   1.29e-05  -9.82e+06      0.000    -127.094    -127.094\n",
      "단지코드_C2216        45.8028    1.6e-05   2.87e+06      0.000      45.803      45.803\n",
      "단지코드_C2221       -24.9734   3.43e-05  -7.29e+05      0.000     -24.973     -24.973\n",
      "단지코드_C2225       -58.9082   3.01e-05  -1.96e+06      0.000     -58.908     -58.908\n",
      "단지코드_C2227        41.6312   9.02e-06   4.61e+06      0.000      41.631      41.631\n",
      "단지코드_C2232      -211.2228   1.66e-05  -1.27e+07      0.000    -211.223    -211.223\n",
      "단지코드_C2237        13.4854   4.19e-05   3.22e+05      0.000      13.485      13.485\n",
      "단지코드_C2245        90.7592   4.42e-05   2.05e+06      0.000      90.759      90.759\n",
      "단지코드_C2251       116.4719   1.65e-05   7.05e+06      0.000     116.472     116.472\n",
      "단지코드_C2255        22.2215   4.43e-05   5.02e+05      0.000      22.221      22.222\n",
      "단지코드_C2256        59.6774   1.71e-05   3.49e+06      0.000      59.677      59.677\n",
      "단지코드_C2258      -118.1876   2.56e-05  -4.61e+06      0.000    -118.188    -118.188\n",
      "단지코드_C2259      -152.5969   5.52e-06  -2.76e+07      0.000    -152.597    -152.597\n",
      "단지코드_C2262       165.4344   2.26e-05   7.31e+06      0.000     165.434     165.434\n",
      "단지코드_C2274      -237.4526   3.16e-06  -7.52e+07      0.000    -237.453    -237.453\n",
      "단지코드_C2276       423.2850   4.97e-06   8.52e+07      0.000     423.285     423.285\n",
      "단지코드_C2287        13.6863   6.41e-06   2.13e+06      0.000      13.686      13.686\n",
      "단지코드_C2289       163.4070   3.25e-06   5.03e+07      0.000     163.407     163.407\n",
      "단지코드_C2298       174.6973   6.52e-05   2.68e+06      0.000     174.697     174.697\n",
      "단지코드_C2308       -12.0194   7.13e-06  -1.68e+06      0.000     -12.019     -12.019\n",
      "단지코드_C2310        20.5050   1.57e-05   1.31e+06      0.000      20.505      20.505\n",
      "단지코드_C2314        74.8192   4.39e-05    1.7e+06      0.000      74.819      74.819\n",
      "단지코드_C2316      -136.2312   8.47e-06  -1.61e+07      0.000    -136.231    -136.231\n",
      "단지코드_C2319      -288.0587    2.2e-05  -1.31e+07      0.000    -288.059    -288.059\n",
      "단지코드_C2325        -8.3063   8.59e-06  -9.67e+05      0.000      -8.306      -8.306\n",
      "단지코드_C2326       129.8177   3.34e-05   3.89e+06      0.000     129.818     129.818\n",
      "단지코드_C2328       -62.3439   1.97e-05  -3.17e+06      0.000     -62.344     -62.344\n",
      "단지코드_C2329      -100.0572   1.39e-05   -7.2e+06      0.000    -100.057    -100.057\n",
      "단지코드_C2336        85.3866   2.17e-05   3.93e+06      0.000      85.387      85.387\n",
      "단지코드_C2340        91.9547    2.7e-05   3.41e+06      0.000      91.955      91.955\n",
      "단지코드_C2346       137.8596    3.4e-06   4.05e+07      0.000     137.860     137.860\n",
      "단지코드_C2351      -184.4366   1.13e-05  -1.64e+07      0.000    -184.437    -184.437\n",
      "단지코드_C2352       -21.9201   1.94e-05  -1.13e+06      0.000     -21.920     -21.920\n",
      "단지코드_C2357        57.1823   1.49e-05   3.84e+06      0.000      57.182      57.182\n",
      "단지코드_C2358       230.0721   3.63e-06   6.34e+07      0.000     230.072     230.072\n",
      "단지코드_C2359        72.9567   4.79e-05   1.52e+06      0.000      72.957      72.957\n",
      "단지코드_C2361       118.8672   2.47e-05   4.82e+06      0.000     118.867     118.867\n",
      "단지코드_C2362      -580.8513   1.91e-05  -3.04e+07      0.000    -580.851    -580.851\n",
      "단지코드_C2368      -174.2747   3.25e-05  -5.36e+06      0.000    -174.275    -174.275\n",
      "단지코드_C2371        46.9199   3.37e-05   1.39e+06      0.000      46.920      46.920\n",
      "단지코드_C2373       -73.7131   2.13e-05  -3.46e+06      0.000     -73.713     -73.713\n",
      "단지코드_C2377      -348.5233   2.82e-05  -1.23e+07      0.000    -348.523    -348.523\n",
      "단지코드_C2378       311.5423   4.13e-06   7.54e+07      0.000     311.542     311.542\n",
      "단지코드_C2383       201.4466   2.16e-05   9.32e+06      0.000     201.447     201.447\n",
      "단지코드_C2385        86.6515   3.83e-06   2.26e+07      0.000      86.651      86.651\n",
      "단지코드_C2389       -24.2568   8.58e-06  -2.83e+06      0.000     -24.257     -24.257\n",
      "단지코드_C2390        53.4130   1.75e-05   3.05e+06      0.000      53.413      53.413\n",
      "단지코드_C2393      -228.3992    3.9e-05  -5.85e+06      0.000    -228.399    -228.399\n",
      "단지코드_C2394       137.3192    7.6e-06   1.81e+07      0.000     137.319     137.319\n",
      "단지코드_C2401      -104.2236   4.49e-05  -2.32e+06      0.000    -104.224    -104.224\n",
      "단지코드_C2405       379.7606   7.51e-06   5.06e+07      0.000     379.761     379.761\n",
      "단지코드_C2412         0.4901   1.57e-05   3.11e+04      0.000       0.490       0.490\n",
      "단지코드_C2414        41.6399   4.15e-06      1e+07      0.000      41.640      41.640\n",
      "단지코드_C2416      -130.8268   3.54e-05  -3.69e+06      0.000    -130.827    -130.827\n",
      "단지코드_C2420      -150.8688   3.55e-06  -4.25e+07      0.000    -150.869    -150.869\n",
      "단지코드_C2433      -215.9802   3.87e-05  -5.58e+06      0.000    -215.980    -215.980\n",
      "단지코드_C2437        -8.0860   4.72e-05  -1.71e+05      0.000      -8.086      -8.086\n",
      "단지코드_C2445      -263.3622   3.75e-05  -7.03e+06      0.000    -263.362    -263.362\n",
      "단지코드_C2446       -60.2279   2.01e-05  -2.99e+06      0.000     -60.228     -60.228\n",
      "단지코드_C2450       -24.8251   2.71e-05  -9.14e+05      0.000     -24.825     -24.825\n",
      "단지코드_C2453         0.2770    3.1e-05   8947.525      0.000       0.277       0.277\n",
      "단지코드_C2458        89.3283    2.9e-05   3.08e+06      0.000      89.328      89.328\n",
      "단지코드_C2460       -16.5622   4.03e-06  -4.11e+06      0.000     -16.562     -16.562\n",
      "단지코드_C2470        49.3924   2.54e-05   1.95e+06      0.000      49.392      49.392\n",
      "단지코드_C2479        56.5686   1.01e-05   5.58e+06      0.000      56.569      56.569\n",
      "단지코드_C2481      -147.2707   3.33e-05  -4.43e+06      0.000    -147.271    -147.271\n",
      "단지코드_C2486        73.9353   2.97e-05   2.49e+06      0.000      73.935      73.935\n",
      "단지코드_C2488       -29.7820   9.99e-06  -2.98e+06      0.000     -29.782     -29.782\n",
      "단지코드_C2489       279.8441   1.98e-05   1.41e+07      0.000     279.844     279.844\n",
      "단지코드_C2490         0.1999   2.03e-05   9857.362      0.000       0.200       0.200\n",
      "단지코드_C2492        81.9408   2.11e-05   3.88e+06      0.000      81.941      81.941\n",
      "단지코드_C2496       146.6135   2.64e-05   5.55e+06      0.000     146.613     146.614\n",
      "단지코드_C2503        45.9006   4.53e-06   1.01e+07      0.000      45.901      45.901\n",
      "단지코드_C2505      -158.0867   2.88e-05   -5.5e+06      0.000    -158.087    -158.087\n",
      "단지코드_C2506        -1.0664   2.85e-06  -3.74e+05      0.000      -1.066      -1.066\n",
      "단지코드_C2507      -122.6098   4.99e-05  -2.46e+06      0.000    -122.610    -122.610\n",
      "단지코드_C2508       113.5345   5.36e-05   2.12e+06      0.000     113.534     113.535\n",
      "단지코드_C2513       202.3832   4.97e-05   4.07e+06      0.000     202.383     202.383\n",
      "단지코드_C2514       301.3023   2.05e-05   1.47e+07      0.000     301.302     301.302\n",
      "단지코드_C2515      -312.7721   6.83e-05  -4.58e+06      0.000    -312.772    -312.772\n",
      "단지코드_C2518        57.2026   1.95e-05   2.93e+06      0.000      57.203      57.203\n",
      "단지코드_C2520         2.6659   2.23e-05    1.2e+05      0.000       2.666       2.666\n",
      "단지코드_C2522       -43.7751   3.47e-06  -1.26e+07      0.000     -43.775     -43.775\n",
      "단지코드_C2526       -38.5364   6.48e-06  -5.95e+06      0.000     -38.536     -38.536\n",
      "단지코드_C2527        19.6493   8.84e-06   2.22e+06      0.000      19.649      19.649\n",
      "단지코드_C2530        34.5273   1.14e-05   3.02e+06      0.000      34.527      34.527\n",
      "단지코드_C2531        67.2976   3.47e-05   1.94e+06      0.000      67.297      67.298\n",
      "단지코드_C2532       -54.5537   5.53e-05  -9.86e+05      0.000     -54.554     -54.554\n",
      "단지코드_C2536       -39.7100      3e-05  -1.33e+06      0.000     -39.710     -39.710\n",
      "단지코드_C2538      -416.9525   3.38e-05  -1.23e+07      0.000    -416.953    -416.952\n",
      "단지코드_C2539        25.8371   5.32e-05   4.86e+05      0.000      25.837      25.837\n",
      "단지코드_C2549        95.7908   3.48e-05   2.75e+06      0.000      95.791      95.791\n",
      "단지코드_C2556        28.5664   3.29e-05   8.67e+05      0.000      28.566      28.566\n",
      "단지코드_C2560        64.3658   9.89e-06   6.51e+06      0.000      64.366      64.366\n",
      "단지코드_C2561        16.9340   2.43e-05   6.97e+05      0.000      16.934      16.934\n",
      "단지코드_C2563         6.9696    1.6e-05   4.35e+05      0.000       6.970       6.970\n",
      "단지코드_C2565       262.9264   6.29e-06   4.18e+07      0.000     262.926     262.926\n",
      "단지코드_C2568       -72.3791   3.84e-05  -1.89e+06      0.000     -72.379     -72.379\n",
      "단지코드_C2570       -16.8348   1.25e-05  -1.35e+06      0.000     -16.835     -16.835\n",
      "단지코드_C2571         1.8670   1.64e-05   1.14e+05      0.000       1.867       1.867\n",
      "단지코드_C2574      -133.2631   9.36e-06  -1.42e+07      0.000    -133.263    -133.263\n",
      "단지코드_C2576      -134.3573   6.25e-05  -2.15e+06      0.000    -134.357    -134.357\n",
      "단지코드_C2579      -141.1258   3.02e-05  -4.67e+06      0.000    -141.126    -141.126\n",
      "단지코드_C2583       409.2636    4.6e-05    8.9e+06      0.000     409.264     409.264\n",
      "단지코드_C2586       -12.1763    4.9e-05  -2.48e+05      0.000     -12.176     -12.176\n",
      "단지코드_C2587        72.5394   1.24e-05   5.84e+06      0.000      72.539      72.539\n",
      "단지코드_C2595       239.3315   2.95e-05   8.11e+06      0.000     239.331     239.332\n",
      "단지코드_C2596        84.2229      2e-05   4.22e+06      0.000      84.223      84.223\n",
      "단지코드_C2597        97.6373   2.95e-05   3.31e+06      0.000      97.637      97.637\n",
      "단지코드_C2601        12.3309   5.85e-06   2.11e+06      0.000      12.331      12.331\n",
      "단지코드_C2603       132.4986   5.48e-06   2.42e+07      0.000     132.499     132.499\n",
      "단지코드_C2605        18.9070   3.69e-05   5.13e+05      0.000      18.907      18.907\n",
      "단지코드_C2609       168.0900   2.25e-05   7.47e+06      0.000     168.090     168.090\n",
      "단지코드_C2612       156.9691   7.83e-06      2e+07      0.000     156.969     156.969\n",
      "단지코드_C2618      -303.7444   1.67e-05  -1.82e+07      0.000    -303.744    -303.744\n",
      "단지코드_C2620       540.9725   2.39e-05   2.26e+07      0.000     540.972     540.973\n",
      "단지코드_C2621        49.8412   3.34e-05   1.49e+06      0.000      49.841      49.841\n",
      "단지코드_C2627        73.9583   2.81e-05   2.63e+06      0.000      73.958      73.958\n",
      "단지코드_C2631        45.0738   2.34e-05   1.93e+06      0.000      45.074      45.074\n",
      "단지코드_C2635        96.1916   1.65e-05   5.83e+06      0.000      96.192      96.192\n",
      "단지코드_C2644       -31.3850   3.74e-06   -8.4e+06      0.000     -31.385     -31.385\n",
      "단지코드_C2650      -346.6494   4.15e-05  -8.35e+06      0.000    -346.649    -346.649\n",
      "단지코드_C2651       -53.1018   1.13e-05  -4.72e+06      0.000     -53.102     -53.102\n",
      "단지코드_C2657        76.2766      4e-06   1.91e+07      0.000      76.277      76.277\n",
      "단지코드_C2659      -113.8107   1.86e-05  -6.12e+06      0.000    -113.811    -113.811\n",
      "단지코드_C2661        66.2308   2.62e-05   2.52e+06      0.000      66.231      66.231\n",
      "단지코드_C2663       -14.7889   2.01e-05  -7.35e+05      0.000     -14.789     -14.789\n",
      "단지코드_C2666        71.8419   1.74e-05   4.12e+06      0.000      71.842      71.842\n",
      "단지코드_C2670      -141.1420   1.18e-05   -1.2e+07      0.000    -141.142    -141.142\n",
      "단지코드_C2680       124.6439   1.23e-05   1.01e+07      0.000     124.644     124.644\n",
      "단지코드_C2692       -10.7506   1.42e-05  -7.58e+05      0.000     -10.751     -10.751\n",
      "임대건물구분_상가        -27.3744   5.29e-06  -5.18e+06      0.000     -27.374     -27.374\n",
      "임대건물구분_아파트        90.8131   3.03e-05      3e+06      0.000      90.813      90.813\n",
      "지역_강원도             2.6921   4.87e-06   5.53e+05      0.000       2.692       2.692\n",
      "지역_경기도            15.3063   1.03e-05   1.48e+06      0.000      15.306      15.306\n",
      "지역_경상남도          -49.6440   3.29e-06  -1.51e+07      0.000     -49.644     -49.644\n",
      "지역_경상북도           98.0696    3.9e-06   2.51e+07      0.000      98.070      98.070\n",
      "지역_광주광역시         114.8720   7.31e-06   1.57e+07      0.000     114.872     114.872\n",
      "지역_대구광역시          71.8427   1.06e-05   6.76e+06      0.000      71.843      71.843\n",
      "지역_대전광역시         -70.3577   1.76e-05  -3.99e+06      0.000     -70.358     -70.358\n",
      "지역_부산광역시         -76.2478   1.27e-05     -6e+06      0.000     -76.248     -76.248\n",
      "지역_서울특별시         -45.4953   1.28e-05  -3.54e+06      0.000     -45.495     -45.495\n",
      "지역_세종특별자치시       206.9332   1.73e-05   1.19e+07      0.000     206.933     206.933\n",
      "지역_울산광역시         -73.0323    7.8e-06  -9.37e+06      0.000     -73.032     -73.032\n",
      "지역_전라남도            5.1692   7.48e-06   6.91e+05      0.000       5.169       5.169\n",
      "지역_전라북도          -10.5203   2.45e-06   -4.3e+06      0.000     -10.520     -10.520\n",
      "지역_제주특별자치도       -49.5309   1.19e-05  -4.18e+06      0.000     -49.531     -49.531\n",
      "지역_충청남도          -57.3723   1.29e-05  -4.44e+06      0.000     -57.372     -57.372\n",
      "지역_충청북도          -19.2459   7.93e-06  -2.43e+06      0.000     -19.246     -19.246\n",
      "공급유형_공공분양        105.2367   9.71e-06   1.08e+07      0.000     105.237     105.237\n",
      "공급유형_공공임대(10년)   171.9560   1.87e-05   9.21e+06      0.000     171.956     171.956\n",
      "공급유형_공공임대(50년)   -78.8425   1.25e-05  -6.28e+06      0.000     -78.843     -78.842\n",
      "공급유형_공공임대(5년)     49.3924   2.54e-05   1.95e+06      0.000      49.392      49.392\n",
      "공급유형_공공임대(분납)    171.9560    1.9e-05   9.04e+06      0.000     171.956     171.956\n",
      "공급유형_국민임대        -78.8425   1.19e-05  -6.64e+06      0.000     -78.843     -78.842\n",
      "공급유형_영구임대        -78.8425    1.2e-05  -6.59e+06      0.000     -78.843     -78.842\n",
      "공급유형_임대상가        -27.3744   5.29e-06  -5.18e+06      0.000     -27.374     -27.374\n",
      "공급유형_장기전세        -78.8425   1.42e-05  -5.56e+06      0.000     -78.843     -78.842\n",
      "공급유형_행복주택        -92.3580   6.45e-06  -1.43e+07      0.000     -92.358     -92.358\n",
      "자격유형_A            11.1429   5.67e-06   1.97e+06      0.000      11.143      11.143\n",
      "자격유형_B            -0.0661   2.13e-05  -3100.761      0.000      -0.066      -0.066\n",
      "자격유형_C            11.1429   6.42e-06   1.74e+06      0.000      11.143      11.143\n",
      "자격유형_D            77.8623   1.44e-05   5.39e+06      0.000      77.862      77.862\n",
      "자격유형_E            11.1429   5.82e-06   1.92e+06      0.000      11.143      11.143\n",
      "자격유형_F            11.1430   7.52e-06   1.48e+06      0.000      11.143      11.143\n",
      "자격유형_G            11.1429   6.28e-06   1.77e+06      0.000      11.143      11.143\n",
      "자격유형_H            11.1430   5.81e-06   1.92e+06      0.000      11.143      11.143\n",
      "자격유형_I            11.1429   6.14e-06   1.82e+06      0.000      11.143      11.143\n",
      "자격유형_J            24.6585   1.28e-05   1.93e+06      0.000      24.658      24.659\n",
      "자격유형_K            24.6585   1.28e-05   1.93e+06      0.000      24.658      24.659\n",
      "자격유형_L            24.6585   1.25e-05   1.98e+06      0.000      24.658      24.659\n",
      "자격유형_M           -55.4445   1.46e-05  -3.79e+06      0.000     -55.445     -55.444\n",
      "자격유형_N           -55.4445   1.42e-05   -3.9e+06      0.000     -55.445     -55.444\n",
      "자격유형_O           -55.4445   1.54e-05  -3.61e+06      0.000     -55.445     -55.444\n",
      "==============================================================================\n",
      "Omnibus:                     1118.210   Durbin-Watson:                   0.528\n",
      "Prob(Omnibus):                  0.000   Jarque-Bera (JB):            21126.050\n",
      "Skew:                          -1.364   Prob(JB):                         0.00\n",
      "Kurtosis:                      16.011   Cond. No.                     2.84e+24\n",
      "==============================================================================\n",
      "\n",
      "Notes:\n",
      "[1] Standard Errors assume that the covariance matrix of the errors is correctly specified.\n",
      "[2] The smallest eigenvalue is 2.96e-31. This might indicate that there are\n",
      "strong multicollinearity problems or that the design matrix is singular.\n"
     ]
    }
   ],
   "source": [
    "x_data1 = sm.add_constant(x_data, has_constant='add')\n",
    "model1 = sm.OLS(target, x_data1)\n",
    "result1 = model1.fit()\n",
    "print(result1.summary())"
   ]
  },
  {
   "cell_type": "code",
   "execution_count": 374,
   "metadata": {},
   "outputs": [
    {
     "name": "stdout",
     "output_type": "stream",
     "text": [
      "const         6.343878e+01\n",
      "Unnamed: 0   -7.121610e-09\n",
      "총세대수         -2.480128e-02\n",
      "전용면적         -5.597909e-09\n",
      "전용면적별세대수     -2.202065e-09\n",
      "                  ...     \n",
      "자격유형_K        2.465849e+01\n",
      "자격유형_L        2.465850e+01\n",
      "자격유형_M       -5.544450e+01\n",
      "자격유형_N       -5.544450e+01\n",
      "자격유형_O       -5.544451e+01\n",
      "Length: 465, dtype: float64\n"
     ]
    }
   ],
   "source": [
    "print(result1.params)"
   ]
  },
  {
   "cell_type": "code",
   "execution_count": 375,
   "metadata": {},
   "outputs": [
    {
     "data": {
      "text/html": [
       "<div>\n",
       "<style scoped>\n",
       "    .dataframe tbody tr th:only-of-type {\n",
       "        vertical-align: middle;\n",
       "    }\n",
       "\n",
       "    .dataframe tbody tr th {\n",
       "        vertical-align: top;\n",
       "    }\n",
       "\n",
       "    .dataframe thead th {\n",
       "        text-align: right;\n",
       "    }\n",
       "</style>\n",
       "<table border=\"1\" class=\"dataframe\">\n",
       "  <thead>\n",
       "    <tr style=\"text-align: right;\">\n",
       "      <th></th>\n",
       "      <th>Unnamed: 0</th>\n",
       "      <th>총세대수</th>\n",
       "      <th>전용면적</th>\n",
       "      <th>전용면적별세대수</th>\n",
       "      <th>공가수</th>\n",
       "      <th>임대보증금</th>\n",
       "      <th>임대료</th>\n",
       "      <th>지하철</th>\n",
       "      <th>버스</th>\n",
       "      <th>단지내주차면수</th>\n",
       "      <th>...</th>\n",
       "      <th>자격유형_F</th>\n",
       "      <th>자격유형_G</th>\n",
       "      <th>자격유형_H</th>\n",
       "      <th>자격유형_I</th>\n",
       "      <th>자격유형_J</th>\n",
       "      <th>자격유형_K</th>\n",
       "      <th>자격유형_L</th>\n",
       "      <th>자격유형_M</th>\n",
       "      <th>자격유형_N</th>\n",
       "      <th>자격유형_O</th>\n",
       "    </tr>\n",
       "  </thead>\n",
       "  <tbody>\n",
       "    <tr>\n",
       "      <th>Unnamed: 0</th>\n",
       "      <td>1.000000</td>\n",
       "      <td>-0.189625</td>\n",
       "      <td>-0.028996</td>\n",
       "      <td>0.121205</td>\n",
       "      <td>0.302107</td>\n",
       "      <td>0.453185</td>\n",
       "      <td>-0.007139</td>\n",
       "      <td>-0.143097</td>\n",
       "      <td>-0.049075</td>\n",
       "      <td>0.330206</td>\n",
       "      <td>...</td>\n",
       "      <td>-0.035686</td>\n",
       "      <td>-0.029366</td>\n",
       "      <td>0.269017</td>\n",
       "      <td>0.143837</td>\n",
       "      <td>0.299316</td>\n",
       "      <td>0.168653</td>\n",
       "      <td>0.162268</td>\n",
       "      <td>0.035378</td>\n",
       "      <td>0.156977</td>\n",
       "      <td>0.025243</td>\n",
       "    </tr>\n",
       "    <tr>\n",
       "      <th>총세대수</th>\n",
       "      <td>-0.189625</td>\n",
       "      <td>1.000000</td>\n",
       "      <td>0.035157</td>\n",
       "      <td>0.099209</td>\n",
       "      <td>0.069985</td>\n",
       "      <td>-0.122411</td>\n",
       "      <td>0.284511</td>\n",
       "      <td>0.210480</td>\n",
       "      <td>-0.001086</td>\n",
       "      <td>0.520272</td>\n",
       "      <td>...</td>\n",
       "      <td>0.096263</td>\n",
       "      <td>0.052109</td>\n",
       "      <td>0.119164</td>\n",
       "      <td>0.049817</td>\n",
       "      <td>-0.080033</td>\n",
       "      <td>-0.034901</td>\n",
       "      <td>-0.087390</td>\n",
       "      <td>0.000732</td>\n",
       "      <td>0.082008</td>\n",
       "      <td>0.000517</td>\n",
       "    </tr>\n",
       "    <tr>\n",
       "      <th>전용면적</th>\n",
       "      <td>-0.028996</td>\n",
       "      <td>0.035157</td>\n",
       "      <td>1.000000</td>\n",
       "      <td>-0.035081</td>\n",
       "      <td>-0.080264</td>\n",
       "      <td>0.139144</td>\n",
       "      <td>0.221593</td>\n",
       "      <td>-0.006644</td>\n",
       "      <td>-0.002794</td>\n",
       "      <td>0.058660</td>\n",
       "      <td>...</td>\n",
       "      <td>-0.017022</td>\n",
       "      <td>-0.019238</td>\n",
       "      <td>-0.039413</td>\n",
       "      <td>-0.077208</td>\n",
       "      <td>-0.098891</td>\n",
       "      <td>-0.061471</td>\n",
       "      <td>-0.052039</td>\n",
       "      <td>-0.022969</td>\n",
       "      <td>-0.047023</td>\n",
       "      <td>0.001079</td>\n",
       "    </tr>\n",
       "    <tr>\n",
       "      <th>전용면적별세대수</th>\n",
       "      <td>0.121205</td>\n",
       "      <td>0.099209</td>\n",
       "      <td>-0.035081</td>\n",
       "      <td>1.000000</td>\n",
       "      <td>0.162760</td>\n",
       "      <td>0.120832</td>\n",
       "      <td>-0.137212</td>\n",
       "      <td>-0.048144</td>\n",
       "      <td>0.045899</td>\n",
       "      <td>0.288788</td>\n",
       "      <td>...</td>\n",
       "      <td>0.148734</td>\n",
       "      <td>0.003213</td>\n",
       "      <td>0.109928</td>\n",
       "      <td>-0.014540</td>\n",
       "      <td>-0.020949</td>\n",
       "      <td>-0.009274</td>\n",
       "      <td>-0.042756</td>\n",
       "      <td>0.003032</td>\n",
       "      <td>0.004808</td>\n",
       "      <td>-0.007664</td>\n",
       "    </tr>\n",
       "    <tr>\n",
       "      <th>공가수</th>\n",
       "      <td>0.302107</td>\n",
       "      <td>0.069985</td>\n",
       "      <td>-0.080264</td>\n",
       "      <td>0.162760</td>\n",
       "      <td>1.000000</td>\n",
       "      <td>0.187745</td>\n",
       "      <td>-0.136349</td>\n",
       "      <td>-0.078113</td>\n",
       "      <td>0.043096</td>\n",
       "      <td>0.303954</td>\n",
       "      <td>...</td>\n",
       "      <td>-0.036104</td>\n",
       "      <td>0.007446</td>\n",
       "      <td>0.080284</td>\n",
       "      <td>-0.025920</td>\n",
       "      <td>0.216273</td>\n",
       "      <td>0.240237</td>\n",
       "      <td>-0.008335</td>\n",
       "      <td>0.047204</td>\n",
       "      <td>0.137510</td>\n",
       "      <td>0.033372</td>\n",
       "    </tr>\n",
       "    <tr>\n",
       "      <th>...</th>\n",
       "      <td>...</td>\n",
       "      <td>...</td>\n",
       "      <td>...</td>\n",
       "      <td>...</td>\n",
       "      <td>...</td>\n",
       "      <td>...</td>\n",
       "      <td>...</td>\n",
       "      <td>...</td>\n",
       "      <td>...</td>\n",
       "      <td>...</td>\n",
       "      <td>...</td>\n",
       "      <td>...</td>\n",
       "      <td>...</td>\n",
       "      <td>...</td>\n",
       "      <td>...</td>\n",
       "      <td>...</td>\n",
       "      <td>...</td>\n",
       "      <td>...</td>\n",
       "      <td>...</td>\n",
       "      <td>...</td>\n",
       "      <td>...</td>\n",
       "    </tr>\n",
       "    <tr>\n",
       "      <th>자격유형_K</th>\n",
       "      <td>0.168653</td>\n",
       "      <td>-0.034901</td>\n",
       "      <td>-0.061471</td>\n",
       "      <td>-0.009274</td>\n",
       "      <td>0.240237</td>\n",
       "      <td>0.145944</td>\n",
       "      <td>-0.141568</td>\n",
       "      <td>-0.043403</td>\n",
       "      <td>-0.057923</td>\n",
       "      <td>-0.028164</td>\n",
       "      <td>...</td>\n",
       "      <td>-0.003490</td>\n",
       "      <td>-0.006051</td>\n",
       "      <td>-0.025779</td>\n",
       "      <td>-0.014219</td>\n",
       "      <td>-0.020816</td>\n",
       "      <td>1.000000</td>\n",
       "      <td>-0.011636</td>\n",
       "      <td>-0.002849</td>\n",
       "      <td>-0.011089</td>\n",
       "      <td>-0.002014</td>\n",
       "    </tr>\n",
       "    <tr>\n",
       "      <th>자격유형_L</th>\n",
       "      <td>0.162268</td>\n",
       "      <td>-0.087390</td>\n",
       "      <td>-0.052039</td>\n",
       "      <td>-0.042756</td>\n",
       "      <td>-0.008335</td>\n",
       "      <td>0.052664</td>\n",
       "      <td>-0.050028</td>\n",
       "      <td>0.003375</td>\n",
       "      <td>-0.001733</td>\n",
       "      <td>-0.074804</td>\n",
       "      <td>...</td>\n",
       "      <td>-0.003490</td>\n",
       "      <td>-0.006051</td>\n",
       "      <td>-0.025779</td>\n",
       "      <td>-0.014219</td>\n",
       "      <td>-0.020816</td>\n",
       "      <td>-0.011636</td>\n",
       "      <td>1.000000</td>\n",
       "      <td>-0.002849</td>\n",
       "      <td>-0.011089</td>\n",
       "      <td>-0.002014</td>\n",
       "    </tr>\n",
       "    <tr>\n",
       "      <th>자격유형_M</th>\n",
       "      <td>0.035378</td>\n",
       "      <td>0.000732</td>\n",
       "      <td>-0.022969</td>\n",
       "      <td>0.003032</td>\n",
       "      <td>0.047204</td>\n",
       "      <td>-0.007984</td>\n",
       "      <td>-0.023742</td>\n",
       "      <td>-0.010627</td>\n",
       "      <td>-0.016874</td>\n",
       "      <td>0.002907</td>\n",
       "      <td>...</td>\n",
       "      <td>-0.000855</td>\n",
       "      <td>-0.001482</td>\n",
       "      <td>-0.006312</td>\n",
       "      <td>-0.003482</td>\n",
       "      <td>-0.005097</td>\n",
       "      <td>-0.002849</td>\n",
       "      <td>-0.002849</td>\n",
       "      <td>1.000000</td>\n",
       "      <td>-0.002715</td>\n",
       "      <td>-0.000493</td>\n",
       "    </tr>\n",
       "    <tr>\n",
       "      <th>자격유형_N</th>\n",
       "      <td>0.156977</td>\n",
       "      <td>0.082008</td>\n",
       "      <td>-0.047023</td>\n",
       "      <td>0.004808</td>\n",
       "      <td>0.137510</td>\n",
       "      <td>0.056185</td>\n",
       "      <td>-0.042227</td>\n",
       "      <td>-0.041361</td>\n",
       "      <td>-0.019578</td>\n",
       "      <td>0.087375</td>\n",
       "      <td>...</td>\n",
       "      <td>-0.003326</td>\n",
       "      <td>-0.005767</td>\n",
       "      <td>-0.024566</td>\n",
       "      <td>-0.013550</td>\n",
       "      <td>-0.019837</td>\n",
       "      <td>-0.011089</td>\n",
       "      <td>-0.011089</td>\n",
       "      <td>-0.002715</td>\n",
       "      <td>1.000000</td>\n",
       "      <td>-0.001920</td>\n",
       "    </tr>\n",
       "    <tr>\n",
       "      <th>자격유형_O</th>\n",
       "      <td>0.025243</td>\n",
       "      <td>0.000517</td>\n",
       "      <td>0.001079</td>\n",
       "      <td>-0.007664</td>\n",
       "      <td>0.033372</td>\n",
       "      <td>0.018987</td>\n",
       "      <td>0.003246</td>\n",
       "      <td>-0.007513</td>\n",
       "      <td>-0.011930</td>\n",
       "      <td>0.002055</td>\n",
       "      <td>...</td>\n",
       "      <td>-0.000604</td>\n",
       "      <td>-0.001047</td>\n",
       "      <td>-0.004462</td>\n",
       "      <td>-0.002461</td>\n",
       "      <td>-0.003603</td>\n",
       "      <td>-0.002014</td>\n",
       "      <td>-0.002014</td>\n",
       "      <td>-0.000493</td>\n",
       "      <td>-0.001920</td>\n",
       "      <td>1.000000</td>\n",
       "    </tr>\n",
       "  </tbody>\n",
       "</table>\n",
       "<p>464 rows × 464 columns</p>\n",
       "</div>"
      ],
      "text/plain": [
       "            Unnamed: 0      총세대수      전용면적  전용면적별세대수       공가수     임대보증금  \\\n",
       "Unnamed: 0    1.000000 -0.189625 -0.028996  0.121205  0.302107  0.453185   \n",
       "총세대수         -0.189625  1.000000  0.035157  0.099209  0.069985 -0.122411   \n",
       "전용면적         -0.028996  0.035157  1.000000 -0.035081 -0.080264  0.139144   \n",
       "전용면적별세대수      0.121205  0.099209 -0.035081  1.000000  0.162760  0.120832   \n",
       "공가수           0.302107  0.069985 -0.080264  0.162760  1.000000  0.187745   \n",
       "...                ...       ...       ...       ...       ...       ...   \n",
       "자격유형_K        0.168653 -0.034901 -0.061471 -0.009274  0.240237  0.145944   \n",
       "자격유형_L        0.162268 -0.087390 -0.052039 -0.042756 -0.008335  0.052664   \n",
       "자격유형_M        0.035378  0.000732 -0.022969  0.003032  0.047204 -0.007984   \n",
       "자격유형_N        0.156977  0.082008 -0.047023  0.004808  0.137510  0.056185   \n",
       "자격유형_O        0.025243  0.000517  0.001079 -0.007664  0.033372  0.018987   \n",
       "\n",
       "                 임대료       지하철        버스   단지내주차면수  ...    자격유형_F    자격유형_G  \\\n",
       "Unnamed: 0 -0.007139 -0.143097 -0.049075  0.330206  ... -0.035686 -0.029366   \n",
       "총세대수        0.284511  0.210480 -0.001086  0.520272  ...  0.096263  0.052109   \n",
       "전용면적        0.221593 -0.006644 -0.002794  0.058660  ... -0.017022 -0.019238   \n",
       "전용면적별세대수   -0.137212 -0.048144  0.045899  0.288788  ...  0.148734  0.003213   \n",
       "공가수        -0.136349 -0.078113  0.043096  0.303954  ... -0.036104  0.007446   \n",
       "...              ...       ...       ...       ...  ...       ...       ...   \n",
       "자격유형_K     -0.141568 -0.043403 -0.057923 -0.028164  ... -0.003490 -0.006051   \n",
       "자격유형_L     -0.050028  0.003375 -0.001733 -0.074804  ... -0.003490 -0.006051   \n",
       "자격유형_M     -0.023742 -0.010627 -0.016874  0.002907  ... -0.000855 -0.001482   \n",
       "자격유형_N     -0.042227 -0.041361 -0.019578  0.087375  ... -0.003326 -0.005767   \n",
       "자격유형_O      0.003246 -0.007513 -0.011930  0.002055  ... -0.000604 -0.001047   \n",
       "\n",
       "              자격유형_H    자격유형_I    자격유형_J    자격유형_K    자격유형_L    자격유형_M  \\\n",
       "Unnamed: 0  0.269017  0.143837  0.299316  0.168653  0.162268  0.035378   \n",
       "총세대수        0.119164  0.049817 -0.080033 -0.034901 -0.087390  0.000732   \n",
       "전용면적       -0.039413 -0.077208 -0.098891 -0.061471 -0.052039 -0.022969   \n",
       "전용면적별세대수    0.109928 -0.014540 -0.020949 -0.009274 -0.042756  0.003032   \n",
       "공가수         0.080284 -0.025920  0.216273  0.240237 -0.008335  0.047204   \n",
       "...              ...       ...       ...       ...       ...       ...   \n",
       "자격유형_K     -0.025779 -0.014219 -0.020816  1.000000 -0.011636 -0.002849   \n",
       "자격유형_L     -0.025779 -0.014219 -0.020816 -0.011636  1.000000 -0.002849   \n",
       "자격유형_M     -0.006312 -0.003482 -0.005097 -0.002849 -0.002849  1.000000   \n",
       "자격유형_N     -0.024566 -0.013550 -0.019837 -0.011089 -0.011089 -0.002715   \n",
       "자격유형_O     -0.004462 -0.002461 -0.003603 -0.002014 -0.002014 -0.000493   \n",
       "\n",
       "              자격유형_N    자격유형_O  \n",
       "Unnamed: 0  0.156977  0.025243  \n",
       "총세대수        0.082008  0.000517  \n",
       "전용면적       -0.047023  0.001079  \n",
       "전용면적별세대수    0.004808 -0.007664  \n",
       "공가수         0.137510  0.033372  \n",
       "...              ...       ...  \n",
       "자격유형_K     -0.011089 -0.002014  \n",
       "자격유형_L     -0.011089 -0.002014  \n",
       "자격유형_M     -0.002715 -0.000493  \n",
       "자격유형_N      1.000000 -0.001920  \n",
       "자격유형_O     -0.001920  1.000000  \n",
       "\n",
       "[464 rows x 464 columns]"
      ]
     },
     "execution_count": 375,
     "metadata": {},
     "output_type": "execute_result"
    }
   ],
   "source": [
    "x_data.corr()"
   ]
  },
  {
   "cell_type": "code",
   "execution_count": 377,
   "metadata": {
    "scrolled": false
   },
   "outputs": [
    {
     "name": "stderr",
     "output_type": "stream",
     "text": [
      "C:\\Users\\hu612\\Anaconda3\\lib\\site-packages\\matplotlib\\backends\\backend_agg.py:238: RuntimeWarning: Glyph 45800 missing from current font.\n",
      "  font.set_text(s, 0.0, flags=flags)\n",
      "C:\\Users\\hu612\\Anaconda3\\lib\\site-packages\\matplotlib\\backends\\backend_agg.py:238: RuntimeWarning: Glyph 51648 missing from current font.\n",
      "  font.set_text(s, 0.0, flags=flags)\n",
      "C:\\Users\\hu612\\Anaconda3\\lib\\site-packages\\matplotlib\\backends\\backend_agg.py:238: RuntimeWarning: Glyph 53076 missing from current font.\n",
      "  font.set_text(s, 0.0, flags=flags)\n",
      "C:\\Users\\hu612\\Anaconda3\\lib\\site-packages\\matplotlib\\backends\\backend_agg.py:238: RuntimeWarning: Glyph 46300 missing from current font.\n",
      "  font.set_text(s, 0.0, flags=flags)\n",
      "C:\\Users\\hu612\\Anaconda3\\lib\\site-packages\\matplotlib\\backends\\backend_agg.py:238: RuntimeWarning: Glyph 50669 missing from current font.\n",
      "  font.set_text(s, 0.0, flags=flags)\n",
      "C:\\Users\\hu612\\Anaconda3\\lib\\site-packages\\matplotlib\\backends\\backend_agg.py:238: RuntimeWarning: Glyph 49436 missing from current font.\n",
      "  font.set_text(s, 0.0, flags=flags)\n",
      "C:\\Users\\hu612\\Anaconda3\\lib\\site-packages\\matplotlib\\backends\\backend_agg.py:238: RuntimeWarning: Glyph 50872 missing from current font.\n",
      "  font.set_text(s, 0.0, flags=flags)\n",
      "C:\\Users\\hu612\\Anaconda3\\lib\\site-packages\\matplotlib\\backends\\backend_agg.py:238: RuntimeWarning: Glyph 53945 missing from current font.\n",
      "  font.set_text(s, 0.0, flags=flags)\n",
      "C:\\Users\\hu612\\Anaconda3\\lib\\site-packages\\matplotlib\\backends\\backend_agg.py:238: RuntimeWarning: Glyph 48324 missing from current font.\n",
      "  font.set_text(s, 0.0, flags=flags)\n",
      "C:\\Users\\hu612\\Anaconda3\\lib\\site-packages\\matplotlib\\backends\\backend_agg.py:238: RuntimeWarning: Glyph 49884 missing from current font.\n",
      "  font.set_text(s, 0.0, flags=flags)\n",
      "C:\\Users\\hu612\\Anaconda3\\lib\\site-packages\\matplotlib\\backends\\backend_agg.py:238: RuntimeWarning: Glyph 51088 missing from current font.\n",
      "  font.set_text(s, 0.0, flags=flags)\n",
      "C:\\Users\\hu612\\Anaconda3\\lib\\site-packages\\matplotlib\\backends\\backend_agg.py:238: RuntimeWarning: Glyph 44201 missing from current font.\n",
      "  font.set_text(s, 0.0, flags=flags)\n",
      "C:\\Users\\hu612\\Anaconda3\\lib\\site-packages\\matplotlib\\backends\\backend_agg.py:238: RuntimeWarning: Glyph 50976 missing from current font.\n",
      "  font.set_text(s, 0.0, flags=flags)\n",
      "C:\\Users\\hu612\\Anaconda3\\lib\\site-packages\\matplotlib\\backends\\backend_agg.py:238: RuntimeWarning: Glyph 54805 missing from current font.\n",
      "  font.set_text(s, 0.0, flags=flags)\n",
      "C:\\Users\\hu612\\Anaconda3\\lib\\site-packages\\matplotlib\\backends\\backend_agg.py:201: RuntimeWarning: Glyph 45800 missing from current font.\n",
      "  font.set_text(s, 0, flags=flags)\n",
      "C:\\Users\\hu612\\Anaconda3\\lib\\site-packages\\matplotlib\\backends\\backend_agg.py:201: RuntimeWarning: Glyph 51648 missing from current font.\n",
      "  font.set_text(s, 0, flags=flags)\n",
      "C:\\Users\\hu612\\Anaconda3\\lib\\site-packages\\matplotlib\\backends\\backend_agg.py:201: RuntimeWarning: Glyph 53076 missing from current font.\n",
      "  font.set_text(s, 0, flags=flags)\n",
      "C:\\Users\\hu612\\Anaconda3\\lib\\site-packages\\matplotlib\\backends\\backend_agg.py:201: RuntimeWarning: Glyph 46300 missing from current font.\n",
      "  font.set_text(s, 0, flags=flags)\n",
      "C:\\Users\\hu612\\Anaconda3\\lib\\site-packages\\matplotlib\\backends\\backend_agg.py:201: RuntimeWarning: Glyph 50669 missing from current font.\n",
      "  font.set_text(s, 0, flags=flags)\n",
      "C:\\Users\\hu612\\Anaconda3\\lib\\site-packages\\matplotlib\\backends\\backend_agg.py:201: RuntimeWarning: Glyph 49436 missing from current font.\n",
      "  font.set_text(s, 0, flags=flags)\n",
      "C:\\Users\\hu612\\Anaconda3\\lib\\site-packages\\matplotlib\\backends\\backend_agg.py:201: RuntimeWarning: Glyph 50872 missing from current font.\n",
      "  font.set_text(s, 0, flags=flags)\n",
      "C:\\Users\\hu612\\Anaconda3\\lib\\site-packages\\matplotlib\\backends\\backend_agg.py:201: RuntimeWarning: Glyph 53945 missing from current font.\n",
      "  font.set_text(s, 0, flags=flags)\n",
      "C:\\Users\\hu612\\Anaconda3\\lib\\site-packages\\matplotlib\\backends\\backend_agg.py:201: RuntimeWarning: Glyph 48324 missing from current font.\n",
      "  font.set_text(s, 0, flags=flags)\n",
      "C:\\Users\\hu612\\Anaconda3\\lib\\site-packages\\matplotlib\\backends\\backend_agg.py:201: RuntimeWarning: Glyph 49884 missing from current font.\n",
      "  font.set_text(s, 0, flags=flags)\n",
      "C:\\Users\\hu612\\Anaconda3\\lib\\site-packages\\matplotlib\\backends\\backend_agg.py:201: RuntimeWarning: Glyph 51088 missing from current font.\n",
      "  font.set_text(s, 0, flags=flags)\n",
      "C:\\Users\\hu612\\Anaconda3\\lib\\site-packages\\matplotlib\\backends\\backend_agg.py:201: RuntimeWarning: Glyph 44201 missing from current font.\n",
      "  font.set_text(s, 0, flags=flags)\n",
      "C:\\Users\\hu612\\Anaconda3\\lib\\site-packages\\matplotlib\\backends\\backend_agg.py:201: RuntimeWarning: Glyph 50976 missing from current font.\n",
      "  font.set_text(s, 0, flags=flags)\n",
      "C:\\Users\\hu612\\Anaconda3\\lib\\site-packages\\matplotlib\\backends\\backend_agg.py:201: RuntimeWarning: Glyph 54805 missing from current font.\n",
      "  font.set_text(s, 0, flags=flags)\n",
      "C:\\Users\\hu612\\Anaconda3\\lib\\site-packages\\matplotlib\\backends\\backend_agg.py:238: RuntimeWarning: Glyph 51228 missing from current font.\n",
      "  font.set_text(s, 0.0, flags=flags)\n",
      "C:\\Users\\hu612\\Anaconda3\\lib\\site-packages\\matplotlib\\backends\\backend_agg.py:238: RuntimeWarning: Glyph 51452 missing from current font.\n",
      "  font.set_text(s, 0.0, flags=flags)\n",
      "C:\\Users\\hu612\\Anaconda3\\lib\\site-packages\\matplotlib\\backends\\backend_agg.py:238: RuntimeWarning: Glyph 52824 missing from current font.\n",
      "  font.set_text(s, 0.0, flags=flags)\n",
      "C:\\Users\\hu612\\Anaconda3\\lib\\site-packages\\matplotlib\\backends\\backend_agg.py:238: RuntimeWarning: Glyph 46020 missing from current font.\n",
      "  font.set_text(s, 0.0, flags=flags)\n",
      "C:\\Users\\hu612\\Anaconda3\\lib\\site-packages\\matplotlib\\backends\\backend_agg.py:201: RuntimeWarning: Glyph 51228 missing from current font.\n",
      "  font.set_text(s, 0, flags=flags)\n",
      "C:\\Users\\hu612\\Anaconda3\\lib\\site-packages\\matplotlib\\backends\\backend_agg.py:201: RuntimeWarning: Glyph 51452 missing from current font.\n",
      "  font.set_text(s, 0, flags=flags)\n",
      "C:\\Users\\hu612\\Anaconda3\\lib\\site-packages\\matplotlib\\backends\\backend_agg.py:201: RuntimeWarning: Glyph 52824 missing from current font.\n",
      "  font.set_text(s, 0, flags=flags)\n",
      "C:\\Users\\hu612\\Anaconda3\\lib\\site-packages\\matplotlib\\backends\\backend_agg.py:201: RuntimeWarning: Glyph 46020 missing from current font.\n",
      "  font.set_text(s, 0, flags=flags)\n"
     ]
    },
    {
     "data": {
      "image/png": "[encoded data removed]",
      "text/plain": [
       "<Figure size 432x288 with 2 Axes>"
      ]
     },
     "metadata": {
      "needs_background": "light"
     },
     "output_type": "display_data"
    }
   ],
   "source": [
    "# 상관행렬 시각화\n",
    "import seaborn as sns                        #heatmap 만들기 위한 라이브러리\n",
    "cmap = sns.light_palette(\"darkgray\", as_cmap = True)  \n",
    "sns.heatmap(x_data1.corr(), annot = True, cmap = cmap)\n",
    "plt.show()"
   ]
  },
  {
   "cell_type": "code",
   "execution_count": 379,
   "metadata": {},
   "outputs": [
    {
     "data": {
      "text/plain": [
       "A    572\n",
       "D    180\n",
       "H     92\n",
       "J     84\n",
       "C     34\n",
       "K     16\n",
       "L     12\n",
       "E     10\n",
       "N     10\n",
       "I      7\n",
       "M      2\n",
       "G      1\n",
       "Name: 자격유형, dtype: int64"
      ]
     },
     "execution_count": 379,
     "metadata": {},
     "output_type": "execute_result"
    }
   ],
   "source": [
    "test['자격유형'].value_counts()"
   ]
  },
  {
   "cell_type": "code",
   "execution_count": null,
   "metadata": {},
   "outputs": [],
   "source": []
  },
  {
   "cell_type": "code",
   "execution_count": null,
   "metadata": {},
   "outputs": [],
   "source": []
  },
  {
   "cell_type": "code",
   "execution_count": null,
   "metadata": {},
   "outputs": [],
   "source": []
  }
 ],
 "metadata": {
  "kernelspec": {
   "display_name": "Python 3",
   "language": "python",
   "name": "python3"
  },
  "language_info": {
   "codemirror_mode": {
    "name": "ipython",
    "version": 3
   },
   "file_extension": ".py",
   "mimetype": "text/x-python",
   "name": "python",
   "nbconvert_exporter": "python",
   "pygments_lexer": "ipython3",
   "version": "3.8.5"
  }
 },
 "nbformat": 4,
 "nbformat_minor": 4
}
