{
 "cells": [
  {
   "cell_type": "markdown",
   "metadata": {},
   "source": [
    "## Dataset 불러오기"
   ]
  },
  {
   "cell_type": "code",
   "execution_count": 2,
   "metadata": {},
   "outputs": [],
   "source": [
    "import pandas as pd\n",
    "\n",
    "train = pd.read_csv(\"C:/Users/hu612/Desktop/School/sooda/주차수요 예측 ai/dataset/train.csv\")\n",
    "test = pd.read_csv(\"C:/Users/hu612/Desktop/School/sooda/주차수요 예측 ai/dataset/test.csv\")\n",
    "age_gender = pd.read_csv(\"C:/Users/hu612/Desktop/School/sooda/주차수요 예측 ai/dataset/age_gender_info.csv\")"
   ]
  },
  {
   "cell_type": "markdown",
   "metadata": {},
   "source": [
    "## Columns명 변경 : 지하철, 버스"
   ]
  },
  {
   "cell_type": "code",
   "execution_count": 3,
   "metadata": {},
   "outputs": [
    {
     "data": {
      "text/plain": [
       "Index(['단지코드', '총세대수', '임대건물구분', '지역', '공급유형', '전용면적', '전용면적별세대수', '공가수',\n",
       "       '자격유형', '임대보증금', '임대료', '도보 10분거리 내 지하철역 수(환승노선 수 반영)',\n",
       "       '도보 10분거리 내 버스정류장 수', '단지내주차면수', '등록차량수'],\n",
       "      dtype='object')"
      ]
     },
     "execution_count": 3,
     "metadata": {},
     "output_type": "execute_result"
    }
   ],
   "source": [
    "train.columns"
   ]
  },
  {
   "cell_type": "code",
   "execution_count": 4,
   "metadata": {},
   "outputs": [],
   "source": [
    "train.columns = ['단지코드', '총세대수', '임대건물구분', '지역', '공급유형', '전용면적', '전용면적별세대수', '공가수',\n",
    "       '자격유형', '임대보증금', '임대료', '지하철',\n",
    "       '버스', '단지내주차면수', '등록차량수']"
   ]
  },
  {
   "cell_type": "markdown",
   "metadata": {},
   "source": [
    "## 임대보증금, 임대료 문자열 0으로 변경"
   ]
  },
  {
   "cell_type": "code",
   "execution_count": 5,
   "metadata": {},
   "outputs": [],
   "source": [
    "train.loc[train['임대보증금'] == \"-\",'임대보증금'] = 0"
   ]
  },
  {
   "cell_type": "code",
   "execution_count": 6,
   "metadata": {},
   "outputs": [],
   "source": [
    "train.loc[train['임대료'] == \"-\",'임대료'] = 0"
   ]
  },
  {
   "cell_type": "markdown",
   "metadata": {},
   "source": [
    "## float -> int 변환 : 전용면적, 단지내주차면수, 등록차량수, 공가수\n",
    "\n",
    "나중에 임대보증금 임대료도 null값 다 채우고 int 변환"
   ]
  },
  {
   "cell_type": "code",
   "execution_count": 7,
   "metadata": {},
   "outputs": [],
   "source": [
    "# 전용면적 평수 변환\n",
    "train['전용면적']=round(train['전용면적']*0.3025,0)"
   ]
  },
  {
   "cell_type": "code",
   "execution_count": 8,
   "metadata": {},
   "outputs": [],
   "source": [
    "train[['전용면적','공가수','단지내주차면수','등록차량수']] = train[['전용면적','공가수','단지내주차면수','등록차량수']].astype(int)"
   ]
  },
  {
   "cell_type": "markdown",
   "metadata": {},
   "source": [
    "## 버스 null값 4개 처리"
   ]
  },
  {
   "cell_type": "code",
   "execution_count": 9,
   "metadata": {},
   "outputs": [
    {
     "data": {
      "text/plain": [
       "단지코드          0\n",
       "총세대수          0\n",
       "임대건물구분        0\n",
       "지역            0\n",
       "공급유형          0\n",
       "전용면적          0\n",
       "전용면적별세대수      0\n",
       "공가수           0\n",
       "자격유형          0\n",
       "임대보증금       569\n",
       "임대료         569\n",
       "지하철         211\n",
       "버스            4\n",
       "단지내주차면수       0\n",
       "등록차량수         0\n",
       "dtype: int64"
      ]
     },
     "execution_count": 9,
     "metadata": {},
     "output_type": "execute_result"
    }
   ],
   "source": [
    "train.isnull().sum()"
   ]
  },
  {
   "cell_type": "code",
   "execution_count": 10,
   "metadata": {},
   "outputs": [],
   "source": [
    "# 버스 null값 아파트가 양산에 있다고 추정\n",
    "# 근처 버스정류장을 새어보니 2개가 있었고\n",
    "# 양산은 지하철이 도로를 다니지 않기 때문에 0개를 넣음\n",
    "train.loc[train['버스'].isnull(),['지하철','버스']] = [0,2]"
   ]
  },
  {
   "cell_type": "code",
   "execution_count": 11,
   "metadata": {},
   "outputs": [
    {
     "data": {
      "text/plain": [
       "단지코드          0\n",
       "총세대수          0\n",
       "임대건물구분        0\n",
       "지역            0\n",
       "공급유형          0\n",
       "전용면적          0\n",
       "전용면적별세대수      0\n",
       "공가수           0\n",
       "자격유형          0\n",
       "임대보증금       569\n",
       "임대료         569\n",
       "지하철         207\n",
       "버스            0\n",
       "단지내주차면수       0\n",
       "등록차량수         0\n",
       "dtype: int64"
      ]
     },
     "execution_count": 11,
     "metadata": {},
     "output_type": "execute_result"
    }
   ],
   "source": [
    "# 클린\n",
    "train.isnull().sum()"
   ]
  },
  {
   "cell_type": "markdown",
   "metadata": {},
   "source": [
    "## 지하철 null값 0으로 채워주기\n",
    "\n",
    "\n",
    "광역시에 지하철이 많이 다니기 때문에 광역시를 제외한 시,도에는 0을 채워주었다.\n",
    "그러고 광역시끼리 해서 평균을 계산해봤을때, 0.xx가 나와서 null값을 0으로 채워주기로 하였다."
   ]
  },
  {
   "cell_type": "code",
   "execution_count": 16,
   "metadata": {},
   "outputs": [
    {
     "data": {
      "image/png": "[encoded data removed]",
      "text/plain": [
       "<Figure size 432x288 with 1 Axes>"
      ]
     },
     "metadata": {
      "needs_background": "light"
     },
     "output_type": "display_data"
    }
   ],
   "source": [
    "import matplotlib.pyplot as plt\n",
    "x = [0,1,2,3]\n",
    "y = [2306,400,33,6] # nan:230\n",
    "\n",
    "plt.bar(x,y)\n",
    "plt.show()"
   ]
  },
  {
   "cell_type": "code",
   "execution_count": 12,
   "metadata": {},
   "outputs": [],
   "source": [
    "train['지하철'].fillna(0, inplace=True) "
   ]
  },
  {
   "cell_type": "markdown",
   "metadata": {},
   "source": [
    "## 총세대수 != sum(전용면적별세대수)"
   ]
  },
  {
   "cell_type": "code",
   "execution_count": 13,
   "metadata": {},
   "outputs": [
    {
     "name": "stdout",
     "output_type": "stream",
     "text": [
      "['C1024', 'C1068', 'C1156', 'C1206', 'C1218', 'C1312', 'C1344', 'C1424', 'C1490', 'C1584', 'C1695', 'C1732', 'C1740', 'C1804', 'C1850', 'C1894', 'C1910', 'C1925', 'C1970', 'C2013', 'C2139', 'C2142', 'C2156', 'C2186', 'C2225', 'C2245', 'C2298', 'C2319', 'C2362', 'C2405', 'C2433', 'C2453', 'C2470', 'C2508', 'C2520', 'C2549', 'C2556', 'C2568', 'C2620', 'C2644']\n"
     ]
    },
    {
     "data": {
      "text/plain": [
       "40"
      ]
     },
     "execution_count": 13,
     "metadata": {},
     "output_type": "execute_result"
    }
   ],
   "source": [
    "# 총세대수와 전용면적별세대수의 합이 다르기 때문에\n",
    "# 어떤 단지코드가 다른지 알아보기 위한 코드\n",
    "\n",
    "code=train.groupby(['단지코드'])\n",
    "code=code.agg({'총세대수':'mean','전용면적별세대수':'sum'}).reset_index()\n",
    "diff=[]\n",
    "for i in range(len(code)):\n",
    "    if code['총세대수'][i]!=code['전용면적별세대수'][i]:\n",
    "        diff.append(code['단지코드'][i])\n",
    "print(diff)  \n",
    "len(diff)"
   ]
  },
  {
   "cell_type": "code",
   "execution_count": 15,
   "metadata": {},
   "outputs": [],
   "source": [
    "for i in diff:\n",
    "    code[code['단지코드']==i]"
   ]
  },
  {
   "cell_type": "markdown",
   "metadata": {},
   "source": [
    "총세대수 - 분양, 임대<br>\n",
    "전용면적별세대수 - 임대를 포함시킨다.\n",
    "\n",
    "합의 차이가 1 나는 경우 대부분 상가가 분양된 경우가 많다."
   ]
  },
  {
   "cell_type": "code",
   "execution_count": null,
   "metadata": {},
   "outputs": [],
   "source": []
  }
 ],
 "metadata": {
  "kernelspec": {
   "display_name": "Python 3",
   "language": "python",
   "name": "python3"
  },
  "language_info": {
   "codemirror_mode": {
    "name": "ipython",
    "version": 3
   },
   "file_extension": ".py",
   "mimetype": "text/x-python",
   "name": "python",
   "nbconvert_exporter": "python",
   "pygments_lexer": "ipython3",
   "version": "3.8.5"
  }
 },
 "nbformat": 4,
 "nbformat_minor": 4
}
